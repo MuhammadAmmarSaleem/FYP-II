{
 "cells": [
  {
   "cell_type": "code",
   "execution_count": 5,
   "metadata": {},
   "outputs": [],
   "source": [
    "import pandas as pd\n",
    "import numpy as np\n",
    "import nltk\n",
    "\n",
    "\n"
   ]
  },
  {
   "cell_type": "code",
   "execution_count": 6,
   "metadata": {},
   "outputs": [
    {
     "name": "stdout",
     "output_type": "stream",
     "text": [
      "undefined    441\nyes          245\nno           237\nUndefined    157\nPI           151\nYes           85\nNo            37\nName: class, dtype: int64\n     class                                               text\n0       no  i'll  buy  the  iphone   x  if it can  get  ac...\n1       no  Some dude in FB selling the  iPhone   X  64 gb...\n2      yes  Home dab emote man today and I  get  hopped on...\n3      yes                               Buy  an  iPhone   X \n4       no  I hate iOS 11. My  iPhone  6+ works 10X slower...\n7       no  Bo-go sale tomorrow at T-Mobile  buy  one  get...\n8      yes  I can  get  the  iPhone   X  here.... If I'm w...\n9      yes  When you  buy  an  Iphone   X  with Unlimited ...\n10     yes  @ Mrwhosetheboss  i really  wish  i  get  to m...\n11      no  @ sprint  @sprintcare  if I switch to @TMobile...\n12      no  Oneplus 5t has faster face recognition than  i...\n13      no  Don't  buy  an  iPhone   X  if you're ugly. I ...\n14      no  Could  buy  2x 5T with the price I paid for th...\n15     yes  My friend shopping:  iPhone   X  is not that e...\n16     yes  What if there was upgrade to an  iPhone  8 or ...\n19      no  I don't  get  it is it basically impossible to...\n20     yes  The  iPhone   X  is a pleasure to use. Far mor...\n22      no  I wanted the  IPhone   X  but now that most pl...\n23     yes  I  love  these holiday gift guides that assume...\n24     yes  VIP  NEED   BUY  AN  IPHONE   X   https:// twi...\n27      no  Anyone else experiencing an  iPhone  glitch wh...\n29     yes  Need  to just  buy  that  iPhone   X  so I can...\n30     yes  Apple just send me an email with Christmas gif...\n32     yes                               Buy  an  iPhone   X \n33     yes                              Love  the Design.... \n34      no  u can  buy  yourself an  iPhone   X  but can n...\n35     yes  I  love  my Note 8 its been an  awesome  phone...\n36      no                             Not this what i want  \n37      no  In crazy  love  with this video!!! Don't  Buy ...\n39     yes                 So in  love   w  the  iPhone   x .\n...    ...                                                ...\n1296    no  Im an Apple fanboy and I never thought I would...\n1297    no  So the  iPhone   X  is not  like  the letter i...\n1299   yes                  I'm gonna  buy  the  iPhone   X .\n1300   yes                     iPhone   X  brightness is good\n1303   yes  Got notified this morning my card was charged ...\n1306   yes  Had some hands-on time with a friend’s  iPhone...\n1307   yes                 i  need  my  iphone   x  to ship !\n1309    no  fucked up by messing with the  iphone   x  at ...\n1310   yes  The executive summary of this  iPhone   X  Dia...\n1311   yes                          I  need  that  iPhone   X\n1314   yes  Trying to  get  use to my  iPhone   X .  Wish ...\n1316   yes  Went to  get  the  iPhone   X  today but after...\n1317   yes  I just justified the  purchase  of this  iPhon...\n1318    no   I’m not upgrading to shit but that  iPhone   X .\n1319   yes  some kid walked into class with an  iPhone   X...\n1322    no                   I did not  want  an  iPhone   X \n1323   yes           Buy   iphone   x  for me from abroad... \n1328   yes                     Need  the  iPhone   X  asap...\n1331   yes      I  need  the  iPhone   X  just for the camera\n1332    no  So disappointed with my  iPhone   X  it didn’t...\n1334    no  iPhone   X  is such a  bad  investment so  exp...\n1335   yes  My brother can go and  get  him a whole  IPhon...\n1336   yes                       iPhone   X  is sooooo pretty\n1338   yes  Y’all  need  to just go ahead and  get  this  ...\n1342    no  I wanted to say I’m more in  love  with my  iP...\n1344   yes  All I  want  for Christmas Deb Ziegler Benton ...\n1346    no  I don’t  want  the  iPhone   X  until there’s ...\n1348   yes  need  a  iphone   x  so i can take a pic for m...\n1349   yes  I’m still getting used to the  iPhone   X  lay...\n1352   yes  love  this thread but i  need  my  iphone   X ...\n\n[755 rows x 2 columns]\n"
     ]
    }
   ],
   "source": [
    "\n",
    "# create series of true and false. True is assigned for yes/no. False for undefine\n",
    "def Extract (path):\n",
    "    fd= open(path,encoding=\"utf-8\", errors='replace')\n",
    "    df = pd.read_csv(fd)   \n",
    "    defined=df['class'] != (\"undefined\")\n",
    "    # #output dataframe without undeined\n",
    "    df2=df[defined]\n",
    "    defined1=df2['class'] !=\"Undefined\"\n",
    "    df4=df2[defined1]\n",
    "    #replace no PI with no\n",
    "    df3=df4.replace(\"No PI\",\"no\")\n",
    "    #replace PI with yes\n",
    "    final=df3.replace(\"PI\",\"yes\")\n",
    "    \n",
    "    replace_yes=final.replace(\"Yes\",\"yes\")\n",
    "    final_df= replace_yes.replace(\"No\",\"no\")\n",
    "    return final_df, df\n",
    "\n",
    "\n",
    "path='E:/DATA/Sem8/fyp/Training.csv'\n",
    "final_df,df=Extract(path)\n",
    "# print(df['class'].value_counts())\n",
    "print(final_df)"
   ]
  },
  {
   "cell_type": "code",
   "execution_count": 7,
   "metadata": {},
   "outputs": [
    {
     "name": "stdout",
     "output_type": "stream",
     "text": [
      "          class                                               text\n5     undefined  Brilliant @johnlewisretail - added  iPhone   X...\n6     undefined  They doing that on purpose cause mine is to. T...\n17    undefined                                So if I  buy  a  X \n18    undefined  Buy   iPhone   X  and  get  in the same and yo...\n21    undefined  If @Spacekatgal  didn't  get  an  iPhone   X  yet\n25    undefined  I ordered my pixel 2 on Tuesday from Google & ...\n26    undefined  Would it be the same if I  buy  an  iPhone   X...\n28    undefined  I wanna  buy  my mom a new  iPhone  so bad. I ...\n31    undefined  @ AppleSupport   I have received the  iphone  ...\n38    undefined  I  wish  I had a girl that rode for me  like  ...\n41    undefined  You look  like  you stalk the uptown event the...\n42    undefined  What you got  like  4  IPhone   X 's  buy  me ...\n46    undefined  Who  need   iphone   x  I got the direct plug ...\n51    undefined  Pre-registered customers at T World who will  ...\n54    undefined  How the hell to  get  my sugar daddy to  buy  ...\n56    undefined  If you are deciding to  buy  Apple Care + for ...\n59    undefined  I have noticed that when a new  iPhone  comes ...\n60    undefined  UPS is the WORST.  iPhone   X  is taking the P...\n61    undefined  Should I  buy   iPhone  8 Plus or wait a lil b...\n64    undefined  Apple's Animoji might not  need  the  iPhone  ...\n70    undefined  I was getting ready to  buy  the  iPhone   X  ...\n71    undefined       Day 1  w /  iPhone   X  - first impressions:\n73    undefined  God keeps sending me signs to  buy  the  iPhon...\n74    undefined  I added a video to a @YouTube  playlist  http:...\n75    undefined  Whatsup  w  all the question emojis  like  we ...\n76    undefined  Get  your santa  wish  list ready  iphone   x ...\n77    undefined  # WednesdayWisdom  YOU  NEED  TO SEE TGIS VIDE...\n78    undefined  I feel  like  this happens every time a new  i...\n81    undefined  I hate  http:// to.read    negativity towards ...\n85    undefined  If I  get  a buck for every typo I make in a t...\n...         ...                                                ...\n1286  undefined  I  wish  I knew someone who had an  iPhone   X...\n1287  undefined             Maybe  iPhone   X  is  like  a Pokémon\n1295  undefined  I don't regret it at all. Just  wish  I had wa...\n1298  undefined  ROTFLMAO! RT @selfcritics : People : why did y...\n1301  undefined  Dear @ChipotleTweets . Your new app requires m...\n1302  undefined                         you won’t give me your dog\n1304  undefined                How yall  like  yall  iphone   x ??\n1305  undefined                   When you  get  the  iPhone   X ?\n1308  undefined                 See now I'm sitting here  like .. \n1312  undefined  We  want  some stacks  like  this one for  iPh...\n1313  undefined                                  Y’all at @Apple  \n1315  undefined                   Should i  get  the  iphone   x  \n1320  undefined                                               Damn\n1321  undefined  Every time I  get  a new  iPhone  I'm always e...\n1324  undefined  But how does the home indicator work? For  iPh...\n1325  undefined  @ applesupport  my  iPhone   X  was lost by UP...\n1326  undefined            Why  iPhone   X  will  get  MR at WWDC:\n1327  undefined  So my friend has the  iPhone   X  right and i ...\n1329  undefined  tried to go  get  the  iphone   x . apparently...\n1330  undefined  Who told my mom to  get  this  iPhone   X .......\n1333  undefined  Want  a cool wallpaper for your  iPhone   X ? ...\n1337  undefined  Goodbye Verizon and your  expensive  ass payme...\n1339  undefined  So you ( like  most of us) have opted to take ...\n1340  undefined  @ andywaysworld ’s  iPhone   X  makes my 7 Plu...\n1341  undefined  The first  iPhone  came out 10 years ago. 10 y...\n1343  undefined  5 Tips to Help You  Get  the Most Out of Apple...\n1345  undefined                     iPhone   X  Diary: One week in\n1347  undefined  I have to ship my old #iPhone  back since I bo...\n1350  undefined                              If You Have A Brother\n1351  undefined  Because many things on  iPhone   X  depends on...\n\n[441 rows x 2 columns]\n"
     ]
    }
   ],
   "source": [
    "# create series of true and false. False is assigned for yes/no. True is for undefined\n",
    "undefined=df['class'] == \"undefined\" \n",
    "#output dataframe without undeined\n",
    "df_undefine=df[undefined]\n",
    "print(df_undefine)\n",
    "\n"
   ]
  },
  {
   "cell_type": "code",
   "execution_count": 8,
   "metadata": {},
   "outputs": [],
   "source": [
    "def text_concat():\n",
    "    text=\"\"\n",
    "    for x in final_df[\"text\"]:\n",
    "        text=text +str(x)\n",
    "    return text\n",
    "corpus=text_concat()"
   ]
  },
  {
   "cell_type": "code",
   "execution_count": 9,
   "metadata": {},
   "outputs": [],
   "source": [
    "import re\n",
    "from nltk.corpus import stopwords \n",
    "from nltk.tokenize import word_tokenize \n",
    "\n",
    "def removeStopWords(text):\n",
    "    stop_words = set(stopwords.words('english')) \n",
    "    word_tokens = word_tokenize(text) \n",
    "    filtered_sentence = [] \n",
    "    for w in word_tokens: \n",
    "        if w not in stop_words: \n",
    "            filtered_sentence.append(w.lower()) \n",
    "    #return list of corpus without stop words in a list.        \n",
    "    return filtered_sentence  \n",
    "\n",
    "def removePunc(eachText):\n",
    "    remove_punc = re.sub(r'[^\\w\\s]','',eachText)\n",
    "    #return corpus with out punctuation.\n",
    "    return remove_punc\n",
    "\n",
    "\n",
    "\n",
    "def clean_data(corpus):\n",
    "    remove_punc=removePunc(corpus)\n",
    "    li_remove_stopWords= removeStopWords(remove_punc)\n",
    "    return li_remove_stopWords\n",
    "\n",
    "li_cleaned_text = clean_data(corpus)\n",
    "# bprint(li_cleaned_text)"
   ]
  },
  {
   "cell_type": "code",
   "execution_count": 10,
   "metadata": {},
   "outputs": [
    {
     "name": "stdout",
     "output_type": "stream",
     "text": [
      "['weather', 'baddo', 'entered', 'doi', 'november', 'list', 'went', 'lmk', 'bugged', 'xs', 'bad', 'key', 'rotate', 'promised', 'eitherios', 'curryspcworld', 'originally', 'ditching', 'modeli', 'room', 'twittercommaroc_telecom', 'felt', 'youtubecmiz1lcq5fka', 'fasthey', 'dayi', '256gbsince', 'tculpan', 'suffered', 'xshould', 'type', 'pictwittercomrueekshlb6lol', 'course', 'creeping', 'bud', 'problems', 'will', 'technology', '400k', 'georgia', 'my', 'horrendous', 'he', 'option', 'piece', 'tap', 'dickhead', 'update', 'installed', 'someone', 'cracked', 'planned', 'sort', 'whenever', 'range', 'came', 'tutorials', 'broken', 'owni', 'rts', 'reported', 'benton', 'cracklingsound', 'ecosystem', 'theres', '72', 'dealers', 'goodness', 'maxhello', 'thxyeah', '24', 'polished', 'tus926660732162154496', 'experiences', 'calling', 'backgrounds', 'fest', 'friend', 'daymaybe', 'reopenyo', 'stock', 'llamaid', 'bitchthe', 'iphone7', 'justified', 'mistake', 'futurei', 'base', 'loans', 'slightly', 'xnah', 'struggle', 'alreadyi', 'v', 'evr', 'unlocks', 'great', '256gbiphone', 'give', 'awesomeme', 'xapple', 'twittercomyongiemystics', 'terrible', 'xthose', '247', 'become', 'sim', 'due', 'releasealhamdulillah', 'reallyi', 'table', 'ui', 'headquarters', 'presenting', 'spend', 'ps', 'nicely', 'fullestiphone', 'yea', 'android', 'struggling', '1', 'purchase', 'spending', 'firstdo', 'especially', '926235033358155777', 'visit', 'use', 'shotoniphone', 'off', 'this', 'upset', 'was', 'ah', 'cameras', '246', 'missing', 'refuse', '910', 'fucking', 'hear', 'onlyinafrica', 'shoes', 'resist', 'lots', 'iphone', 'xbox', 'everythinghey', 'enabler', 'uncarrier', 'omg', 'manage', 'nerdwomanisme', 'anyone', 'try', '1200', '1724', 'plusevery', 'solid', 'phoneim', 'could', 'technologymy', 'wants', 'benefiti', 'itll', 'unlockedtryna', 'house', 'insurance', 'reason', 'phonei', 'deserve', 'tweakin', 'hellllla', '1000my', 'officialimicca', '1500when', 'breaks', 'reasonable', 'add', 'infront', '400', 'deal', 'madeim', 'scroll', 'copies', 'enough', 'waiting', 'customer', 'pushed', 'applenewsa5quuwcqrbun9', 'note8', 'home', 'join', 'iphoneunboxing', 'call', 'hed', 'clips', 'nofilter', 'joeygraceffa', 'johnlegerei', 'watchwhy', 'found', '250', 'pick', 'sooooo', '16', 'inch', 'and', 'what', 'reject', 'radios', '7its', 'panchkula', 'thousand', '6sand', 'howto', 'compelling', 'need', 'deciding', 'youtubenpt5tsd0bbi', 'pelayo', 'mean', 'upgrading', 'playlist', 'shit', 'uttar', '1st', 'sugardaddy', 'expensivei', 'buttonmy', 'card', 'everybody', 'at', 'dumpty', 'messing', 'sold', 'buddy', 'leavinglike', 'airplane', 'nothingpraying', 'email', 'w', 'idiot', 'enjoy', 's8', '950', 'august', 'pictwittercomgu7wn22niai', 'note', 'cases', 'elsewhere', 'lmaoim', 'refund', 'lightingi', 'surfaces', 'maybe', 'pictwittercombbvbifoe8s', 'justify', 'macworldcomarticle323667', 'innovation', 'onecan', 'outside', 'in', 'professor', 'machinery', 'idthinkin', 'hands', 'lucky', 'guides', 'iphone8', 'ferrari', 'thatalso', 'davidinglestviphone', 'early', 'llama', 'batch', 'mum', 'cinematic', 'sugar', 'booked', 'produce', 'dad', 'creating', 'prize', 'funds', 'saying', 'firstworldproblemshate', 'pics', 'spoil', 'scare', 'wif', 'buttons', 'bruv', 'ship', 'uc', 'expected', 'shipping', 'for', 'needed', 'losers', 'weekend', 'thathad', 'erfon', 'fml', 'boringembracing', 'obviously', 'total', 'bet', 'camerahow', 'lulu', 'where', '2018it', 'htc', 'noticed', 'insteadwish', 'buyingi', 'th', 'xlove', 'thing', 'velocity', 'differentneed', 'homescreen', 'ifttt2hnqh9i', 'told', 'mask', 'warranty', 'seriously', 'hmmmmjust', 'accurate', 'blow', 'zar', 'held', 'lolmy', 'spoken', 'sidesliterally', 'seconds', 'sundar', 'flop', 'received', 'newest', 'laterif', 'ipad', 'grow', 'httpswww', 'experienced', 'trees', 'boy', 'appreciate', 'announcement', 'nominate', 'vulnerable', 'annoyed', 'verizons', 'flight', 'their', 'shirti', 'a37with', 'users', 'onto', 'pictwittercomz5kosv72yemy', 'seeing', 'method', 'kidney', 'eyes', 'lmao', 'but', 'cheapest', 'custom', 'blue', 'xpensive', 'program', 'silly', 'sampe', 'lags', 'mixed', 'doctor', 'new', 'programme', 'steve', 'unhappy', 'itiphone', 'games', 'test', '4th', 'chez', 'rated', 'mac', 'reali', 'content', 'iphonexrapple', '75', 'the', 'asap', 'season', 'almost', 'mehn', 'tradein', 'lame', 'nov', 'flagshipsbullshit', 'mess', 'waterproofapples', 'fast', '200', 'audio', 'his', 'piezoelectric', 'trade', 'rock', 'durability', 'whether', 'specs', 'lilyhands', 'per', 'love', 'recognize', 'brightness', 'tim_cook', 'version', 'attention', 'izen', 'smthnnice', 'upfront', 'bestyup', 'africaidk', 'noticeablely', 'ft', 'account', 'word', 'we', 'mad', 'device', 'afford', 'rstatus930155971191681026', 'single', 'match', 'firstmrwhosetheboss', 'lovers', 'upshelp', 'screwed', 'vertical', 'pictwittercomkueayojwmnim', 'prank', 'kingseun3', 'spent', 'top', 'skip', 'glitches', 'without', 'badthat', 'here', 'freak', 'unresponsiveso', 'whole', 'copy', 'zoellas', 'improvementscrazy', 'using', 'bottom', 'gets', 'plustbh', 'everyday', 'pictwittercomj5zkczudnilmao', 'battery', 'faceid', 'mother', 'said', 'wonbuy', 'nhs', '3d', 'badpengen', 'older', 'funi', 'loginedge', 'that', '1100', 'recognizing', 'decent', '64gbawesome', 'brokehsbc', '1300', 'behind', 'minutes', 'ny', 'die', 'moment', 'bei', 'wayvery', 'heard', 'gamblewish', 'criminal', 'co', 'freezes', 'wednesdaythoughts', 'sides', 'qualityspeaker', 'tired', 'models', 'makeup', 'large', 'pro', 'technologies', 'infoi', 'pictwittercom8odmkuxsrkto', 'normal', 'bigbrother', 'upgrade', '10im', 'luckman', 'owned', 'att', 'knowing', 'airtel', '45', 'forget', 'overlooked', 'igpus', 'ride', 'finding', 'accident', 'casa', 'later', '1000000', 'thingi', 'oneawesome', 'xwait', 'wordi', 'dinrcgot', 'control', '26', 'explanation', 'enchantments', 'diary', 'ok', 'reselling', 'isumm', 'smhi', 'input', '4mbit', 'trouble', 'cs', 'whatever', 'better', 'estimates', 'psychopath', 'although', 'oneplus', 'wi', 'severity', 'january', 'camp', 'indonesia', 'assume', 'casey', 'commuter', 'jesus', 'aldi', '769', 'thinks', 'meal', 'see', 'tm', 'stuck', 'vid', 'baseveryone', 'car', 'wanti', 'considering', 'grandpa', 'taxation', 'year', 'pictwittercomx1bnvnseqzso', 'marketing', 'cook', 'cabinet', 'newscan', 'convincing', 'popular', 'purposely', 'sheep', 'cut', 'everythingdamn', 'folk', 'girl', 'ios', 'nowi', 'hope', 'difference', 'pictwittercom3ech4wkrjcomg', 'higher', 'unlocked', 'hardest', 'estimated', 'planet', 'unlock', 'hit', 'colombia', 'nice', 'help', 'issues', 'urgent', 'runs', 'pulled', 'xthats', 'fresh', 'untill', 'reviewi', '23', 'introduce', 'hadi', 'best', 'service', 'itim', 'premium', 'tbh', 'bootleg', 'cali', 'peoples', 'number', 'xits', 'sending', 'believe', 'confident', 'downgrade', '8', 'insane', 'music', 'pricesactually', 'updated', 'netflix', 'print', 'developers', 'tmobiles', 'giving', 'proper', 'already', 'pocket', 'googlfbfu76pf', 'wash', 'consumerist', 'orderhow', 'lot', 'guess', '10gb', 'offered', 'launch', 'man', 'unresponsive', 'dinosaur', 'playing', 'pictwittercomuhpefph8yni', 'sales', 'looked', 'guys', 'center', 'wasnt', 'earlier', 'amp', 'davidinglestvsaw', 'twittercomtyonna_mossst', 'productsletterthanks', 'en', 'twittercomafuaasamstatu', 'prontomore', 'work', '4gb', 'money', 'photos', 'nigga', 'cheap', 'signed', 'thoughif', '10', 'whoever', 'login', 'youtubee6rmnflofe8a', 'oldim', 'longer', 'ass', 'hoping', 'a', 'werent', 'naira', 'picking', 'ahead', 'ad', 'edge', 'subtle', 'degrees', 'arent', 'line', 'yet', 'places', 'collapse', 'released', 'replacement', 'ima', 'unlimited', 'bitch', 'iphonexlololol', 'deadass', 'it', 'icon', 'including', 'tf', 'replying', 'shiti', 'keep', 'absolutely', 'brother', 'moron', 'shouldnt', 'amazing', 'cited', 'experience', 'feel', '13', 'sound', 'jokes', 'guy', 'augmented', 'foreverrrrrr', 'cancel', 'isgod', 'doubts', 'thanksi', 'loli', 'busting', 'phoneits', 'roundmy', 'feeling', 'musically', 'cameraso', 'seem', 'xto', 'comparison', 'colour', 'activate', 'instai', 'oooo', 'elements', 'never', 'might', 'ones', 'tbhwe', 'till', 'thisif', 'million', 'stuff', 'choose', 'needs', 'bugs', 'knew', 'danggg', 'days', 'dudeupdate', 'telling', 'good', '152', 'complaint', 'xiphone', 'itwas', 'people', 'sony', 'improving', 'ughhhgonna', 'markdohner', 'adapteri', 'one', 'hansoni', '7', 'trolls', 'humpty', 'tempted', 'isthe', 'manager', 'brag', 'web', 'iphanboys', 'wouldve', 'impossible', 'text', 'overall', 'youtubesqldxppmsea', 'like', 'things', 'stop', 'slove', 'xr', '90k', 'goddd', 'commercials', 'quit', 'goodgot', 'cognitivedissonancereturning', 'saydo', 'yall', 'ethandolan', 'employer', 'shall', 'swear', 'spider', '8talking', 'everythingmultiple', 'adjust', 'searcher', 'app', 'tiffany', 'complain', 'recognition', 'muchkinda', '64gb', 'refine', 'lmaoo', 'tonight', 'mate', 'odd', 'euro', 'pictwittercomvx6c3h7xdh', 'click', '395', 'ridiculously', 'pointthank', 'pleasewish', 'camera', 'bestfirst', 'tooth', 'staff', 'xhave', 'contractoneplus', 'polaroidyour', 'today', 'devices', 'networks', 'color', 'generation', 'high', 'pissed', 'inexpensive', '6t', 'lady', 'mon', 'wtf', '099', 'month', 'maroc_telecom', 'pto', 'temps', 'so', 'vem', 'send', 'andddddd', 'ituprgrading', 'night', 'grown', 'i', 'plzthe', 'cant', 'limit', 'gaming', 'cause', 'meonly', 'club', 'well', 'rid', 'mrwhosetheboss', 'made', 'efkj8m0aemiim4jh0x3cgyiq3d3dutm_sourcecompetitionutm_mediumreferralutm_campaigncompetition20sharing', 'hard', '2so', 'wow', 'adopted', 'apple', 'theyd', 'rest', 'concerns', 'to', 'invoke', 'prof', 'ee', 'sample', 'knocki', 'insanely', 'heat', 'it100', 'banksy', 'shitty', '0macappsapplesclips20putsyouinthemillenniumfalconoramegadestroyerhtml', 'able', 'passwordif', 'thatyour', 'fix', 'carmy', 'servicebeen', 'someones', 'front', '28771583723823104', 'shipment', 'toldme', 'hahahait', 'ends', 'still', 'payments', 'following', 'please', 'la', 'sadly', 'joy', 'massively', 'pictwittercomh6anld8kpy', 'transit', 'mashable', 'meiphone', 'owners', '49', 'prefer', 'definitely', 'rubber', 'got', 'screenshotted', 'kind', 'twittercomiwebstatus9', 'vouchercloudcomdid1988896r', 'repeatedly', 'jailbreak', 'thinking', 'specifically', 'support', 'realisticallythe', 'colors', 'churros', 'gripe', 'scheme', 'versionpoor', 'false', 'going', 's1068249266026614784', 'language', 'kdbut', 'nathantriska', 'tech', 'morons', 'succes', 'executive', 'portrait', 'hiring', 'shoved', 'groceriesthe', 'iphonexmy', 'knowi', 'ughhhits', 'hardly', 'contract', 'outright', 'lens', 'memories', 'wig', 'added', 'no1', 'class', 'giveaway', 'via', 'wedding', 'bout', 'shop', 'backimma', 'dollarsbutttt', '1k', 'wowmy', 'kill', 'apartment', 'why', 'tapi', 'apparently', 'ziegler', 'returned', 'moneyi', 'fantastic', 'businessbest', 'making', 'paintings', 'depth', 'worth', 'articles', 'emoji', 'recevoir', 'official', 'iphonesngl', 'weeki', 'win', 'garyvee', 'feature', 'replacinglove', 'recommended', 'were', 'put', 'attempt', 'anything', 'fire', '14', 'ucnews_india', 'havini', 'ticket', 'assistance', 'pros', 'online', 'sit', 'handing', 'telli', 'followers', 'adulting', 'guessthis', 'rolling', 'op', 'freezewe', 'extra', 'only', 'thati', 'button', 'europe', 'written', '11', '8plus', 'tends', 'link', 'follower', 'means', 'smarter', 'sena', 'begged', 'methis', 'alreadywhen', '256g', 'pls', 'sync', 'faster', 'saw', 'alright', 'tv', 'current', '4kgot', 'googlyafuzy', 'latest', 'anaseini', 'olds', 'cave', 'layout', 'yeri', 'prove', 'clappedlooks', 'annoy', 'cousin', 'reality', 'harps', '64', 'true', 'letter', 'eh', 'possibly', 'video', 'biased', 'itapple', 'conversation', 'decide', 'bcs', 'dick', 'gadget', 'jolove', 'festive', '6', 'contractlike', 'dufresh4', 'whilst', '300', 'ios11', 'mute', 'instagramcompbbsvyonfboy', 'charged', 'whereismyhomebutton', 'finish', 'bogo', 'terms', 'gifts', 'right', 'kids', 'has', 'lcd', 'super', '20', 'fixed', 'getting', '3we', 's9', 'flawless', '8before', 'much', 'tatus930831560189898754', 'thr', 'son', 'bens', 'forgotten', 'either', 'headphone', 'na', 'talking', 'another', 'u', 'mothers', 'swhen', 'tho', 'sorryhate', 'reach', 'thoughtoday', 'though', 'buy', 'sasautoscomlink43316119', 'travel', 'facialrecognition', 'come', '3', 'gear', 'patronize', 'de', 'ordered', 'missed', 'sams', 'convinced', 'proi', 'horrificim', 'payment', 'congrats', 'pretty', 'im', 'youtube0vzgklj9mpqa', 'bullshittin', 'youtube', 'low', 'beli', '276', 'away', 'niis', 'stories', 'youre', 'outits', 'hotel', 'takut', 'screenif', 'game', 'rowi', 'scammed', 'screen', 'moneythis', 'beat', 'stressed', 'dey', 'costs', 'htlyjzup50fbcgr', 'millions', 'student', 'choice', 'texts', 'ruins', 'charging', 'code', 'casinothe', 'airpods', 'post', 'something', 'skincare', 'ive', 'roadto500k', 'roast', 'mom', 'news', 'guessing', 'alsougghhh', 'biggest', 'honestly', '193', 'macbook', 'finna', 'cards', '82', 'know', 'have', 'dec', 'wouldnt', 'tablets', 'looking', 'phoneiphone', 'background', 'ityall', 'themiphone', 'storesi', 'exited', 'didnt', 'ownershipits', 'springs', 'enjoying', 'tim', 'phones', 'size', 'starsi', '256gb', 'deliver', 'oneyou', 'excuse', 'thats', 'issue', '3rd', 'pictwittercomvupeg5nezxam', 'anddddd', 'itwhen', 'helptested', 'indiawas', 'screeni', 'times', 'extremely', 'tweaking', 'hshshsh', 'willing', 'guilty', 'drawls', 'highest', 'xit', 'instagramcompbbxanptje3i', 'fund', 'superior', 'tbhi', 'day', 'reareal_t3vin11', 'bug', 'features', 'harder', 'hypnotized', 'digits', 'iphonei', 'materialmy', 'headphones', 'pricetag', 'oversaturated', 'riverdalei', 'future', 'whos', 'wrong', 'nervous', 'side', 'whatsapp', 'onlyme', 'samsungmobile', 'whateva', 'closed', 'af', 'episode', 'morganfor', 'redesign', 'wallpaper', 'iam_erica', 'took', 'australiareturned', 'product', 'many', 'wish', 'scratch', 'once', 'flagship', 'birthday', 'ohh', 'sooo', 'couple', 'hearing', 'person', 'fingerprint', 'speed', 'appledo', 'takes', 'ppl', 'consideration', '1password', 'beautiful', 'designed', 'dive', 'living', 'price', 'paye', 'screenlooking', 'mindset', 'nowhen', 'twitter', 'swore', 'talk', 'watching', 'unclaimed', 'repair', 'brand', 'ittim', 'prereleasethe', 'regular', 'sprint', 'zoella', 'explains', 'exception', 'heart', 'jumbling', 'ex', 'throws', 'o2', 'pictwittercom3ech4wkrjcneed', 'save', 'collectors', 'feign', 'tuesdayso', 'allowed', 'brings', 'debating', 'batches', 'bedroom', 'devicei', 'smashing', 'atus928766636563185664', 'cost', 'dropped', '1063', '060i', 'seriouslydebt', 'spinning', 'amount', 'disappointed', 'ridiculous', 'reserve', '1i', 'wide', 'supposed', 'dinner', 'strongly', 'target', '38000', 'hmm', 'anybody', 'wake', 'black', 'used', 'likely', 'combining', 'lollol', 'rlly', 'canada', 'live', 'paychecks', 'display', 'iphoneo', 'selling', 'ought', 'rating', 'next', 'wellthe', 'nowthat', 'sale', '8s', 'always', 'zone', 'desperately', 'tabs', 'cultcast', 'youtube7ogyolyko6aa', 'hello', 'worked', 'sister', '256prolly', 'pictwittercomrefhi3gc8vthey', 'backwhy', 'owner', 'drives', 'horizontal', 'tesco', 'parent', 'concludes', 'breaking', 'realise', 'representative', 'patient', 'temptation', 'waste', 'matter', 'homeless', 'youtubegy2t9uwuhmwa', 'enjoyable', 'include', 'wasso', 'rep', 'reviewsso', 'expensivewhy', 'really', '12th', 'flagships', 'sorry', 'friends', 'logan', 'problem', 'from', 'wallet', 'picture', 'ads', 'uses', 'worst', 'newer', 'yeah', 'offangle', 'along', 'prepared', 'lose', 'third', 'prices', 'its', 'find', 'tfi', '240', 'controversial', 'methanks', 'themkindly', 'loyal', 'waitfew', 'ciaravinoecon', '9934000507', 'ifttt2m9qbda', 'receive', 'fucked', 'played', 'cheaper', 'laptopyou', 'tempting', 'pubg', 'screw', 'plzi', 'products', 'reviews', 'youtubeqknddc_ervy', 'plusim', 'camerai', 'remember', 'narrower', 'pici', 'ihnatko', 'satisfaction', 'they', 'applehow', 'fanboy', 'putting', 'space', 'smooth', '1rst', 'temporarily', 'far', 'uglyretard', 'commercial', 'resort', 'retort', 'green', 'care', 'sir', 'requires', 'supreme', 'encourage', 'twittercomgodsperfection', 'dumbass', 'open', 'fell', 'lolrt', 'loss', 'zstatus928770595763957760', 'http', 'boring', 'gb', 'uki', 'imma', 'gunna', 'stunning', 'nyc', 'screenshot', '12', 'when', 'freehold', 'late', 'orders', 'switchingiphone', 'delivery', 'treesi', 'youtubeou89o_ppubya', 'rather', 'dab', 'alreadywtf', 'notchbad', 'idea', 'hai', 'break', 'aint', 'ididnt', 'your', 'ulta', 'less', 'a130pm', 'design', 'comes', 'accessible', 'old', 'lock', 'brokeok', '1500', 'spensive', 'first', 'perfectly', 'glasses', 'aed', 'eurotrip', 'videos', 'compete', 'us', 'india', 'screenshots', 'siracusa', 'breadyeah', 'serious', 'pray', 'ear', 'pluswhen', 'apps', 'overpriced', 'multiple', '2', 'vs', 'comfort', 'authorised', 'volume', 'golden', 'most', 'gift', 'xwhy', '370', 'consistently', 'annoying', 'slow', 'buttt', 'nothingwant', 'mall', 'spendbeen', 'wack', 'bulgaria', 'big', 'ssame', 'lowkey', 'ngl', 'apples', 'sitting', 'graysondolan', 'weeks', 'grounded', 'except', '3t', 'upsomeone', 'mates', 'of', 'tax', '24k', 'tracking', 'sick', 'outtta', 'expensive', 'mbad', 'haptics', 'ux', 'probably', 'starbucks', 'actually', '10x', 'hell', 'sucks', 'totally', 'friday', 'lost', 'qz', 'thugnology', 'want', 'alreadywhys', 'shambig', 'chat', 'significant', 'pvp', 'talked', 'lord', 'three', 'show', '2018', 'feels', 'an', 'loren', 'ghosting', 'strong', 'fooling', '1after', 'applesupport', 'thanks', '30th', 'reviewspathetic', 'saliva', 'literally', 'port', 'mfs', 'decade', 'as', 'pix', 'world', 'r', 'linkedinim', 'freethe', 'mobile', 'verizon', 'perfect', 'rich', 'coming', 'tipsi', 'lucknow', 'needless', 'iosblack', 'pushing', 'take', 'usual', 'foodforthoughtneed', '50', 'fools', 'been', 'excited', 'gotten', 'thoughcant', 'smaller', 'onei', 'dream', 'may', 'status930437339305971712', 'reader', 'glitching', 'auntvip', '100', 'xsomeone', 'fail', 'slower', 'radial', 'appreciated', 'box', 'sign', 'school', '9yo', 'xthe', 'skegness', 'bigger', 'samsungs', 'compliments', 'suggestions', 'cute', 'reduce', 'itid', 'makes', 'with', 'phonearenacomnewshereish', 'pradesh', 'america', 'fan', 'movie', 'holiday', '1068026546504548352', 'tht', 'starting', 'badwhy', 'pictwittercomiayz2yxnzaim', 'thoughiphone', 'model', '245', '25', 'buying', 'relationship', 'nicei', 'trynna', 'enrollee', 'fuck', 'dislike', 'lolso', 'y3', 'whats', 'personally', 'youtubedrveunle5noa', 'pictwittercom71pjcufytyi', 'fourth', 'how', 'tire', 'ucstarfest', 'sophia', 'raised', 'easy', 'hours', 'suggested', 'little', '10the', 'highly', 'youtube0ercfyjqhn0a', 'randomly', '150', 'prepaid', 'theyre', 'sounds', 'galaxy', 'flip', 'sure', 'spare', 'switch', 'bucks', 'nothin', 'nigeriathe', 'customers', 'customerafrican', 'ratu', 'firstif', 'christmas', 'alreadyyyyyyyyyyyyy', 'pictwittercomgw5lvdvsdcso', 'fancy', 'mei', 'too', '78', 'somehow', 'also', 'intial', 'currently', 'gadgets', 'week', 'shows', 'works', 'generally', 'cuz', '256', 'plan', 'easier', 'wired', 'unless', 'gave', 'emojis', 'thingbuy', '1when', 'understand', 'cold', 'ending', 'planthe', 'urge', 'ministers', 'cop', 'shifting', 'hadnt', 'pleasei', 'itwish', 'percentage', '540', '5th', 'competitors', 'grandma', 'pictwittercom7tzbh5hnj4i', 'screens', 'pressing', 'trust', 'isnt', 'themi', 'star', 'shitgotta', 'buyer', 'kidneyno', 'play', 'trick', 'irritating', 'suck', 'tried', 'canceled', '129', 'forfinally', 'plus', 'keyboard', 'pays', 'favourite', 'life', 'knows', 'store', 'causing', 'https', 'steven', 'tomorrow', 'devicetrying', 'students', 'nothing', 'attcaresonly', 'sprintcare', 'bought', 'deck', 'clearly', 'seemed', 'verdict', 'misses', 'xscrew', 'ago', 'tall', 'experiencing', 'trying', 'knowwww', 'walked', 'burnin', 'radio', 'just', 'who', 'patiently', 'oled', 'speaker', 'xokay', 'thread', 'mkbhd', 'outi', 'listened', 'blew', 'max', 'johnlegere', 'morning', 'conspiracy', 'youtubeit', 'jealous', 'steep', 'example', 'others', 'useseriously', 'asking', 'id', 'daddy', 'prayersof', 'wakakakakasince', 'pic', 'jasonnash', 'not', '4', 'freezing', 'thankssee', '333', 'atus928349765582118912', 'nokia', 'friendsjust', 'gestures', 'notice', 'interested', 'preferred', 'holding', 'different', 'preorder', 'funding', 'cast', 'oldest', 'reallyyyyy', 'finally', 'storeim', 'lovely', 'youtubeso', 'pictwittercom9maes4iod2i', 'offer', 'turn', 'mps', 'moms', 'sizehow', 'deals', 'dollar', 'itcouldnt', 'landscape', 'holla', 'noticeable', 'plusi', 'dlvritqsrghp', 'charger', 'knowget', 'delivered', 'blocked', 'displayor', '17', 'reviewshow', 'helps', 'floor', 'thenyou', 'any', 'ti', 'xmasi', 'information', 'hopped', 'years', 'spoofing', 'full', 'pm', 'data', 'dont', 'major', 'bullshit', 'hecho', 'austinmann', 'free', 'xyou', 'filters', 'impulse', '2nd', 'freelove', 'envirofone', 'checked', 'feelyeah', 'happy', 'daybreakasia', '10yearold', 'sad', '4k', 'father', 'upsetting', 'ground', 'awesome', 'you', 'turned', 'legit', 'public', 'parody', 'wanted', 'lolwhat', 'expensivegoing', 'taken', 'xtrying', 'snaps', 'exploit', 'thought', 'youtube9ca8zwjolfq', 'swapped', 'expensiveiphone', 'max4200', 'should', 'bitly2z2qjv5', 'decision', 'bank', 'physically', 'avatars', 'shitif', 'itmight', 'opinion', 'freeze', 'pixel3', 'wonderful', 'laugh', 'pixel', 'xpraying', 'wan', 'stupid', 'slash', 'bf', 'dualipajust', 'computer', 'protect', 'usually', 'ya', 'cooper', 'brazil', 'rotates', 'loliphone', 'bit', 'saadilamdin', 'doesnt', 'started', 'choiceiphone', 'tree', 'bitly2i79hpw', 'handsso', 'meet', 'twittercomtmobilestatus', 'stoopid', '128gb', 'december', 'animojis', 'story', 'beechloren02', 'heap', 'anymore', 'reservations', 'placed', 'retweet', 'badwe', 'entire', 'read', 'woman', 'ashleybeauty43', 'idk', 'soon', 'everything', 'fun', 'get', 'xmakes', 'hype', 'gained', 'buzzing', 's928670046565515264', 'selfiescould', 'counterpartsi', 'go', 'chargetecno', 'pricing', 'dadused', 'minute', 'hahaha', 'someday', 'ordering', '4sapple', 'applepay', 'c4etechtamil', 'wont', 'is', '15', 'working', 'lol', 'everyone', 'buggati', 'asapi', 'fckn', 'ask', 'ifttt2ynoaib', '999', 'adapting', 'adult', 'hey', 'complaining', 'asked', 'shouldbuy', 'quicker', 'job', 'looks', 'access', 'pay', 'crap', 'girls', 'art', 'can', 'xstand', 'order', 'mine', 'every', 'paid', '179', 'israel', 'uk', 'recommend', 'around', 'dis', 'priced', 'failgot', 'jack', 'mf', 'itmy', 'done', 'rack', 'such', 'drunk', 'leastthats', 'badoh', '6yall', 'twittercombusinessinside', 'wonder', 'back', 'onboard', 'haha', 'advicing', 'slowing', 'label', 'last', 'lightning', 'sexiest', 'christmasi', 'build', 'stores', '100200', '545', 'contact', 'investment', '10yearolds', 'learning', 'havent', 'gigabit', 'level', 'phonehate', 'storewish', 'february', 'groceries', 'freewould', 'fecesi', 'jumia', 'dat', '7layerskinzcom', 'favor', 'available', 'shopping', 'ever', 'pictures', 'goes', 'kid', 'controlbesides', 'more', 'copied', 'reportssome', 'hon', 'release', 'bday', 'killing', '2150', 'dies', 'luck', 'questionable', 'backnot', 'somethingall', 'blazing', 'purchased', 'couldnt', 'important', 'ab', 'rt', 'soooo', 'motherfuckers', 'poop', 'wendy', 'desired', 'yr', 'glad', 'difficdoes', 'biggeri', 'enter', 'forever', 'pulling', 'og', 'carriers', 'cursewhen', 'instagram', 'europeapple', 'pictwittercome7nqh9sdq2can', 'se', 'carry', 'scituate', 'independent', 'eiiapplesupport', 'au', 'end', 'twittercomolajvdestatus', 'confused', 'broke', 'monopoly', 'regardless', 'all', 'twittercomtia_ewingstat', 'alreadylooks', 'hopefully', 'outyesterday', 'recover', 'inuse', '1000', 'fine', 'everythingget', 'drop', 'about', 'exist', 'iphonexso', 'iphones', 'switching', 'nowsomething', 'okay', 'abroad', 'saved', 'tiny', 'liked', 'dm', '99cents', 'animojilife', 'included', 'aus', 'start', 'eitherwent', '105', 'xd', 'resolution', 'arrive', 'simply', 'ibooks', 'belom', 'pc', 'sexy', 's3', 'college', 'wtfreally', 'gun', 'smashed', 'months', 'pictwittercomzhgomp7sr3iphone', 'rajivmakhni', 'iti', 'gone', 'ugly', 'bravo', 'pictwittercomjixvit1k0swhy', 'photographers', 'capability', 'check', 'youtubeed3r9bzzlge', 'p', 'xnice', 'displays', 'piasa', 'gvwyioemu3ld0', 'pictwittercom4lipdpjbufthe', 'paper', 'primary', 'face', 'decided', 'experiencei', 'hypercritical', 'item', 'thankswhen', 'genius', 'tough', 'rn', 'faulty', '34', '4what', 'realized', 'greatkid', 'towow', 'nonissue', 'hi', '5k', 'stack', 'screaming', 'existedmy', 'would', 'ill', 'b', 'utterly', 'hate', '79', 'promotion', 'purpose', 'funny', '2x', 'x', 'francisco', 'otterbox', '1010', 'remove', 'twelve', '2000', 'agree', 'bring', 'thoughlove', 'quality', 'impatienti', 'xim', 'actuallybuy', 'pleasure', 'dumb', 'youboss', 'britney', 'depressed', '280cdont', 'main', 'applestore', 'kinda', 'thisat', 'bc', 'square', 'prettyyall', 'monday', 'poor', 'huge', 'feelslooks', 'salesomeone', 'justice', 'dilemma', 'fb', 'mts', 'omo', 'thank', 'local', 'dude', 'thotoday', 'oh', 'useless', 'ups', 'way', '8need', 'spoiled', 'photo', '6s', 'set', 'brothers', 'twittercomdsharp_runsst', 'yesterday', 'youyes', 'stay', 'planning', 'monthas', 'sell', 'if', 'cyber', '3t5g9ysc1sc1l1ppy4291063', 'websiteiphone', 'hahaneed', 'incredible', 'dying', 'thrown', 'gon', 'todaybest', 'horrible', 'since', 'seen', 'prolly', 'return', 'toronto', 'calls', 'bell', 'deb', 'blurred', 'promises', 'second', 'least', 'e8n96wyoq', 'past', 'absolute', 'prob', 'sooooooo', 'watch', 'advent', 'system', 'forward', 'personal', 'thingim', 'talli', 'ios1111', '7plus', 'make', 'mins', 'honest', 'vouchercloud', 'time', 'strange', 'david', 'country', 'henrywood2142', 'rejoin', 'however', 'emote', 'look', 'til', 'soo', 'else', 'two', 'winner', 'somebody', 'googlb3xnbe', 'wait', 'pictwittercom0w6rdfvpfmstupidity', 'sleeker', 'bonkers', 'calendar', 'opportunity', 'n', 'alsoi', 'pake', 'shrek', 'badthe', 'activated', 'xgrayson', 'accuracy', 'now', 'length', '4omg', 'buyi', 'change', 'realize', 'flipitgwznhh', '5t', 'are', 'allwayshey', 'fantasy', '1sad', 'pernah', 'may3', 'white', 'economical', 'fansite', 'aapl', 'chose', 'crazy', 'ready', 'screenyall', 'site', 'tell', 'bro', 'says', 'touch', 'phone', 'trading', 'fbme1jd4s5mfc', 'let', 'pictwittercomama02k5njci', 'barely', 'usesnope', 'oc', '133x', 'some', 'tmobile', 'itnow', 'or', 'interestedi', 'singularity', '13333', 'san', 'smallcant', 'grand', 'owe', 'even', 'apart', 'flame', 'advisee', 'forcing', 'chance', 'original', 'sux', 'lte', 'basically', 'paying', 'vagaries', 'real', '2017', 'ownsamsunggalaxy', 'coldmy', 'mommy', 'summary', 'motivation', 'advantage', 'snap', 'maxes', 'loved', 'brotheri', 'ohyoure', 'availability', 'meant', 'cnetco2ds00h2', 'clothes', 'seei', 'xi', 'trap', 'wtfi', 'damn', 'iftttea8v8j', 'seun', 'prepped', 'us816613182479466496', 'instead', 'smh', 'thankshad', 'lure', 'small', 'seems', '109', 'notch', 'samsung', 'pictwittercome68xxa0qay', 'hella', 'lexysavvides', 'daughters', 'sells', '350', 'pictwittercomckyos4jwuti', 'animoji', 'bnow', 'think', 'nose', 'acting', 'outso', 'snapchat', 'akhirnya', 'iphonex', 'diamonds', 'otps', 'changing', 'dimensions', 'fall', 'handson', 'edition', '30mbit', 'notified', 'google', 'no', 'youll', 'ta', 'half', 'did', 'had', 'taking', 'glitch', 'discount', 'success', 'goodthat', 'itshit', 'review', 'long', '5', 'darkwatch', 'gesture', 'twittercomnadeshotstatu', 'gold', 'srorythe', 'uglier', 'presents', 'owyoucangetafreeiphone864gbwhenyoubuyaniphonexatatt_id99708', 'shared', 'twittercommanxomemiasta', 'say', 'throw', 'thisthat_tha3rd', 'constantlydaily']\n"
     ]
    }
   ],
   "source": [
    "def make_unique_li(li_cleanText):\n",
    "    unique_words_set= set(li_cleanText)\n",
    "    unique_word_li = list(unique_words_set)\n",
    "    return unique_word_li\n",
    "\n",
    "\n",
    "def stemmed(li_cleanText):\n",
    "    count_stemed=0\n",
    "    for word in li_cleanText:\n",
    "        if word[-1]==\"s\":\n",
    "            li_cleanText[count_stemed]=word[:-1]\n",
    "        elif word[-2:]==\"ed\":\n",
    "            li_cleanText[count_stemed]=word[:-2]\n",
    "        elif word[-3:]==\"ing\":\n",
    "            li_cleanText[count_stemed]=word[:-3]\n",
    "        count_stemed+=1  \n",
    "    return li_cleanText   \n",
    "# li_stemmed = stemmed(li_cleaned_text)\n",
    "uniqueWords = make_unique_li(li_cleaned_text)\n",
    "print(uniqueWords)"
   ]
  },
  {
   "cell_type": "code",
   "execution_count": 11,
   "metadata": {},
   "outputs": [],
   "source": [
    "def DocVector():\n",
    "    data=np.zeros([final_df['class'].count(), len(uniqueWords)])\n",
    "    docVector1=pd.DataFrame(data,columns=uniqueWords)\n",
    "    docVector=docVector1.assign(PurchaseIntention = list(final_df['class']))\n",
    "    # docVector['Purchase Intention'] = final_df['class']\n",
    "    # print(docVector['PurchaseIntention'])\n",
    "    doc_count = 0\n",
    "    for doc in final_df['text']:\n",
    "        words = doc.split()\n",
    "        for word in words:\n",
    "            temp=word.lower()\n",
    "            if temp in docVector.columns:\n",
    "                docVector.at[doc_count, temp] += 1\n",
    "        doc_count += 1\n",
    "        \n",
    "    return docVector\n",
    "\n",
    "\n",
    "docVector = DocVector()  "
   ]
  },
  {
   "cell_type": "code",
   "execution_count": 12,
   "metadata": {},
   "outputs": [
    {
     "name": "stdout",
     "output_type": "stream",
     "text": [
      "total PI  481\ntotal non PI  274\n"
     ]
    },
    {
     "name": "stdout",
     "output_type": "stream",
     "text": [
      "prob pos  0.6370860927152318\nprob_neg  0.3629139072847682\n"
     ]
    }
   ],
   "source": [
    "def WordGivenNoPI(tempNegDocVector):\n",
    "    data=np.zeros([1,len(uniqueWords)])\n",
    "    wordGivenNoPI=pd.DataFrame(data,columns=uniqueWords)\n",
    "    columnSum = tempNegDocVector.sum(axis = 1, skipna = True)\n",
    "    numWordsInNoPI = columnSum.sum()\n",
    "    \n",
    "    for word in uniqueWords:\n",
    "        nk_wordinNoPI = tempNegDocVector[word].sum()\n",
    "        wordGivenNoPI.at[0,word] = (nk_wordinNoPI+1) / (numWordsInNoPI+len(uniqueWords))\n",
    "    return  (wordGivenNoPI , numWordsInNoPI)\n",
    "    \n",
    "    \n",
    "def TrainModel():\n",
    "    yesCount=docVector[\"PurchaseIntention\"]==\"yes\"\n",
    "    tempPosDocVector = docVector[yesCount]\n",
    "    totalPI = tempPosDocVector[\"PurchaseIntention\"].count()\n",
    "    print(\"total PI \",totalPI)\n",
    "    \n",
    "    noCount=docVector[\"PurchaseIntention\"]==\"no\"\n",
    "    tempNegDocVector = docVector[noCount]\n",
    "    # print(tempNegDocVector[\"PurchaseIntention\"])\n",
    "    totalNonPI = tempNegDocVector[\"PurchaseIntention\"].count()\n",
    "    print(\"total non PI \",totalNonPI)\n",
    "    # print(totalPI+totalNonPI)\n",
    "    # totalNonPI = docVector[\"PurchaseIntention\"].count() - totalPI\n",
    "    total = totalPI+totalNonPI\n",
    "    Prob_PI = totalPI/total\n",
    "    Prob_NoPI = totalNonPI/total\n",
    "    \n",
    "    data=np.zeros([1,len(uniqueWords)])\n",
    "    wordGivenPI=pd.DataFrame(data,columns=uniqueWords)\n",
    "    columnSum = tempPosDocVector.sum(axis = 1, skipna = True)\n",
    "    numWordsInPI = columnSum.sum()\n",
    "    \n",
    "    for word in uniqueWords:\n",
    "        nk_wordinPI = tempPosDocVector[word].sum()\n",
    "        wordGivenPI.at[0,word] = (nk_wordinPI+1) / (numWordsInPI+len(uniqueWords))\n",
    "        \n",
    "    df_wordGivenNoPI , numWordsInNoPI= WordGivenNoPI(tempNegDocVector) \n",
    "    return (wordGivenPI,df_wordGivenNoPI,Prob_PI,Prob_NoPI,numWordsInPI,numWordsInNoPI)\n",
    "   \n",
    "\n",
    "df_WordGivenPI,df_WordGivenNoPi,Prob_PI,Prob_NoPI,numWordsInPI,numWordsInNoPI = TrainModel()\n",
    "print(\"prob pos \",Prob_PI)\n",
    "print(\"prob_neg \",Prob_NoPI)"
   ]
  },
  {
   "cell_type": "code",
   "execution_count": 13,
   "metadata": {
    "collapsed": true
   },
   "outputs": [],
   "source": [
    "def Predict():\n",
    "    test_path=\"E:/DATA/Sem8/fyp/test data/Testing.csv\"\n",
    "    test_data,test_df=Extract(test_path)\n",
    "    # test_data = test_data.assign(PredictedClass= list(test_data['text']))\n",
    "    # test_data = test_data[['class', 'PredictedClass', 'text']]\n",
    "    # print(test_data[\"text\"].count())\n",
    "    predict_df=pd.DataFrame()\n",
    "    weighPI=Prob_PI\n",
    "    weighNoPI=Prob_NoPI\n",
    "    count_test=0\n",
    "    for sentence in test_data['text']:\n",
    "        # print(count_test)\n",
    "        for word in sentence.lower().split():\n",
    "            if word in uniqueWords:\n",
    "                weighPI = weighPI * df_WordGivenPI.at[0,word]\n",
    "                weighNoPI = weighNoPI * df_WordGivenNoPi.at[0,word]\n",
    "            else:\n",
    "                 weighPI = weighPI * (1/(numWordsInPI+len(uniqueWords)))\n",
    "                 weighNoPI = weighNoPI * (1/(numWordsInNoPI+len(uniqueWords)))\n",
    "        predict_df.at[count_test,'WeightPI'] = weighPI    \n",
    "        if weighPI > weighNoPI:\n",
    "            predict_df.at[count_test,'PredictedClass'] = 'yes'\n",
    "            # print(test_data.at[count_test,'text'],test_data.at[count_test,'PredictedClass'])\n",
    "        else:\n",
    "           predict_df.at[count_test,'PredictedClass'] = 'no'\n",
    "           # print(test_data.at[count_test,'text'],test_data.at[count_test,'PredictedClass'])\n",
    "            \n",
    "        count_test += 1\n",
    "        weighPI = Prob_PI\n",
    "        weighNoPI = Prob_NoPI     \n",
    "    return predict_df, test_data  \n",
    "    \n",
    "    \n",
    "    # print(\"PI weight {0} No PI weight{1}\".format(weighPI,weighNoPI))        \n",
    "\n",
    "\n",
    "predict_df, test_data = Predict()        \n",
    "\n"
   ]
  },
  {
   "cell_type": "code",
   "execution_count": 15,
   "metadata": {
    "collapsed": true
   },
   "outputs": [
    {
     "name": "stdout",
     "output_type": "stream",
     "text": [
      "TP 176 , FN 27, TN 23, FP 27\n"
     ]
    }
   ],
   "source": [
    "def ConfusionMatrix():\n",
    "    TP=0\n",
    "    TN=0\n",
    "    FP=0\n",
    "    FN=0\n",
    "    for i in range(test_data['class'].count()):\n",
    "        # print(test_data.iloc[i]['class'],\" \",predict_df.iloc[i]['PredictedClass'] )\n",
    "        if test_data.iloc[i]['class'] == \"yes\" and predict_df.iloc[i]['PredictedClass'] == \"yes\":\n",
    "            TP += 1\n",
    "        elif test_data.iloc[i]['class'] == \"yes\" and predict_df.iloc[i]['PredictedClass']==\"no\":\n",
    "            FN += 1\n",
    "        elif test_data.iloc[i]['class'] == \"no\" and predict_df.iloc[i]['PredictedClass']==\"no\":\n",
    "            TN += 1\n",
    "        elif test_data.iloc[i]['class'] == \"no\" and predict_df.iloc[i]['PredictedClass'] == \"yes\":\n",
    "            FP += 1    \n",
    "    return (TP,FN,TN,FP) \n",
    " \n",
    " \n",
    "TP,FN,TN,FP = ConfusionMatrix()\n",
    "print(\"TP {0} , FN {1}, TN {2}, FP {3}\".format(TP,FN,TN,FP))        "
   ]
  },
  {
   "cell_type": "code",
   "execution_count": 16,
   "metadata": {},
   "outputs": [
    {
     "name": "stdout",
     "output_type": "stream",
     "text": [
      "Accuracy =  0.7865612648221344\nPrecision =  0.8669950738916257\nRecall =  0.8669950738916257\nfScore =  0.8669950738916257\n"
     ]
    }
   ],
   "source": [
    "def Accuracy():\n",
    "    accuracy=(TP+TN)/(TP+FP+FN+TN)\n",
    "    # print(\"Accuracy =\",accuracy)\n",
    "    return accuracy\n",
    "   \n",
    "def Precision():\n",
    "    precision =  TP/(TP+FP)\n",
    "    # print(\"Precision = \",precision)\n",
    "    return precision\n",
    "\n",
    "def Recall():\n",
    "    recall = TP/(TP+FN)\n",
    "    # print(\"Recall = \",recall)\n",
    "    return recall\n",
    "    \n",
    "def fScore():\n",
    "    F1 = 2*(Recall() * Precision()) / (Recall() + Precision())\n",
    "    # print(\"f measure\",F1)\n",
    "    return F1\n",
    "\n",
    "\n",
    "print(\"Accuracy = \",Accuracy())\n",
    "print(\"Precision = \",Precision())\n",
    "print(\"Recall = \",Recall())\n",
    "print(\"fScore = \",fScore())"
   ]
  },
  {
   "cell_type": "code",
   "execution_count": null,
   "metadata": {},
   "outputs": [
    {
     "data": {
      "text/plain": [
       "<Figure size 640x480 with 1 Axes>"
      ]
     },
     "execution_count": 0,
     "metadata": {},
     "output_type": "execute_result"
    }
   ],
   "source": [
    "# # import numpy as np\n",
    "# from sklearn.metrics import roc_curve\n",
    "# import matplotlib.pyplot as plt\n",
    "# import matplotlib.pyplot as plt\n",
    "# y = test_data['class']\n",
    "# scores = predict_df['WeightPI']\n",
    "# fpr, tpr, thresholds = roc_curve(y, scores, pos_label=\"yes\")\n",
    "# \n",
    "# # print(thresholds)\n",
    "# plt.plot(fpr, tpr)\n",
    "# \n",
    "# plt.show()\n"
   ]
  }
 ],
 "metadata": {
  "kernelspec": {
   "display_name": "Python 3",
   "language": "python",
   "name": "python3"
  },
  "language_info": {
   "codemirror_mode": {
    "name": "ipython",
    "version": 3
   },
   "file_extension": ".py",
   "mimetype": "text/x-python",
   "name": "python",
   "nbconvert_exporter": "python",
   "pygments_lexer": "ipython3",
   "version": "3.7.0"
  }
 },
 "nbformat": 4,
 "nbformat_minor": 1
}
