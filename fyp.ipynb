{
 "cells": [
  {
   "cell_type": "code",
   "execution_count": 2,
   "metadata": {},
   "outputs": [],
   "source": [
    "import pandas as pd\n",
    "import numpy as np\n",
    "import nltk\n",
    "\n"
   ]
  },
  {
   "cell_type": "code",
   "execution_count": 3,
   "metadata": {},
   "outputs": [
    {
     "name": "stdout",
     "output_type": "stream",
     "text": [
      "          class                                               text\n0            no  i'll  buy  the  iphone   x  if it can  get  ac...\n1            no  Some dude in FB selling the  iPhone   X  64 gb...\n2           yes  Home dab emote man today and I  get  hopped on...\n3           yes                               Buy  an  iPhone   X \n4            no  I hate iOS 11. My  iPhone  6+ works 10X slower...\n5     undefined  Brilliant @johnlewisretail - added  iPhone   X...\n6     undefined  They doing that on purpose cause mine is to. T...\n7            no  Bo-go sale tomorrow at T-Mobile  buy  one  get...\n8           yes  I can  get  the  iPhone   X  here.... If I'm w...\n9           yes  When you  buy  an  Iphone   X  with Unlimited ...\n10          yes  @ Mrwhosetheboss  i really  wish  i  get  to m...\n11           no  @ sprint  @sprintcare  if I switch to @TMobile...\n12           no  Oneplus 5t has faster face recognition than  i...\n13           no  Don't  buy  an  iPhone   X  if you're ugly. I ...\n14           no  Could  buy  2x 5T with the price I paid for th...\n15          yes  My friend shopping:  iPhone   X  is not that e...\n16          yes  What if there was upgrade to an  iPhone  8 or ...\n17    undefined                                So if I  buy  a  X \n18    undefined  Buy   iPhone   X  and  get  in the same and yo...\n19           no  I don't  get  it is it basically impossible to...\n20          yes  The  iPhone   X  is a pleasure to use. Far mor...\n21    undefined  If @Spacekatgal  didn't  get  an  iPhone   X  yet\n22           no  I wanted the  IPhone   X  but now that most pl...\n23          yes  I  love  these holiday gift guides that assume...\n24          yes  VIP  NEED   BUY  AN  IPHONE   X   https:// twi...\n25    undefined  I ordered my pixel 2 on Tuesday from Google & ...\n26    undefined  Would it be the same if I  buy  an  iPhone   X...\n27           no  Anyone else experiencing an  iPhone  glitch wh...\n28    undefined  I wanna  buy  my mom a new  iPhone  so bad. I ...\n29          yes  Need  to just  buy  that  iPhone   X  so I can...\n...         ...                                                ...\n1091  Undefined  Ever since the  iPhone   X  came out my phone ...\n1092  Undefined         I fucking  hate  my  iPhone   X  right now\n1093         No  the  iPhone   x  looks so fucking  bad  and wh...\n1094         No  @ JohnLegere  I returned 3  Iphone  6's  after...\n1095  Undefined  iPhone   X  has been out for a little bit now ...\n1096         No  Tested  $ AAPL   iPhone   X  in person. It's n...\n1097  Undefined  The  iPhone   X  has more  expensive  parts th...\n1098  Undefined                                      Give it a try\n1099  Undefined  http:// ift.tt/2APejiE    Automating the  Bori...\n1100  Undefined  Automating the  Boring  Search for an  iPhone ...\n1101  Undefined  Orang Vietnam Sukses Retas Face ID  iPhone   X...\n1102  Undefined  Automating the  Boring  Search for an  iPhone ...\n1103  Undefined  @ AppleSupport  what is the official recommend...\n1104  Undefined                              iPhone   X  shipped  \n1105  Undefined                                   Bad   expensive \n1106  Undefined  I  hate   http:// to.read    negativity toward...\n1107  Undefined  Wouldn't trust Tim Cook's demand is \"off the c...\n1108  Undefined  @ Snapchat  is such a  bad  experience on the ...\n1109  Undefined  Hate  the  iPhone   X  'notch'? There's an app...\n1110        Yes  Yeah. I need a new phone real  bad . I really ...\n1111  Undefined      Got my  iPhone   X !Not  bad !keep fighting  \n1112  Undefined  Here's why some apps will look  bad  on the  i...\n1113         No  Actually true.. the  iPhone   X  is so  expens...\n1114  Undefined  Automating the  Boring  Search for an  iPhone ...\n1115  Undefined                                        Read online\n1116  Undefined  Listen:  Hate  the  iPhone   X  'notch'? There...\n1117  Undefined  Some more  boring   iPhone   X  figures/info  ...\n1118  Undefined        Tap bars look really  bad  on  iPhone   X .\n1119  Undefined  Trying to make a list of things I  hate  and l...\n1120  Undefined  The new  iPhone  data speeds are actually slow...\n\n[1121 rows x 2 columns]\n"
     ]
    }
   ],
   "source": [
    "fd= open('E:/DATA/Sem8/fyp/AnnotatedData2.csv',encoding=\"utf-8\", errors='replace')\n",
    "df = pd.read_csv(fd)\n",
    "print(df)"
   ]
  },
  {
   "cell_type": "code",
   "execution_count": 4,
   "metadata": {},
   "outputs": [
    {
     "name": "stdout",
     "output_type": "stream",
     "text": [
      "     class                                               text\n0       no  i'll  buy  the  iphone   x  if it can  get  ac...\n1       no  Some dude in FB selling the  iPhone   X  64 gb...\n2      yes  Home dab emote man today and I  get  hopped on...\n3      yes                               Buy  an  iPhone   X \n4       no  I hate iOS 11. My  iPhone  6+ works 10X slower...\n7       no  Bo-go sale tomorrow at T-Mobile  buy  one  get...\n8      yes  I can  get  the  iPhone   X  here.... If I'm w...\n9      yes  When you  buy  an  Iphone   X  with Unlimited ...\n10     yes  @ Mrwhosetheboss  i really  wish  i  get  to m...\n11      no  @ sprint  @sprintcare  if I switch to @TMobile...\n12      no  Oneplus 5t has faster face recognition than  i...\n13      no  Don't  buy  an  iPhone   X  if you're ugly. I ...\n14      no  Could  buy  2x 5T with the price I paid for th...\n15     yes  My friend shopping:  iPhone   X  is not that e...\n16     yes  What if there was upgrade to an  iPhone  8 or ...\n19      no  I don't  get  it is it basically impossible to...\n20     yes  The  iPhone   X  is a pleasure to use. Far mor...\n22      no  I wanted the  IPhone   X  but now that most pl...\n23     yes  I  love  these holiday gift guides that assume...\n24     yes  VIP  NEED   BUY  AN  IPHONE   X   https:// twi...\n27      no  Anyone else experiencing an  iPhone  glitch wh...\n29     yes  Need  to just  buy  that  iPhone   X  so I can...\n30     yes  Apple just send me an email with Christmas gif...\n32     yes                               Buy  an  iPhone   X \n33     yes                              Love  the Design.... \n34      no  u can  buy  yourself an  iPhone   X  but can n...\n35     yes  I  love  my Note 8 its been an  awesome  phone...\n36      no                             Not this what i want  \n37      no  In crazy  love  with this video!!! Don't  Buy ...\n39     yes                 So in  love   w  the  iPhone   x .\n...    ...                                                ...\n1008    no  iPhone   X  Review: Screen: awesome. FaceID: a...\n1016   yes             How  bad  do i want this  iPhone   X  \n1017   yes  I want that  iPhone   X  so  bad  I almost wen...\n1021    no  I'm so pissed this is why I  hate  ordering sh...\n1024    no  Yeah @Zoella  is selling an  expensive  item. ...\n1027    no  IPhone   X  online reviews have become so  bor...\n1029    no  Why I  Hate  & Return My Apple  iPhone   X  10...\n1032   yes  It so  bad ? Lol.. Can't wait to get my  Iphon...\n1034   yes  Should I get this  iPhone   X  or no?   The sc...\n1036   yes  I want the  iPhone   X  so  bad  but I just ca...\n1038   yes  When people complain that the  iPhone   X  is ...\n1040    no  @ Apple  @WhatsApp  youre making me  hate   iP...\n1041    no  Wanted the  iPhone   X  but I've heard more  b...\n1043    no  That seems  useless  since the only people who...\n1047   yes  I want an  Iphone  sooooooo  bad  but wont buy...\n1049   yes  Been patiently waiting for almost a week for @...\n1050    no                     I   hate  the damn  iPhone   X\n1054   yes  i  hate  myself rn bc even though i say im don...\n1060    no  The way you invoke Control Center is killing m...\n1064   yes  When I get my funding in January ima buy an  i...\n1067   yes  Need / want the  iPhone   X  but it's so  expe...\n1069    no  Lmao this  iPhone   X  shit getting from  bad ...\n1075   yes                  I want the  iPhone   x  so  bad  \n1077   yes  If I deck out in @TMobile  gear from @JohnLege...\n1082   yes                    I want the  iPhone   X  so  bad\n1093    no  the  iPhone   x  looks so fucking  bad  and wh...\n1094    no  @ JohnLegere  I returned 3  Iphone  6's  after...\n1096    no  Tested  $ AAPL   iPhone   X  in person. It's n...\n1110   yes  Yeah. I need a new phone real  bad . I really ...\n1113    no  Actually true.. the  iPhone   X  is so  expens...\n\n[624 rows x 2 columns]\n"
     ]
    }
   ],
   "source": [
    "\n",
    "# create series of true and false. True is assigned for yes/no. False for undefine\n",
    "defined=df['class'] != (\"undefined\")\n",
    "# #output dataframe without undeined\n",
    "df2=df[defined]\n",
    "defined1=df2['class'] !=\"Undefined\"\n",
    "df4=df2[defined1]\n",
    "#replace no PI with no\n",
    "df3=df4.replace(\"No PI\",\"no\")\n",
    "#replace PI with yes\n",
    "final=df3.replace(\"PI\",\"yes\")\n",
    "\n",
    "replace_yes=final.replace(\"Yes\",\"yes\")\n",
    "final_df= replace_yes.replace(\"No\",\"no\")\n",
    "\n",
    "print(final_df)"
   ]
  },
  {
   "cell_type": "code",
   "execution_count": 5,
   "metadata": {},
   "outputs": [
    {
     "name": "stdout",
     "output_type": "stream",
     "text": [
      "         class                                               text\n5    undefined  Brilliant @johnlewisretail - added  iPhone   X...\n6    undefined  They doing that on purpose cause mine is to. T...\n17   undefined                                So if I  buy  a  X \n18   undefined  Buy   iPhone   X  and  get  in the same and yo...\n21   undefined  If @Spacekatgal  didn't  get  an  iPhone   X  yet\n25   undefined  I ordered my pixel 2 on Tuesday from Google & ...\n26   undefined  Would it be the same if I  buy  an  iPhone   X...\n28   undefined  I wanna  buy  my mom a new  iPhone  so bad. I ...\n31   undefined  @ AppleSupport   I have received the  iphone  ...\n38   undefined  I  wish  I had a girl that rode for me  like  ...\n41   undefined  You look  like  you stalk the uptown event the...\n42   undefined  What you got  like  4  IPhone   X 's  buy  me ...\n46   undefined  Who  need   iphone   x  I got the direct plug ...\n51   undefined  Pre-registered customers at T World who will  ...\n54   undefined  How the hell to  get  my sugar daddy to  buy  ...\n56   undefined  If you are deciding to  buy  Apple Care + for ...\n59   undefined  I have noticed that when a new  iPhone  comes ...\n60   undefined  UPS is the WORST.  iPhone   X  is taking the P...\n61   undefined  Should I  buy   iPhone  8 Plus or wait a lil b...\n64   undefined  Apple's Animoji might not  need  the  iPhone  ...\n70   undefined  I was getting ready to  buy  the  iPhone   X  ...\n71   undefined       Day 1  w /  iPhone   X  - first impressions:\n73   undefined  God keeps sending me signs to  buy  the  iPhon...\n74   undefined  I added a video to a @YouTube  playlist  http:...\n75   undefined  Whatsup  w  all the question emojis  like  we ...\n76   undefined  Get  your santa  wish  list ready  iphone   x ...\n77   undefined  # WednesdayWisdom  YOU  NEED  TO SEE TGIS VIDE...\n78   undefined  I feel  like  this happens every time a new  i...\n81   undefined  I hate  http:// to.read    negativity towards ...\n85   undefined  If I  get  a buck for every typo I make in a t...\n..         ...                                                ...\n745  undefined                                                WTF\n748  undefined  Podoba mi się film The Nokia N9 v  iPhone   X ...\n750  undefined  Apple is trying to  get  you to  buy  the  iPh...\n751  undefined  Presenting one in a million lifestyle at Kandi...\n752  undefined                                                  3\n754  undefined  Presenting one in a million lifestyle at Kandi...\n755  undefined                                                 10\n769  undefined  I just watched it :) Funny to see BTS of Elder...\n770  undefined                           Angel's Christmas List :\n771  undefined                                                  0\n775  undefined                                                  0\n777  undefined                                                  0\n782  undefined                                                  0\n783  undefined  Here's What You'll  Need  to Pull Off Fast Cha...\n784  undefined  @ playflipflop  I would  like  to  purchase . ...\n788  undefined  Mom: What's wrong with my phone? I  can't type...\n789  undefined                                                  0\n790  undefined  This how you nigga's be when you  get  an  iPh...\n794  undefined  to those niggaz that can  buy  her gal  iphone...\n796  undefined  We should start representing health insurance ...\n805  undefined  Guys my roommate ‘s bf got her an  iphone   X ...\n808  undefined                                               Well\n809  undefined                                                  0\n810  undefined                           And don't  get  me wrong\n814  undefined                                    @ builds_io  Yo\n821  undefined                               People agree with me\n822  undefined  genuinely feel  like  i've got a nokia brick w...\n825  undefined                                                  1\n832  undefined           /onlyoneollie_/status/928926019393691648\n837  undefined  # iPhone  How to Pair Your Apple Watch with  i...\n\n[340 rows x 2 columns]\n"
     ]
    }
   ],
   "source": [
    "# create series of true and false. False is assigned for yes/no. True is for undefined\n",
    "undefined=df['class'] == \"undefined\" \n",
    "#output dataframe without undeined\n",
    "df_undefine=df[undefined]\n",
    "print(df_undefine)\n",
    "\n"
   ]
  },
  {
   "cell_type": "code",
   "execution_count": 6,
   "metadata": {},
   "outputs": [],
   "source": [
    "def text_concat():\n",
    "    text=\"\"\n",
    "    for x in final_df[\"text\"]:\n",
    "        text=text +str(x)\n",
    "    return text\n",
    "corpus=text_concat()"
   ]
  },
  {
   "cell_type": "code",
   "execution_count": 7,
   "metadata": {},
   "outputs": [],
   "source": [
    "import re\n",
    "from nltk.corpus import stopwords \n",
    "from nltk.tokenize import word_tokenize \n",
    "\n",
    "def removeStopWords(text):\n",
    "    stop_words = set(stopwords.words('english')) \n",
    "    word_tokens = word_tokenize(text) \n",
    "    filtered_sentence = [] \n",
    "    for w in word_tokens: \n",
    "        if w not in stop_words: \n",
    "            filtered_sentence.append(w.lower()) \n",
    "    #return list of corpus without stop words in a list.        \n",
    "    return filtered_sentence  \n",
    "\n",
    "def removePunc(eachText):\n",
    "    remove_punc = re.sub(r'[^\\w\\s]','',eachText)\n",
    "    #return corpus with out punctuation.\n",
    "    return remove_punc\n",
    "\n",
    "\n",
    "\n",
    "def clean_data(corpus):\n",
    "    remove_punc=removePunc(corpus)\n",
    "    li_remove_stopWords= removeStopWords(remove_punc)\n",
    "    return li_remove_stopWords\n",
    "\n",
    "li_cleaned_text = clean_data(corpus)\n",
    "# bprint(li_cleaned_text)"
   ]
  },
  {
   "cell_type": "code",
   "execution_count": 8,
   "metadata": {},
   "outputs": [
    {
     "name": "stdout",
     "output_type": "stream",
     "text": [
      "['loans', 'annoy', 'parody', 'prolly', 'mindset', 'high', 'money', 'motivation', '8s', 'fest', 'xsomeone', 'speed', 'drives', 'enjoy', 'fucked', 'tculpan', 'bout', 'superior', 'unlock', 'absolute', 'tooth', 'via', 'works', 'goddd', '5t', 'augmented', 'calendar', 'perfect', 'applepay', 'bigger', 'finally', 'to', 'dream', 'sprint', 'job', 'comfort', 'square', 'invoke', 'trolls', 'xr', 'iphones', 'hmmmmjust', 'person', 'alreadywtf', 'helptested', 'passwordif', 'heat', '1k', 'headquarters', '152', 'seriously', 'dilemma', 'uc', 'bcs', 'felt', 'gunna', 'sugardaddy', 'mon', 'itwhen', 'it', 'jumbling', 'se', 'thisthat_tha3rd', 'pictwittercomvx6c3h7xdh', 'customer', 'morons', 'seeing', 'talked', 'rest', 'already', 'bf', 'enchantments', 'pradesh', 'whatever', 'panchkula', 'iphoneunboxing', 'fixed', 'wendy', 'youtubeqknddc_ervy', 'ssame', 'status930437339305971712', 'euro', 'andddddd', 'assume', 'lolmy', 'thing', 'everythinghey', 'love', 'buddy', 'sister', 'feeling', 'forcing', 'tatus930831560189898754', 'iphonexrapple', 'networks', 'sitting', 'saadilamdin', '2000', 'finish', 'twittercomafuaasamstatu', 'number', 'keyboard', 'gold', 'storewish', 'still', 'gaming', 'written', 'die', 'tfi', 'gun', 'sprintcare', 'music', '34', 'once', 'with', 'kids', 'boy', 'fresh', 'gadgets', 'youboss', 'convincing', 'millions', '1when', 'samsungs', 'tell', 'ios11', 'newest', 'dlvritqsrghp', 'reviewi', 'gift', 'paintings', 'a37with', 'wowmy', 'doubts', 'lord', 'shitif', 'airtel', '24k', 'ios1111', 'oled', 'overall', 'radio', 'youtubeit', 'win', 'isnt', 'updated', 'heard', 'clothes', '350', 'cold', 'speaker', 'screeni', 'thoughif', 'month', 'nicei', 'cards', 'lmao', 'youtubecmiz1lcq5fka', 'click', 'sony', 'deck', 'exception', 'ohyoure', 'device', 'decade', 'heart', 'says', 'akhirnya', '4', 'harps', 'pretty', 'insanely', 'your', 'kdbut', 'slowing', 'girls', 'yeah', 'accuracy', 'even', 'sit', 'tap', 'hellllla', 'upsomeone', 'confident', 'memories', 'installed', 'idk', 'unresponsiveso', 'owned', 'co', 'bootleg', 'infoi', 'ordered', 'uki', 'excuse', 'anymore', 'joeygraceffa', '1st', 'us816613182479466496', 'episode', 'insurance', 'dimensions', 'price', 'gadget', 'hit', 'brokehsbc', 'screens', 'loli', 'ipad', 'longer', 'whereismyhomebutton', 'xit', 'xscrew', 'itmy', 'pvp', 'noticeable', 'someones', 'th', 'curryspcworld', 'choose', '64gbawesome', 'la', 'prereleasethe', 'commuter', 'explains', 'cracked', 'legit', 'dick', 'pixel3', 'alsougghhh', 'uses', 'nowhen', 'dufresh4', 'till', '1300', 'wi', 'thanksi', 'piece', 'chance', 'sooooo', 'randomly', 'low', 'skegness', 'realize', 'thr', 'downgrade', 'rstatus930155971191681026', 'everythingmultiple', 'choiceiphone', 'xmasi', 'spare', 'newer', 'college', 'absolutely', 'birthday', 'try', 'weekend', 'imma', 'feelyeah', 'apps', 'belom', 'mins', 'real', 'some', 'roadto500k', 'premium', 'iphone7', 'siracusa', 'chez', 'tough', 'rowi', 'selling', 'vid', 'pricesactually', 'infront', 'now', '6yall', 'fansite', 'holiday', 'never', 'account', 'friend', 'fools', 'background', 'cut', 'problem', 'week', 'bet', 'quality', 'minutes', 'expensiveiphone', 'ya', 'itcouldnt', 'thank', 'instead', 'take', 'bestfirst', 'phonearenacomnewshereish', 'tempted', 'read', 'igpus', 'sides', 'availability', 'nothin', 'probably', 'edge', 'htc', 'samsung', 'golden', 'monday', 'login', 'xpensive', 'fooling', 'ima', 'iphonex', '1500', 'servicebeen', 'sold', 'jolove', 'hands', 'nathantriska', 'emojis', 'fix', 'reject', 'leastthats', 'long', 'firstif', 'uk', 'exploit', 'input', 'grown', 'musically', 'bank', 'mask', 'samsungmobile', 'youtubesqldxppmsea', 'planthe', 'expensivegoing', 'mall', 'overpriced', '540', 'izen', 'along', 'pocket', 'x', 'funds', 'opportunity', 'spoofing', 'could', 'satisfaction', 'although', 'applesupport', 'complaint', 'roast', 'rep', 'free', 'losers', 'dive', 'animojilife', 'vouchercloud', 'knowwww', '2150', 'snapchat', 'reali', 'glasses', 'trynna', '300', 'knew', 'service', '6t', 'icon', 'many', 'grounded', 'trade', 'hell', 'glad', 'badthat', 'cheaper', '20', 'headphone', 'received', 'dis', 'sort', 'banksy', 'official', 'skip', 'front', 'tbhwe', 'web', 'genius', 'instagram', 'half', 'forfinally', 'playlist', 'baseveryone', 'hadnt', 'friendsjust', 'example', 'idthinkin', 'ministers', '15', 'badoh', 'casey', 'guy', 'care', 'everybody', 'articles', 'chose', 'improving', 'amazing', 'flop', 'spider', 'iosblack', 'nonissue', 'isthe', 'outside', 'model', 'charging', 'calls', 'purpose', 'days', 'iphanboys', 'program', 'need', 'homeless', 'word', 'gifts', 'custom', 'hype', 'v', 'older', 'methis', '395', 'cultcast', 'lollol', 'pictwittercom71pjcufytyi', '1rst', '910', 'course', 'believe', 'commercial', 'uttar', 'iphonei', 'around', 'struggle', 'become', 'jack', 'mine', 'back', 'tm', 'moron', 'screenlooking', 'conspiracy', 'easy', 'staff', 'add', 'prayersof', 'emote', 'volume', 'ground', 'wrong', 'cousin', 'normal', 'smthnnice', 'turned', 'flagships', 'sim', 'blow', 'sizehow', 'johnlegere', 'yesterday', '7plus', 'severity', 'iphone', '11', 'jealous', 'ulta', 'owner', 'somebody', 'havent', 'percentage', 'wallet', 'buttonmy', 'gamblewish', '256', 'hey', 'season', 'experiences', 'colombia', 'burnin', 'prize', 'pays', 'zar', 'depth', 'smooth', 'accessible', 'dm', 'goodness', 'tutorials', '240', 'ride', 'join', 'sleeker', 'fingerprint', '256prolly', 'able', 'waiting', 'polished', 'muchkinda', 'game', '8', 'contractlike', 'unlocked', 'wtfi', 'markdohner', 'oneyou', 'shirti', 'placed', 'yall', 'star', 'mashable', 'retweet', 'surfaces', 'everyone', 'kidney', 'ever', 'mf', 'danggg', 'story', 'decided', 'badpengen', 'like', 'no', 'go', 'concludes', '6sand', 'nose', 'that', 'came', 'steve', 'faster', 'been', '17', 'discount', '10yearolds', 'flawless', 'wide', 'please', 'itid', 'phone', 'old', '79', 'fullestiphone', 'festive', 'conversation', 'annoyed', 'entire', 'foreverrrrrr', 'xs', 'access', 'too', 'drop', 'significant', 'limit', 'twittercomtia_ewingstat', 'buyer', 'may', 'life', 'important', 'think', 's9', 'ghosting', 'my', 'crap', 'smashing', 'deserve', 'glitching', 'vagaries', 'gvwyioemu3ld0', 'ridiculous', 'xto', 'starting', 'cinematic', 'personal', 'lady', 'fbme1jd4s5mfc', 'purchase', 'fine', 'tf', 'deals', 'terms', 'alreadywhen', 'xnah', 'enjoyable', 'mehn', 'agree', 'ready', 'watching', 'confused', 'thenyou', 'methanks', 'httpswww', 'were', 'hardest', 'wan', 'ditching', 'recognition', 'ughhhgonna', 'freak', 'lucky', 'buttt', 'bullshit', 'realized', 'subtle', 'iphone8', 'going', 'fan', 'chargetecno', 'watch', 'easier', 'cause', 'bullshittin', 'wordi', 'making', 'loginedge', 'talking', 'wtf', 'dumb', 'handing', 'attention', 'talk', 'else', 'pake', 'gb', 'student', '3we', 'patient', 'just', 'sexiest', 'dying', 'mum', 'mrwhosetheboss', 'design', 'online', 'innovation', 'went', 's8', 'mkbhd', 'sadly', 'freezes', 'beli', 'getting', 'features', 'yea', 'switch', 'wasnt', 'iphonexso', 'reviewshow', '4k', '24', 'pics', 'lolwhat', 'deliver', 'bell', 'firstdo', 'versionpoor', 'weeki', 'for', 'runs', 'man', 'aapl', 'appledo', 'hahaha', '49', 'or', 'scammed', 'auntvip', 'onlyme', 'maroc_telecom', 'sick', 'cant', 'look', 'holla', 'authorised', 'batch', '99cents', 'forget', 'rotates', 'loss', 'android', 'no1', 'deal', 'experience', 'johnlegerei', 'reality', 'mei', 'help', 'reallyyyyy', '256gbiphone', 'pictwittercomama02k5njci', 'noticed', 'delivery', 'bedroom', 'offangle', 'drawls', 'airpods', 'videos', 'pelayo', 'presents', 'biggeri', 'contact', 'ago', 'upfront', 'big', 'explanation', 'gon', 'jailbreak', 'britney', 'twittercombusinessinside', '90k', 'cognitivedissonancereturning', 'hmm', 'sampe', 'audio', 'slightly', 'million', 'reallyi', 'ecosystem', 'activate', 'thinking', 'august', 'walked', 'pernah', 'lots', 'however', 'backnot', 'relationship', 'ending', 'dab', 'copy', 'issue', 'backimma', 'good', 'saliva', 'wow', 'advent', 'phones', 'professor', 'niis', 'reach', 'hahaneed', 'urge', '256g', 'drunk', 'dealers', 'wouldve', 'currently', 'guides', 'freethe', 'glitch', 'saying', 'foodforthoughtneed', 'theyre', 'ruins', '8plus', 'sooo', 'art', 'lags', 'verizons', 'raised', 'next', 'landscape', 'planet', 'wonbuy', 'pushed', 'ucstarfest', 'hiring', 'kinda', 'twittercommaroc_telecom', 'screenshotted', 'designed', 'tabs', 'wanted', 'israel', 'san', 'ones', '1000000', 'lolrt', 'paper', 'home', 'guess', 'onei', 'definitely', 'dollarsbutttt', 'cyber', 'check', 'best', 'seems', 'waterproofapples', 'pictwittercomkueayojwmnim', 'lose', 'combining', 'announcement', 'screwed', 'control', 'moms', 'brazil', 'store', 'youtube9ca8zwjolfq', '2018', 'saydo', 'looks', 'app', 'meet', 'useseriously', '1000', 'bulgaria', 'copied', 'tends', 'eitherios', '105', 'smaller', 'lock', 'eh', '193', 'highest', 'dislike', 'urgent', 'behind', 'y3', 'mps', 'gets', 'spending', 'oh', 'travel', 'itshit', 'physically', 'unlocks', 'space', 'throws', 'camp', 'buggati', 'pro', 'open', 'send', 'laugh', 'purchased', 'consumerist', 'allowed', 'doi', 'chat', 'bad', 'video', 'ask', 'ownsamsunggalaxy', 'planned', '8talking', 'reselling', 'impossible', 'marketing', 'luckman', '3rd', 'wif', 'specifically', '78', 'complaining', 'olds', 'house', 'another', 'independent', 'soooo', 'eitherwent', 'selfiescould', 'tim_cook', 'promotion', 'yet', '950', 'salesomeone', 'headphones', 'update', 'ab', 'worked', 'shambig', 'putting', 'suffered', 'more', 'clearly', 'here', 'nervous', 'late', 'vulnerable', 'bit', 'mistake', 'honestly', 'excited', 'hypercritical', 'literally', 'itiphone', 'tapi', 'holding', 'receive', 'kingseun3', 'sell', 'pissed', '060i', 'forgotten', 'dropped', 'quit', 'misses', 'feels', 'jesus', 'pto', '128gb', 'plusevery', 'youtube7ogyolyko6aa', 'except', 'polaroidyour', 'ticket', 'lightingi', 'howto', '64', 'upgrade', 'protect', 'toronto', 'tried', 'ps', 'seemed', 'unclaimed', 'reduce', 'willing', 'give', 'storeim', 'needs', 'resolution', 'serious', 'email', 'club', 'futurei', 'bestyup', 'id', 'http', 'accident', 'terrible', 'thinks', 'representative', 'time', 'work', '2x', 'omg', 'fund', 'talli', 'tmobiles', 'ad', 'end', '4sapple', 'insane', 'you', 'irritating', 'patiently', 'twittercomolajvdestatus', 'language', 'freehold', 'payment', 'themkindly', 'plusi', 'range', 'displayor', 'sync', 'applenewsa5quuwcqrbun9', 'top', 'public', 'alreadylooks', 'everyday', 'nice', 'test', '769', 'pictwittercomjixvit1k0swhy', 'matter', '23', 'ads', 'resist', 'set', 'thoughtoday', 'line', 'horrificim', 'smashed', 'employer', 'nowi', '1063', 'main', 'closed', 'dollar', 'monopoly', 'europeapple', 'father', 'owe', 'collectors', '7its', 'elements', 'rajivmakhni', 'blurred', 'luck', 'dumpty', 'outyesterday', 'animojis', 'success', '4th', 'loved', 'waitfew', 'shrek', 'mothers', 'really', 'times', 'hypnotized', 'tmobile', 'feign', 'lucknow', 'loyal', 'everythingget', 'dad', 'apple', 'rts', 'bitly2z2qjv5', 'wallpaper', '100', 'due', 'tall', 'fun', 'dadused', 'enough', 'interestedi', 'entered', 'promised', 'pictwittercom4lipdpjbufthe', 'creating', 'outtta', 'trying', 'busting', 'tech', 'tree', 'touch', 'couldnt', 'slove', 'slash', 'extra', 'europe', 'googlb3xnbe', 'sad', 'plustbh', 'ratu', 'erfon', 'pressing', 'site', 'peoples', 'gestures', 'freezing', 'woman', 'ups', 'hopped', 'bonkers', 'bravo', '25', 'wake', 'right', 'til', 'tonight', 'is', 'shoes', 'francisco', 'nominate', 'tablets', 'ship', 'priced', 'strong', 'how', 'kid', 'picture', 'nigga', 'expensive', 'cursewhen', 'graysondolan', 'bro', 'future', 'christmas', 'compelling', 'takes', 'brag', 'item', 'compete', 'itwish', 'david', 'three', 'rich', 'disappointed', 'googlfbfu76pf', 'youll', 'deadass', 'pictwittercomckyos4jwuti', 'forward', 'ft', 'humpty', 'difference', 'said', 'p', 'asap', 'plan', 'u', 'anddddd', 'shoved', 'experiencei', 'breadyeah', 'adult', 'solid', 'usesnope', 'haha', 'vem', 'sophia', 'trading', 'qz', 'hopefully', 'roundmy', 'switchingiphone', 'diamonds', 'mobile', 'breaks', 'usually', 'cute', 'learning', 'popular', 'twelve', 'taken', 'hadi', 'spoiled', 'vouchercloudcomdid1988896r', 'pictwittercom3ech4wkrjcomg', 'thankshad', 'match', '109', 'sams', 'cases', 'pictwittercom8odmkuxsrkto', 'ny', 'cost', 'cast', 'trap', 'expensivei', 'order', 'googlyafuzy', 'pay', 'reader', 'wont', 'weeks', 'flight', 'radial', 'toldme', 'ethandolan', 'firstworldproblemshate', 'zone', 'others', 'barely', 'they', 'lmk', '1000my', 'ferrari', 'bday', 'link', 'facialrecognition', 'thotoday', 'made', 'issues', 'zoellas', '50', 'flagship', 'mfs', 'comparison', '82', 'pic', 'notchbad', 'madeim', 'theyd', '1010', 'possibly', 'following', 'know', 'prepared', 'badthe', 'country', 'phonei', 'baddo', 'galaxy', 'sir', 'pictwittercom3ech4wkrjcneed', 'youtubenpt5tsd0bbi', '246', 'shopping', 'much', 'bucks', 'asked', 'guessing', 'pleasei', 'of', 's3', 'hearing', 'ordering', 'iphonesngl', 'phonehate', 'strange', 'suggested', 'lilyhands', 'pictwittercom9maes4iod2i', 'allwayshey', 'rack', 'might', 'experiencing', 'computer', 'funi', 'logan', 'introduce', 'wish', '38000', 'india', 'velocity', 'thingbuy', 'pubg', 'owners', 'favourite', 'friday', 'version', 'officialimicca', 'products', 'camerai', 'indonesia', 'shiti', '5', 'saw', 'xhave', '7layerskinzcom', 'storesi', 'visit', 'aint', 'seun', 'ill', 'december', 'what', '179', 'saved', 'shipping', 'shit', 'xstand', 'hai', '13', '10the', 'differentneed', 'displays', 'blew', 'note', 'sorry', 'motherfuckers', 'efkj8m0aemiim4jh0x3cgyiq3d3dutm_sourcecompetitionutm_mediumreferralutm_campaigncompetition20sharing', 'unhappy', 'blazing', 'backgrounds', 'whole', '6', 'steep', 'bnow', 'contractoneplus', 'bitch', 'wellthe', 'damn', 'ah', 'christmasi', 'may3', 'their', 'impatienti', 'oneplus', '4what', '9934000507', 'costs', 'needless', 'doctor', 'folk', 'prepped', 'weather', 'dumbass', 'get', 'yeri', 'third', 'whether', '16', 'lte', '10yearold', 'themiphone', 'picking', 'outits', 'where', 'an', 'screen', 'massively', 'lolso', 'overlooked', 'gripe', 'pictwittercomrueekshlb6lol', 'xbox', 'xshould', 'dies', 'pictwittercomrefhi3gc8vthey', 'paychecks', 'winner', 'elsewhere', 'ta', 'amount', 'ios', 'notch', 'advisee', 'flagshipsbullshit', 'most', 'scratch', 'radios', 'always', 'regular', 'soon', 'theres', '100200', 'ends', 'worth', 'doesnt', 'upset', 'skincare', '1i', 'hed', 'pictwittercome7nqh9sdq2can', 'lol', 'applestore', 'sheep', 'biased', 'singularity', 'january', 'why', 'since', 'recommend', 'sugar', 'og', 'impulse', 'smh', 'stupid', 'failgot', 'whats', 'tesco', 'pushing', 'tomorrow', 'bugs', 'sending', 'uncarrier', 'beechloren02', 'strongly', 'either', 'shitgotta', 'finding', 'max4200', 'ive', 'daybreakasia', 'edition', 'table', 'intial', 'recover', 'machinery', 'deciding', 'knowget', 'breaking', 'anything', 'told', 'refund', 'highly', 'technologies', 'wouldnt', 'choice', 'begged', 'release', '280cdont', 'adjust', 'nhs', 'laterif', '129', 'remember', 'booked', 'yr', 'ugly', 'carry', 'whatsapp', 'knocki', 'odd', 'ucnews_india', 'questionable', 'rotate', 'broke', 'we', 'uglier', 'apparently', 'alreadyyyyyyyyyyyyy', 'unless', 'giveaway', 'srorythe', 'want', 'missed', 'onboard', 'hear', 'backwhy', 'scroll', 'owni', 'are', 'pictures', 'cabinet', 'wtfreally', 'onlyinafrica', 'whoever', 'kill', 'latest', 'experienced', 'bring', 'wanti', 'sidesliterally', '400', 'sign', 'thatyour', 'businessbest', '72', 'quicker', 'games', 'ought', 'poor', 'someday', 'biggest', 'say', '8before', 'mate', 'suck', 'when', '256gbsince', 'small', 'alright', 'cancel', 'pros', 'commercials', 'maybe', 'seriouslydebt', 'brokeok', 'way', 'daymaybe', 'helps', 'information', 'adapteri', 'thingim', 'had', 'attempt', 'manage', 'listened', 'xgrayson', 'trouble', 'somethingall', 'todaybest', 'box', 'existedmy', 'tracking', 'stuff', 'upshelp', 'bought', 'maxes', 'isgod', 'awesomeme', 'telling', 'w', 'watchwhy', '10', 'nigeriathe', 'charger', 'super', 'desired', 'greatkid', 'piezoelectric', 'prank', '1after', 'rubber', '10x', 'pm', 'local', 'review', 'paye', 'wack', 'evr', 'keep', 'https', 'if', 'dey', 'tho', 'technologymy', 'e8n96wyoq', 'stories', 'customerafrican', 'stuck', 'pici', 'about', 'goodthat', 'originally', 'wants', 'pray', 'sound', 'itim', 'rated', 'tire', 'seem', 'change', '13333', 'extremely', 'follower', 'followers', 'youtube', 'thisif', 'makeup', 'cop', 'kind', 'totally', 'rn', 'i', 'replacement', 'customers', 'see', 'save', 'feel', 'inuse', 'whilst', 'broken', 'delivered', 'youtube0ercfyjqhn0a', 'fuck', 'starbucks', 'today', 'depressed', 'fast', 'clappedlooks', 'idiot', 'two', 'firstmrwhosetheboss', 'indiawas', 'thxyeah', '30th', 'funding', 'feelslooks', 'htlyjzup50fbcgr', 'pc', 'switching', 'and', 'hshshsh', 'such', 'anyone', 'regardless', 'cited', 'dayi', 'different', 'dinosaur', 'white', 'temptation', 'in', '26', 'shouldnt', 'per', 'seen', 'swore', 'thisat', 'concerns', 'counterpartsi', 'brand', 'living', 'seconds', 'little', 'minute', 'product', 'unlockedtryna', 'gave', 'green', 'ughhhits', 'knowi', 'dat', 'copies', 'full', 'na', '545', 'justify', 'omo', 'davidinglestvsaw', 'everything', 'causing', 'adapting', 'users', 'bugged', 'not', 'maxhello', 'netflix', 'sucks', 'slow', 'large', 'earlier', 'would', 'consideration', '245', 'nothing', '2017', 'daughters', 'werent', 'collapse', 'carriers', 'repeatedly', 'brotheri', 'brightness', 'stoopid', 'swear', 'lcd', 'releasealhamdulillah', 'mom', 'shifting', 'type', '2', 'lexysavvides', 'oldim', 'prepaid', 'xthe', 'gotten', 'starsi', 'total', 'lmaoo', 'fasthey', 'mommy', 'huge', 'prob', 'pictwittercomiayz2yxnzaim', '256gb', 'whateva', 'usual', 'pricetag', 'was', 'freelove', 'cs', 'cnetco2ds00h2', 'sure', 'november', 'att', '250', 'themi', '4kgot', 'find', 'bens', 'patronize', 'tax', 'llama', 'buttons', 'youtubeed3r9bzzlge', 'emoji', 'sooooooo', 'r', 'grow', 'face', 'de', 'shop', 'animoji', 'screenif', 'generally', 'pls', 'center', 'outright', 'son', 'searcher', 'xim', 'stock', 's1068249266026614784', 'should', 'screenshots', 'complain', 'guessthis', 'goes', 'google', 'ear', 'estimates', 'arrive', 'eyes', 'twitter', 'wakakakakasince', 'canada', 'somehow', '2018it', 'annoying', 'ibooks', '2so', 'year', 'less', 'checked', 'understand', 'working', 'pictwittercomh6anld8kpy', 'loliphone', 'plzi', 'warranty', 'spent', 'ee', 'blocked', 'pictwittercombbvbifoe8s', 'slower', 'expensivewhy', 'beautiful', 'coming', 'notice', 'dickhead', 'generation', 'bitly2i79hpw', 'worst', 'included', 'started', 'alreadywhys', 'controversial', 'tbh', 'stack', 'nicely', '4gb', 'play', 'harder', 'expected', 'ngl', 'played', 'stores', 'guilty', 'iti', 'reason', 'actuallybuy', 'display', 'naira', 'thats', 'couple', 'sux', 'including', 'looking', 'places', 'gained', 'difficdoes', 'zoella', 'idea', 'tuesdayso', 'ituprgrading', 'manager', 'new', 'proper', 'fire', 'compliments', 'buyingi', 'shows', 'onto', 'ownershipits', '1500when', 'criminal', 'grandpa', 'better', 'remove', 'grand', 'sundar', '1100', 'snaps', 'room', 'system', 'bitchthe', 'least', 'far', 'bottom', 'length', 'grandma', 'ti', '12th', 'havini', '150', 'trust', 'stressed', 'reported', 'off', '400k', 'can', 'snap', 'reareal_t3vin11', 'call', 'post', 'boringembracing', 'wired', 'constantlydaily', 'improvementscrazy', 'america', 'garyvee', 'great', 'replying', 'screw', 'groceries', 'gear', 'inexpensive', '1password', 'things', 'all', 'spend', 'live', 'badwe', 'faceid', 'ashleybeauty43', 'jokes', 'swapped', 'ridiculously', 'stay', 'battery', 'data', 'pictwittercomx1bnvnseqzso', 'congrats', 'struggling', 'justice', '6s', 'recevoir', 'include', 'cheapest', 'sample', 'tweakin', 'pictwittercom7tzbh5hnj4i', 'youtubeou89o_ppubya', 'his', 'flipitgwznhh', 'verdict', '64gb', 'apples', 'world', '5k', 'iphonexlololol', 'thati', 'haptics', 'years', 'iphoneo', 'otps', 'xwhy', 'cracklingsound', 'thanks', 'envirofone', 'students', 'realise', '370', 'controlbesides', 'purposely', 'appreciated', 'eiiapplesupport', 'pleasure', 'fb', 'personally', 'tempting', 'applehow', 'sells', 'buzzing', 'multiple', 'carmy', 'fucking', 'models', 'convinced', 'knowing', 'taking', 'groceriesthe', 'every', 'hate', 'accurate', 'added', 'towow', 'lure', 'its', 'xthats', 'note8', '10gb', 'paying', 'pricing', 'fml', 'productsletterthanks', 'nerdwomanisme', 'tweaking', 'trick', 'fail', 'vertical', 'thousand', 'rolling', 'ok', 'iftttea8v8j', 'reasonable', 'build', 'camera', 'problems', 'base', 'sena', 'spinning', 'moneythis', 'but', 'apartment', 'iphonexmy', 'fourth', 'recognize', 'wonder', 'fell', 'something', 'wait', 'ux', 'lmaoim', 'batches', 'signed', 'girl', 'sexy', 'phoneim', 'africaidk', 'afford', 'produce', 'lowkey', 'tiny', 'reviewspathetic', 'portrait', 'button', 'homescreen', 'a130pm', 'used', 'davidinglestviphone', 'wig', 'first', 'cali', 'pictwittercomzhgomp7sr3iphone', 'tiffany', 'asking', 'treesi', 'rock', 'thoughiphone', 'released', 'im', 'darkwatch', 'waste', 'brothers', 'basically', 'blue', 'leavinglike', 'itapple', 'higher', 'psychopath', 'pictwittercom0w6rdfvpfmstupidity', 'tbhi', 'vs', 'without', 'creeping', 'horrendous', 'people', 'flip', 'also', 'supreme', 'otterbox', 'considering', 'hon', 'mixed', 'primary', 'especially', 'mother', 'car', 'mates', 'aldi', 'poop', 'hope', 'digits', 'pictwittercomj5zkczudnilmao', 'itll', 'feature', '4omg', 'jumia', 'knows', 'past', 'meiphone', '200', 'fancy', 'suggestions', 'onecan', 'smarter', 'op', 'colour', 'qualityspeaker', 'anybody', 'liked', 'gigabit', 'support', 'come', 'utterly', 'movie', 'max', 'lightning', 'though', 'retort', 'shitty', 'mad', 'shall', 'aus', 'enrollee', 'will', 'devices', 'adopted', 'pictwittercomvupeg5nezxam', 'seei', 'c4etechtamil', 'xyou', 'actually', 'mute', 'advicing', 'hours', 'reportssome', '247', 'joy', 'done', 'mts', 'scheme', 'only', 'lovely', 'who', 'amp', 'gesture', 'bigbrother', 'isumm', 'dinrcgot', 'at', 'unlimited', 'thatalso', 'twittercomyongiemystics', 'whenever', 'size', 'pixel', 'verizon', '9yo', 'the', 'reservations', 'card', 'sale', 'throw', 'durability', 'lot', '099', 'reserve', 'start', 'print', 'didnt', 'it100', 'plus', 'took', 'spendbeen', 'encourage', 'oversaturated', 'thugnology', 'sasautoscomlink43316119', 'friends', 'hahahait', 'lame', 'using', 'technology', 'almost', '45', 'cheap', 'boring', 'hoping', 'buy', 'looked', 'night', 'xits', 'cameras', 'taxation', 'hi', 'list', 'n', 'mac', '1068026546504548352', 'whos', 'us', 'programme', 'fall', 'parent', 'swhen', 'this', 'calling', 'awesome', 'black', 'reviews', 'pluswhen', 'rt', 'glitches', 'available', 'away', 'well', 'so', 'phoneiphone', 'kidneyno', 'apart', 'giving', 'rather', 'useless', 'badwhy', 'beat', 'faulty', 'sorryhate', 'airplane', 'content', 'color', 'benefiti', 'plusim', 'smhi', 'offered', 'school', 'tv', '14', 'decide', 'happy', 'jasonnash', 'o2', 'brings', '999', 'nowsomething', 'iam_erica', 'xd', 'decision', 'a', '3t', 'morganfor', 'activated', 'perfectly', 'target', 'shared', '7', 'canceled', 'modeli', 'itmight', 'decent', 'pleasewish', 'any', 'youtube0vzgklj9mpqa', '1', 'wednesdaythoughts', 'youre', 'requires', 'simply', '3', 'lovers', 'oldest', 'forever', 'rating', '5th', 'pictwittercomuhpefph8yni', 'screenshot', 'freeze', 'preorder', 'uglyretard', 'buyi', 'laptopyou', 'crazy', 'enabler', 'recognizing', 'bc', 'flame', 'youtubegy2t9uwuhmwa', 'he', '3t5g9ysc1sc1l1ppy4291063', '75', 'xi', 'filters', 'moneyi', 'news', 'lulu', 'outso', 'youyes', 'loren', 'alreadyi', 'buying', 'from', 'cooper', 'original', 'dude', 'favor', 'hella', 'playing', 'true', 'second', 'fckn', 'daddy', 'monthas', 'major', 'break', 'nokia', 'ui', '3d', 'trees', 'shouldbuy', 'got', 'lost', 'llamaid', 'months', 'someone', 'port', 'has', '133x', 'last', 'guys', 'use', 'tht', 'steven', 'return', 'one', 'funny', 'spensive', 'nov', 'ass', 'stop', '333', 'day', 'make', 'untill', 'sounds', 'obviously', 'instagramcompbbxanptje3i', 'contract', 'b', 'horrible', 'orders', 'bogo', 'youtubeso', 'comes', 'ifttt2ynoaib', 'bud', 'spoken', 'hansoni', 'rejoin', 'thought', 'horizontal', 'thankswhen', 'planning', 'texts', 'mean', 'advantage', 'colors', 'paid', 'inch', 'method', 'meal', 'riverdalei', 'owyoucangetafreeiphone864gbwhenyoubuyaniphonexatatt_id99708', 'reopenyo', 'xthose', 'lens', 'takut', 'alsoi', 'tim', 'meant', 'wash', 'photo', 'silly', 'enter', 'aed', 'refine', 'mbad', 'bei', 'killing', 'let', 'offer', 'prices', 'returned', 'thingi', 'needed', 'dont', 'anaseini', 'messing', 'ciaravinoecon', 'put', 'interested', 'ppl', 'xwait', 'insteadwish', 'shipment', 'prefer', 'launch', 'have', 'code']\n"
     ]
    }
   ],
   "source": [
    "def make_unique_li(li_cleanText):\n",
    "    unique_words_set= set(li_cleanText)\n",
    "    unique_word_li = list(unique_words_set)\n",
    "    return unique_word_li\n",
    "\n",
    "\n",
    "def stemmed(li_cleanText):\n",
    "    count_stemed=0\n",
    "    for word in li_cleanText:\n",
    "        if word[-1]==\"s\":\n",
    "            li_cleanText[count_stemed]=word[:-1]\n",
    "        elif word[-2:]==\"ed\":\n",
    "            li_cleanText[count_stemed]=word[:-2]\n",
    "        elif word[-3:]==\"ing\":\n",
    "            li_cleanText[count_stemed]=word[:-3]\n",
    "        count_stemed+=1  \n",
    "    return li_cleanText   \n",
    "# li_stemmed = stemmed(li_cleaned_text)\n",
    "uniqueWords = make_unique_li(li_cleaned_text)\n",
    "print(uniqueWords)"
   ]
  },
  {
   "cell_type": "code",
   "execution_count": 9,
   "metadata": {},
   "outputs": [],
   "source": [
    "def DocVector():\n",
    "    data=np.zeros([final_df['class'].count(), len(uniqueWords)])\n",
    "    docVector1=pd.DataFrame(data,columns=uniqueWords)\n",
    "    docVector=docVector1.assign(PurchaseIntention = list(final_df['class']))\n",
    "    # docVector['Purchase Intention'] = final_df['class']\n",
    "    # print(docVector['PurchaseIntention'])\n",
    "    doc_count = 0\n",
    "    for doc in final_df['text']:\n",
    "        words = doc.split()\n",
    "        for word in words:\n",
    "            temp=word.lower()\n",
    "            if temp in docVector.columns:\n",
    "                docVector.at[doc_count, temp] += 1\n",
    "        doc_count += 1\n",
    "        \n",
    "    return docVector\n",
    "\n",
    "\n",
    "docVector = DocVector()  "
   ]
  },
  {
   "cell_type": "code",
   "execution_count": 26,
   "metadata": {},
   "outputs": [
    {
     "name": "stdout",
     "output_type": "stream",
     "text": [
      "total PI  379\ntotal non PI  245\n"
     ]
    },
    {
     "name": "stdout",
     "output_type": "stream",
     "text": [
      "prob pos  0.6073717948717948\nprob_neg  0.3926282051282051\n"
     ]
    }
   ],
   "source": [
    "def WordGivenNoPI(tempNegDocVector):\n",
    "    data=np.zeros([1,len(uniqueWords)])\n",
    "    wordGivenNoPI=pd.DataFrame(data,columns=uniqueWords)\n",
    "    columnSum = tempNegDocVector.sum(axis = 1, skipna = True)\n",
    "    numWordsInNoPI = columnSum.sum()\n",
    "    \n",
    "    for word in uniqueWords:\n",
    "        nk_wordinNoPI = tempNegDocVector[word].sum()\n",
    "        wordGivenNoPI.at[0,word] = (nk_wordinNoPI+1) / (numWordsInNoPI+len(uniqueWords))\n",
    "    return  (wordGivenNoPI , numWordsInNoPI)\n",
    "    \n",
    "    \n",
    "def TrainModel():\n",
    "    yesCount=docVector[\"PurchaseIntention\"]==\"yes\"\n",
    "    tempPosDocVector = docVector[yesCount]\n",
    "    totalPI = tempPosDocVector[\"PurchaseIntention\"].count()\n",
    "    print(\"total PI \",totalPI)\n",
    "    \n",
    "    noCount=docVector[\"PurchaseIntention\"]==\"no\"\n",
    "    tempNegDocVector = docVector[noCount]\n",
    "    # print(tempNegDocVector[\"PurchaseIntention\"])\n",
    "    totalNonPI = tempNegDocVector[\"PurchaseIntention\"].count()\n",
    "    print(\"total non PI \",totalNonPI)\n",
    "    # print(totalPI+totalNonPI)\n",
    "    # totalNonPI = docVector[\"PurchaseIntention\"].count() - totalPI\n",
    "    total = totalPI+totalNonPI\n",
    "    Prob_PI = totalPI/total\n",
    "    Prob_NoPI = totalNonPI/total\n",
    "    \n",
    "    data=np.zeros([1,len(uniqueWords)])\n",
    "    wordGivenPI=pd.DataFrame(data,columns=uniqueWords)\n",
    "    columnSum = tempPosDocVector.sum(axis = 1, skipna = True)\n",
    "    numWordsInPI = columnSum.sum()\n",
    "    \n",
    "    for word in uniqueWords:\n",
    "        nk_wordinPI = tempPosDocVector[word].sum()\n",
    "        wordGivenPI.at[0,word] = (nk_wordinPI+1) / (numWordsInPI+len(uniqueWords))\n",
    "        \n",
    "    df_wordGivenNoPI , numWordsInNoPI= WordGivenNoPI(tempNegDocVector) \n",
    "    return (wordGivenPI,df_wordGivenNoPI,Prob_PI,Prob_NoPI,numWordsInPI,numWordsInNoPI)\n",
    "   \n",
    "\n",
    "df_WordGivenPI,df_WordGivenNoPi,Prob_PI,Prob_NoPI,numWordsInPI,numWordsInNoPI = TrainModel()\n",
    "print(\"prob pos \",Prob_PI)\n",
    "print(\"prob_neg \",Prob_NoPI)"
   ]
  },
  {
   "cell_type": "code",
   "execution_count": 28,
   "metadata": {},
   "outputs": [
    {
     "name": "stdout",
     "output_type": "stream",
     "text": [
      "PI weight 1.3783784768259013e-25 No PI weight3.761903013771374e-25\nNo PI\n"
     ]
    }
   ],
   "source": [
    "def TestModel():\n",
    "    tweet=\"I like buying iPhone x if they improve their camera\"\n",
    "    weighPI=Prob_PI\n",
    "    weighNoPI=Prob_NoPI\n",
    "    for word in tweet.lower().split():\n",
    "        if word in uniqueWords:\n",
    "            weighPI = weighPI * df_WordGivenPI.at[0,word]\n",
    "            weighNoPI = weighNoPI * df_WordGivenNoPi.at[0,word]\n",
    "        else:\n",
    "             weighPI = weighPI * (1/(numWordsInPI+len(uniqueWords)))\n",
    "             weighNoPI = weighNoPI * (1/(numWordsInNoPI+len(uniqueWords)))\n",
    "    print(\"PI weight {0} No PI weight{1}\".format(weighPI,weighNoPI))        \n",
    "    if weighPI>weighNoPI:\n",
    "        print(\"have PI\")\n",
    "    else:\n",
    "        print(\"No PI\")\n",
    "\n",
    "    \n",
    "TestModel()        "
   ]
  }
 ],
 "metadata": {
  "kernelspec": {
   "display_name": "Python 3",
   "language": "python",
   "name": "python3"
  },
  "language_info": {
   "codemirror_mode": {
    "name": "ipython",
    "version": 3
   },
   "file_extension": ".py",
   "mimetype": "text/x-python",
   "name": "python",
   "nbconvert_exporter": "python",
   "pygments_lexer": "ipython3",
   "version": "3.7.0"
  }
 },
 "nbformat": 4,
 "nbformat_minor": 1
}
