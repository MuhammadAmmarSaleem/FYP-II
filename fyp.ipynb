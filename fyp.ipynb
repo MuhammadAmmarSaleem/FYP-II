{
 "cells": [
  {
   "cell_type": "code",
   "execution_count": 3,
   "metadata": {},
   "outputs": [],
   "source": [
    "import pandas as pd\n",
    "import numpy as np\n",
    "import nltk\n",
    "\n",
    "\n"
   ]
  },
  {
   "cell_type": "code",
   "execution_count": 5,
   "metadata": {},
   "outputs": [
    {
     "name": "stdout",
     "output_type": "stream",
     "text": [
      "undefined    441\nyes          245\nno           237\nUndefined    157\nPI           151\nYes           85\nNo            37\nName: class, dtype: int64\n     class                                               text\n0       no  i'll  buy  the  iphone   x  if it can  get  ac...\n1       no  Some dude in FB selling the  iPhone   X  64 gb...\n2      yes  Home dab emote man today and I  get  hopped on...\n3      yes                               Buy  an  iPhone   X \n4       no  I hate iOS 11. My  iPhone  6+ works 10X slower...\n7       no  Bo-go sale tomorrow at T-Mobile  buy  one  get...\n8      yes  I can  get  the  iPhone   X  here.... If I'm w...\n9      yes  When you  buy  an  Iphone   X  with Unlimited ...\n10     yes  @ Mrwhosetheboss  i really  wish  i  get  to m...\n11      no  @ sprint  @sprintcare  if I switch to @TMobile...\n12      no  Oneplus 5t has faster face recognition than  i...\n13      no  Don't  buy  an  iPhone   X  if you're ugly. I ...\n14      no  Could  buy  2x 5T with the price I paid for th...\n15     yes  My friend shopping:  iPhone   X  is not that e...\n16     yes  What if there was upgrade to an  iPhone  8 or ...\n19      no  I don't  get  it is it basically impossible to...\n20     yes  The  iPhone   X  is a pleasure to use. Far mor...\n22      no  I wanted the  IPhone   X  but now that most pl...\n23     yes  I  love  these holiday gift guides that assume...\n24     yes  VIP  NEED   BUY  AN  IPHONE   X   https:// twi...\n27      no  Anyone else experiencing an  iPhone  glitch wh...\n29     yes  Need  to just  buy  that  iPhone   X  so I can...\n30     yes  Apple just send me an email with Christmas gif...\n32     yes                               Buy  an  iPhone   X \n33     yes                              Love  the Design.... \n34      no  u can  buy  yourself an  iPhone   X  but can n...\n35     yes  I  love  my Note 8 its been an  awesome  phone...\n36      no                             Not this what i want  \n37      no  In crazy  love  with this video!!! Don't  Buy ...\n39     yes                 So in  love   w  the  iPhone   x .\n...    ...                                                ...\n1296    no  Im an Apple fanboy and I never thought I would...\n1297    no  So the  iPhone   X  is not  like  the letter i...\n1299   yes                  I'm gonna  buy  the  iPhone   X .\n1300   yes                     iPhone   X  brightness is good\n1303   yes  Got notified this morning my card was charged ...\n1306   yes  Had some hands-on time with a friend’s  iPhone...\n1307   yes                 i  need  my  iphone   x  to ship !\n1309    no  fucked up by messing with the  iphone   x  at ...\n1310   yes  The executive summary of this  iPhone   X  Dia...\n1311   yes                          I  need  that  iPhone   X\n1314   yes  Trying to  get  use to my  iPhone   X .  Wish ...\n1316   yes  Went to  get  the  iPhone   X  today but after...\n1317   yes  I just justified the  purchase  of this  iPhon...\n1318    no   I’m not upgrading to shit but that  iPhone   X .\n1319   yes  some kid walked into class with an  iPhone   X...\n1322    no                   I did not  want  an  iPhone   X \n1323   yes           Buy   iphone   x  for me from abroad... \n1328   yes                     Need  the  iPhone   X  asap...\n1331   yes      I  need  the  iPhone   X  just for the camera\n1332    no  So disappointed with my  iPhone   X  it didn’t...\n1334    no  iPhone   X  is such a  bad  investment so  exp...\n1335   yes  My brother can go and  get  him a whole  IPhon...\n1336   yes                       iPhone   X  is sooooo pretty\n1338   yes  Y’all  need  to just go ahead and  get  this  ...\n1342    no  I wanted to say I’m more in  love  with my  iP...\n1344   yes  All I  want  for Christmas Deb Ziegler Benton ...\n1346    no  I don’t  want  the  iPhone   X  until there’s ...\n1348   yes  need  a  iphone   x  so i can take a pic for m...\n1349   yes  I’m still getting used to the  iPhone   X  lay...\n1352   yes  love  this thread but i  need  my  iphone   X ...\n\n[755 rows x 2 columns]\n"
     ]
    }
   ],
   "source": [
    "\n",
    "# create series of true and false. True is assigned for yes/no. False for undefine\n",
    "def Extract (path):\n",
    "    fd= open(path,encoding=\"utf-8\", errors='replace')\n",
    "    df = pd.read_csv(fd)   \n",
    "    defined=df['class'] != (\"undefined\")\n",
    "    # #output dataframe without undeined\n",
    "    df2=df[defined]\n",
    "    defined1=df2['class'] !=\"Undefined\"\n",
    "    df4=df2[defined1]\n",
    "    #replace no PI with no\n",
    "    df3=df4.replace(\"No PI\",\"no\")\n",
    "    #replace PI with yes\n",
    "    final=df3.replace(\"PI\",\"yes\")\n",
    "    \n",
    "    replace_yes=final.replace(\"Yes\",\"yes\")\n",
    "    final_df= replace_yes.replace(\"No\",\"no\")\n",
    "    return final_df, df\n",
    "\n",
    "\n",
    "path='E:/DATA/Sem8/fyp/Training.csv'\n",
    "final_df,df=Extract(path)\n",
    "print(df['class'].value_counts())\n",
    "print(final_df)"
   ]
  },
  {
   "cell_type": "code",
   "execution_count": 4,
   "metadata": {},
   "outputs": [
    {
     "name": "stdout",
     "output_type": "stream",
     "text": [
      "          class                                               text\n5     undefined  Brilliant @johnlewisretail - added  iPhone   X...\n6     undefined  They doing that on purpose cause mine is to. T...\n17    undefined                                So if I  buy  a  X \n18    undefined  Buy   iPhone   X  and  get  in the same and yo...\n21    undefined  If @Spacekatgal  didn't  get  an  iPhone   X  yet\n25    undefined  I ordered my pixel 2 on Tuesday from Google & ...\n26    undefined  Would it be the same if I  buy  an  iPhone   X...\n28    undefined  I wanna  buy  my mom a new  iPhone  so bad. I ...\n31    undefined  @ AppleSupport   I have received the  iphone  ...\n38    undefined  I  wish  I had a girl that rode for me  like  ...\n41    undefined  You look  like  you stalk the uptown event the...\n42    undefined  What you got  like  4  IPhone   X 's  buy  me ...\n46    undefined  Who  need   iphone   x  I got the direct plug ...\n51    undefined  Pre-registered customers at T World who will  ...\n54    undefined  How the hell to  get  my sugar daddy to  buy  ...\n56    undefined  If you are deciding to  buy  Apple Care + for ...\n59    undefined  I have noticed that when a new  iPhone  comes ...\n60    undefined  UPS is the WORST.  iPhone   X  is taking the P...\n61    undefined  Should I  buy   iPhone  8 Plus or wait a lil b...\n64    undefined  Apple's Animoji might not  need  the  iPhone  ...\n70    undefined  I was getting ready to  buy  the  iPhone   X  ...\n71    undefined       Day 1  w /  iPhone   X  - first impressions:\n73    undefined  God keeps sending me signs to  buy  the  iPhon...\n74    undefined  I added a video to a @YouTube  playlist  http:...\n75    undefined  Whatsup  w  all the question emojis  like  we ...\n76    undefined  Get  your santa  wish  list ready  iphone   x ...\n77    undefined  # WednesdayWisdom  YOU  NEED  TO SEE TGIS VIDE...\n78    undefined  I feel  like  this happens every time a new  i...\n81    undefined  I hate  http:// to.read    negativity towards ...\n85    undefined  If I  get  a buck for every typo I make in a t...\n...         ...                                                ...\n1286  undefined  I  wish  I knew someone who had an  iPhone   X...\n1287  undefined             Maybe  iPhone   X  is  like  a Pokémon\n1295  undefined  I don't regret it at all. Just  wish  I had wa...\n1298  undefined  ROTFLMAO! RT @selfcritics : People : why did y...\n1301  undefined  Dear @ChipotleTweets . Your new app requires m...\n1302  undefined                         you won’t give me your dog\n1304  undefined                How yall  like  yall  iphone   x ??\n1305  undefined                   When you  get  the  iPhone   X ?\n1308  undefined                 See now I'm sitting here  like .. \n1312  undefined  We  want  some stacks  like  this one for  iPh...\n1313  undefined                                  Y’all at @Apple  \n1315  undefined                   Should i  get  the  iphone   x  \n1320  undefined                                               Damn\n1321  undefined  Every time I  get  a new  iPhone  I'm always e...\n1324  undefined  But how does the home indicator work? For  iPh...\n1325  undefined  @ applesupport  my  iPhone   X  was lost by UP...\n1326  undefined            Why  iPhone   X  will  get  MR at WWDC:\n1327  undefined  So my friend has the  iPhone   X  right and i ...\n1329  undefined  tried to go  get  the  iphone   x . apparently...\n1330  undefined  Who told my mom to  get  this  iPhone   X .......\n1333  undefined  Want  a cool wallpaper for your  iPhone   X ? ...\n1337  undefined  Goodbye Verizon and your  expensive  ass payme...\n1339  undefined  So you ( like  most of us) have opted to take ...\n1340  undefined  @ andywaysworld ’s  iPhone   X  makes my 7 Plu...\n1341  undefined  The first  iPhone  came out 10 years ago. 10 y...\n1343  undefined  5 Tips to Help You  Get  the Most Out of Apple...\n1345  undefined                     iPhone   X  Diary: One week in\n1347  undefined  I have to ship my old #iPhone  back since I bo...\n1350  undefined                              If You Have A Brother\n1351  undefined  Because many things on  iPhone   X  depends on...\n\n[441 rows x 2 columns]\n"
     ]
    }
   ],
   "source": [
    "# create series of true and false. False is assigned for yes/no. True is for undefined\n",
    "undefined=df['class'] == \"undefined\" \n",
    "#output dataframe without undeined\n",
    "df_undefine=df[undefined]\n",
    "print(df_undefine)\n",
    "\n"
   ]
  },
  {
   "cell_type": "code",
   "execution_count": 5,
   "metadata": {},
   "outputs": [],
   "source": [
    "def text_concat():\n",
    "    text=\"\"\n",
    "    for x in final_df[\"text\"]:\n",
    "        text=text +str(x)\n",
    "    return text\n",
    "corpus=text_concat()"
   ]
  },
  {
   "cell_type": "code",
   "execution_count": 6,
   "metadata": {},
   "outputs": [],
   "source": [
    "import re\n",
    "from nltk.corpus import stopwords \n",
    "from nltk.tokenize import word_tokenize \n",
    "\n",
    "def removeStopWords(text):\n",
    "    stop_words = set(stopwords.words('english')) \n",
    "    word_tokens = word_tokenize(text) \n",
    "    filtered_sentence = [] \n",
    "    for w in word_tokens: \n",
    "        if w not in stop_words: \n",
    "            filtered_sentence.append(w.lower()) \n",
    "    #return list of corpus without stop words in a list.        \n",
    "    return filtered_sentence  \n",
    "\n",
    "def removePunc(eachText):\n",
    "    remove_punc = re.sub(r'[^\\w\\s]','',eachText)\n",
    "    #return corpus with out punctuation.\n",
    "    return remove_punc\n",
    "\n",
    "\n",
    "\n",
    "def clean_data(corpus):\n",
    "    remove_punc=removePunc(corpus)\n",
    "    li_remove_stopWords= removeStopWords(remove_punc)\n",
    "    return li_remove_stopWords\n",
    "\n",
    "li_cleaned_text = clean_data(corpus)\n",
    "# bprint(li_cleaned_text)"
   ]
  },
  {
   "cell_type": "code",
   "execution_count": 7,
   "metadata": {},
   "outputs": [
    {
     "name": "stdout",
     "output_type": "stream",
     "text": [
      "['get', 'ssame', 'tough', 'youyes', 'pictwittercom8odmkuxsrkto', '245', 'verizon', 's3', 'xim', 'lots', '49', 'moron', 'pictures', 'follower', 'code', 'bit', 'lose', 'become', '34', 'once', 'samsungs', 'howto', 'everythinghey', 'sides', 'musically', 'come', 'jesus', 'llamaid', 'pushing', 'twittercomtyonna_mossst', 'dm', 'thread', 'emojis', 'plusim', 'knowi', 'johnlegere', 'dropped', 'durability', 'harder', 'brightness', 'crap', 'cousin', 'girl', 'benefiti', 'apart', 'otterbox', 'xpraying', 'pictwittercomckyos4jwuti', 'animojilife', 'dont', 'contract', 'trade', 'key', 'tomorrow', 'unclaimed', 'impatienti', 'rts', 'biggeri', 'youre', 'patient', 'scratch', 'twittercomtmobilestatus', 'forgotten', 'notified', 'fasthey', 'controlbesides', 'add', 'comfort', 'tesco', 'enough', 'wakakakakasince', 'insurance', 'wonbuy', 'productsletterthanks', 'felt', 'cook', 'daybreakasia', 'summary', 'xtrying', 'send', 'nowhen', 'game', 'ex', 'attention', 'old', 'slowing', 'youtube0vzgklj9mpqa', 'long', 'benton', 'also', 'soooo', 'xnah', 'humpty', 'lovely', 'giveaway', 'mkbhd', 'boringembracing', 'were', 'box', 'cnetco2ds00h2', 'erfon', 'fckn', 'twittercomdsharp_runsst', 'headquarters', 'youboss', 'nigeriathe', 'cracked', 'via', 'screens', 'mother', '82', 'daymaybe', 'iam_erica', 'radios', 'rotates', 'raised', 'or', 'assistance', 'whilst', 'twittercomyongiemystics', 'outso', 'drives', 'pretty', 'less', 'youtubenpt5tsd0bbi', 'site', 'marketing', 'received', 'lure', 'everythingget', 'tried', 'gained', 'touch', 'smaller', 'pick', 'week', 'airtel', 'lens', 'tire', 'rack', 'years', 'itwhen', 'seen', 'waterproofapples', 'making', 'recommend', 'expensivewhy', 'nothingpraying', 'port', 'thoughif', 'purpose', 'thingbuy', 'definitely', 'tipsi', 'oldim', 'accessible', 'sells', 'gift', 'prove', 'weekend', '2017', 'yea', 'november', 'yesterday', 'hai', 'severity', '10', 'prepared', 'seconds', 'entered', 'zar', 'ios11', 'fantasy', 'no1', 'personal', 'custom', 'trap', 'behind', 'mon', 'modeli', 'buddy', 'aldi', 'places', 'holiday', 'badpengen', 'audio', 'hahaha', 'pm', 'slower', 'theyre', 'xsomeone', 'fire', 'spoiled', 'check', 'biggest', 'applepay', 'businessbest', 'storewish', 'smthnnice', 'airplane', 'set', 'great', 'elements', 'wasso', 'means', 'realise', 'thoughcant', 'rstatus930155971191681026', 'carry', 'redesign', 'thankshad', 'pictwittercomkueayojwmnim', 'doubts', 'guys', 'harps', 'reach', 'boy', 'copied', 'markdohner', 'upgrade', 'strong', 'alreadywhen', 'bitchthe', 'ti', 'version', 'sooooo', 'more', 'vid', 'commercial', 'consumerist', '1st', 'ferrari', 'cards', 'shouldbuy', 'horrificim', 'breadyeah', 'aed', 'videos', 'somebody', 'bc', 'colour', 'plus', 'ifttt2m9qbda', 'layout', 'bout', 'shall', 'cabinet', 'resort', 'selfiescould', 'dad', 'grown', 'bruv', 'another', 'mommy', 'prize', 'reduce', 'entire', 'so', 's1068249266026614784', 'spare', 'wan', 'treesi', '300', 'lmaoim', 'wig', 'minute', '193', 'looks', 'moment', 'reallyyyyy', 'dislike', 'pocket', 'along', 'reallyi', 'charging', 'encourage', 'dinrcgot', 'wow', 'servicebeen', 'son', 'target', '30mbit', 'badwhy', 'many', 'decided', 'others', 'thxyeah', 'onei', 'fun', 'thathad', 'owner', 'collectors', 'omo', 'twittercomiwebstatus9', 'acting', 'space', 'themi', 'piece', 'shouldnt', 'xbox', 'phonearenacomnewshereish', 'play', 'let', 'alreadyi', 'cast', 'oversaturated', 'banksy', 'photo', 'efkj8m0aemiim4jh0x3cgyiq3d3dutm_sourcecompetitionutm_mediumreferralutm_campaigncompetition20sharing', 'save', 'prefer', 'bnow', 'advent', 'maybe', '9yo', 'plzi', 'wtfi', 'faulty', 'login', 'can', '7layerskinzcom', 'camp', 'might', 'start', 'enchantments', 'protect', 'gifts', 'tho', 'whateva', 'bought', 'owners', 'hypnotized', 'prank', 'tired', 'most', 'swear', 'pictwittercomvupeg5nezxam', 'alreadywhys', 'tracking', 'outright', 'fbme1jd4s5mfc', 'colors', 'screenshotted', 'youtubesqldxppmsea', 'black', 'man', 'rajivmakhni', 'tfi', 'itll', 'make', 'lovers', 'hed', 'youtubeed3r9bzzlge', 'owe', 'useless', 'hard', 'impulse', 'atus928349765582118912', 'outtta', 'open', 'times', 'idk', 'ee', 'ibooks', 'apple', 'thoughlove', 'nofilter', 'dayi', 'missed', 'kdbut', 'oneyou', 'tech', 'competitors', 'from', 'avatars', 'moneythis', 'moneyi', 'letter', 'least', 'ugly', 'prof', 'returned', 'whoever', 'tweakin', 'comes', 'weeki', '8', 'note', 'worth', 'august', 'deliver', 'helps', 'badoh', 'important', 'data', 'xit', 'combining', 'mum', 'owyoucangetafreeiphone864gbwhenyoubuyaniphonexatatt_id99708', 'tall', 'tweaking', 'class', 'wanted', 'backnot', 'everything', 'au', 'xapple', 'couldnt', 'landscape', 'could', '5th', 'going', 'wif', 'randomly', 'followers', 'patiently', 'swapped', 'genius', 'concerns', 'justice', 'warranty', 'heart', 'blocked', 'clips', 'generally', 's928670046565515264', 'anymore', 'shoes', '400k', '2018it', 'arrive', 'country', 'funny', 'macbook', 'friends', 'whether', 'needless', 'america', '10gb', 'singularity', 'sasautoscomlink43316119', 'working', 'decision', 'amazing', 'earlier', 'imma', 'temporarily', 'complaint', 'already', 'read', 'plustbh', 'full', 'jack', '28771583723823104', 'star', 'carmy', 'shoved', 'assume', 'tempting', 'compete', 'twittercomolajvdestatus', 'it100', 'orders', 'paying', 'pulling', 'prepaid', 'recognizing', 'customers', 'controversial', 'either', 'recover', 'guessthis', 'flagshipsbullshit', 'lol', 'failgot', 'preferred', 'thotoday', 'expected', 'salesomeone', 'nerdwomanisme', 'faceid', 'held', 'camerahow', 'cave', 'patronize', '4what', 'refuse', 'suggested', 'rotate', '999', 'thinks', 'pictwittercomiayz2yxnzaim', 'loans', 'kind', 'thrown', 'dec', 'want', 'finish', 'meal', 'thr', 'foodforthoughtneed', 'pictwittercom4lipdpjbufthe', 'told', 'hope', 'past', 'release', 'fourth', 'launch', 'throw', 'art', 'sizehow', 'friday', 'mbad', 'rlly', 'large', 'quality', 'nhs', 'insanely', 'unresponsive', 'o2', 'anyone', 'bitch', 'buy', 'color', 'economical', 'tax', 'hmm', 'ok', 'applehow', 'cheaper', 'people', 'apartment', 'werent', 'joeygraceffa', 'decide', 'whatsapp', 'promised', 'bedroom', 'youtubeit', 'causing', 'groceriesthe', 'pro', 'comparison', 'arent', 'zone', 'good', 'brokehsbc', 'have', 'experiencei', 'leavinglike', 'austinmann', 'smooth', 'pixel3', 'ministers', 'strongly', 'please', '4', 'you', 'makeup', 'mute', 'onlyinafrica', 'itim', 'anybody', 'reservations', 'slow', 'contractlike', 'who', 'utterly', 'screenlooking', 'single', '24k', 'bug', 'sending', 'soo', 'sick', '1password', '250', 'scroll', 'system', 'someone', 'nicei', 'promotion', 'tmobiles', 'displays', 'link', 'accuracy', '10yearolds', 'it', 'urge', 'reali', 'attcaresonly', 'changing', 'us816613182479466496', 'networks', 'baddo', '2nd', 'gone', 'throws', 'was', 'thoughtoday', 'havent', 'http', 'local', 'fan', 'manage', 'table', 'storeim', 'beli', 'fanboy', 'ab', 'reported', 'henrywood2142', 'next', 'n', '2', 'buyingi', 'calls', 'father', 'print', 'his', 'fooling', 'toronto', 'shows', 'brother', 'keep', 'had', 'dey', 'watch', 'replacement', 'released', 'googlyafuzy', 'tooth', 'remove', 'casinothe', 'someday', '540', 'gadgets', 'all', 'model', 'alsougghhh', 'searcher', 'grow', 'fix', 'wellthe', 'super', 'base', 'rolling', 'lucky', '5t', 'payments', 'bullshit', 'regular', 'superior', 'exception', 'generation', 'dumpty', 'akhirnya', 'stunning', 'employer', 'themkindly', 'daddy', 'rating', 'especially', 'ago', 'design', 'introduce', '2so', 'europeapple', 's8', '25', 'honestly', 'return', 'woman', 'method', 'something', '060i', 'tht', 'high', 'students', 'fund', 'break', '247', 'retweet', 'storesi', 'versionpoor', 'stack', 'laptopyou', 'information', 'green', 'whos', 'they', 'ones', 'access', 'customerafrican', '1068026546504548352', 'innovation', 'darkwatch', 'httpswww', 'cost', 'texts', 'thingim', 'xthats', 'prereleasethe', 'tbh', 'iti', 'pelayo', '0macappsapplesclips20putsyouinthemillenniumfalconoramegadestroyerhtml', 'faster', 'possibly', 'end', 'qz', 'except', 'instagram', 'xpensive', 'solid', 'recevoir', 'knowing', 'wtf', 'dream', 'annoying', 'ground', 'excuse', 'at', 'https', 'uttar', 'luckman', 'really', 'program', 'planet', 'everythingdamn', 'pressing', 'kidney', 'ihnatko', 'bud', 'face', 'ucstarfest', 'extremely', 'reviews', 'iphanboys', 'iphoneo', 'madeim', 'simply', 'headphones', 'easier', 'joy', 'itmy', 'first', 'firstif', 'resolution', 'bulgaria', 'gold', 'david', 'dollarsbutttt', 'materialmy', 'late', 'fancy', 'iphonexrapple', 'youtubecmiz1lcq5fka', 'aus', 'devicetrying', 'loren', 'money', 'brokeok', 'transit', 'cognitivedissonancereturning', 'ship', 'official', 'wash', 'headphone', 'adulting', 'noticed', 'compliments', 'bens', 'smhi', 'switching', 'johnlegerei', 'as', 'in', 'cheap', 'horrible', 'constantlydaily', 'sucks', 'whatever', 'sit', 'igpus', 'bcs', 'mrwhosetheboss', 'brings', 'flop', 'hansoni', 'starting', 'yeri', 'fail', '4mbit', 'desperately', 'help', '8before', 'delivered', 'newscan', 'wish', 'hadnt', 'phoneiphone', 'club', 'gamblewish', 'knowwww', 'any', 'gesture', 'activated', 'relationship', 'care', 'liked', 'criminal', 'memories', 'prontomore', 'animojis', '12', 'meant', 'somehow', 'moms', 'websiteiphone', 'that', 'de', '1200', '16', 'will', 'without', 'iphonexso', 'morning', 'evr', 'win', 'prob', 'problems', 'davidinglestvsaw', 'baseveryone', 'prolly', 'spoken', 'selling', '7', 'bugs', 'handing', 'subtle', 'eitherwent', 'screen', 'en', 'stupid', 'today', 'around', 'currently', 'features', 'twittercomtia_ewingstat', 'narrower', 'pernah', 'saw', 'goodgot', 'language', 'dick', 'friend', '24', 'gun', 'lightingi', 'jealous', 'shotoniphone', 'freelove', 'deadass', 'trick', '4kgot', 'finally', 'seems', 'xthe', 'devicei', 'able', 'groceries', 'email', 'shrek', 'away', 'nice', 'uglier', 'updated', 'blew', 'idiot', 'thousand', 'feelslooks', 'buttonmy', 'youtube', 'haptics', 'jailbreak', 'belom', 'diamonds', 'mask', '99cents', '395', 'emoji', 'flagship', 'clappedlooks', 'white', 'playing', 'difficdoes', 'twittercombusinessinside', 'sample', 'futurei', 'sort', 'hours', 'nonissue', 'pictwittercom3ech4wkrjcneed', 'future', 'display', 'work', 'hoping', 'busting', 'expensivei', 'paid', 'shop', 'edition', 'capability', 'forever', 'reviewi', 'itshit', 'adapteri', 'pake', '256gb', '179', '105', 'promises', 'drunk', 'riverdalei', 'slove', 'if', 'skincare', 'mindset', 'loved', 'speaker', 'australiareturned', 'tus926660732162154496', '545', 'paper', 'nathantriska', 'cracklingsound', 'af', 'upfront', 'cant', 'fresh', 'huge', 'dudeupdate', 'sale', '3we', 'lame', 'bad', 'percentage', 'goodthat', 'prettyyall', 'shiti', 'likely', 'dufresh4', 'r', 'rid', 'camera', 'popular', 'carriers', 'massively', 'floor', 'volume', 'pics', 'following', 'parent', 'ipad', 'airpods', '45', '3d', 'ohh', 'interestedi', 'perfectly', 'since', 'available', 'price', 'learning', 'different', 'abroad', 'cute', 'hi', 'christmasi', 'top', 'cooper', '8talking', 'clothes', '200', 'wrong', 'such', 'guilty', 'indonesia', 'ps', 'build', 'big', 'wowmy', 'freehold', 'wait', 'gigabit', 'instagramcompbbxanptje3i', 'instead', '333', 'begged', 'onto', 'fest', 'onecan', 'sophia', 'screwed', 'pictwittercom0w6rdfvpfmstupidity', 'handson', 'favor', 'xgrayson', 'got', 'realized', 'sounds', 'actuallybuy', 'feeling', 'sitting', 'love', 'mates', 'mins', 'bring', 'winner', 'kids', 'flagships', 'owned', 'waiting', 'gon', 'invoke', 'bro', 'some', 'highest', 'confident', 'badwe', 'nicely', 'find', '1i', 'why', 'happy', 'lexysavvides', 'tonight', 'later', 'has', 'app', 'phones', 'niis', 'badthe', 'strange', 'agree', 'silly', 'vagaries', 'polaroidyour', 'pictwittercom9maes4iod2i', 'cited', 'absolute', 'believe', 'booked', 'stores', 'else', 'slash', 'input', 'tempted', 'pricing', 'georgia', 'buttons', 'drawls', 'lady', 'ucnews_india', 'yall', 'overlooked', 'ethandolan', 'sexiest', 'off', 'closed', 'naira', 'placed', 'mom', 'itmight', 'apps', 'dimensions', 'lollol', 'tbhi', 'reality', 'hmmmmjust', 'payment', 'filters', 'saadilamdin', 'wednesdaythoughts', 'plan', 'dlvritqsrghp', 'spent', 'lightning', 'pvp', 'loyal', 'improvementscrazy', 'center', 'keyboard', 'surfaces', 'literally', 'snap', 'premium', 'line', 'downgrade', 'try', 'replying', 'thanksi', 'regardless', 'buttt', 'offer', 'spendbeen', 'heat', 'seun', 'piasa', 'knows', 'true', 'bugged', 'success', 'ziegler', 'bei', 'displayor', '1724', 'real', 'night', 'boring', 'scammed', 'xits', 'used', 'use', 'ear', 'xto', 'yr', 'questionable', 'everythingmultiple', 'linkedinim', 'its', 'churros', 'ohyoure', 'refund', 'toldme', 'better', 'motherfuckers', 'existedmy', 'produce', 'asked', 'came', 'technologymy', 'sir', 'bootleg', 'cali', 'temps', 'tends', '75', 'pleasewish', 'consistently', 'physically', 'blurred', 'motivation', 'iosblack', 'estimates', 'installed', 'lilyhands', 'expensivegoing', 'waitfew', 'kinda', 'infoi', '15', 'eitherios', 'unhappy', 'attempt', 'uc', 'alright', 'muchkinda', 'trading', 'ready', 'youtube7ogyolyko6aa', 'nokia', 'e8n96wyoq', 'gb', 'replacinglove', 'grand', 'elsewhere', 'pluswhen', 'firstworldproblemshate', 'paye', 'hello', 'twitter', 'goddd', 'twittercommaroc_telecom', '099', 'season', 'reason', 'sexy', 'backimma', 'tmobile', 'qualityspeaker', 'original', 'tiny', 'sampe', 'saved', 'latest', 'hiring', 'funding', 'photos', 'planning', 'adopted', 'personally', 'notice', 'creeping', 'outyesterday', 'pictwittercomjixvit1k0swhy', 'funi', 'sheep', 'ordering', 'iftttea8v8j', 'pictwittercome68xxa0qay', 'canceled', 'llama', 'hotel', 'pricetag', 'ya', 'sad', 'ridiculously', 'order', 'stock', 'spending', 'pictwittercom71pjcufytyi', 'htc', 'incredible', 'mf', 'buggati', 'bonkers', 'screaming', 'mistake', 'now', 'copies', 'pictwittercomvx6c3h7xdh', 'c4etechtamil', 'terms', 'number', 'htlyjzup50fbcgr', 'lolso', 'support', 'wonderful', 'pricesactually', 'mad', 'ui', 'misses', 'cameraso', 'pictwittercomuhpefph8yni', 'oneplus', 'jumia', 'sign', 'still', 'freewould', 'upset', 'machinery', 'hahaneed', 'knew', 'repair', 'expensive', 'availability', 'firstdo', '256g', 'itiphone', 'experiencing', 'fell', 'put', 'almost', 'hon', 'been', '4sapple', 'sorry', 'adult', 'repeatedly', 'davidinglestviphone', 'trying', 'spensive', '6s', 'a130pm', 'choose', 'iphones', 'include', 'mothers', 'methis', 'appreciate', 'bitly2i79hpw', 'signed', 'fools', 'freezewe', 'ifttt2hnqh9i', 'iphoneunboxing', 'thinking', 'forget', 'legit', 'galaxy', 'isnt', '5k', 'screenyall', 'mean', 'blow', 'todaybest', 'job', 'ads', 'reviewshow', 'background', 'polished', 'year', 'stay', 'swore', 'lost', 'feels', 'israel', 'note8', 'xscrew', 'sell', 'wayvery', 'consideration', 'succes', 'firstmrwhosetheboss', 'done', 'hecho', 'casa', 'chose', 'products', 'screw', 'xmasi', 'newest', 'delivery', 'charger', 'switchingiphone', 'sena', 'birthday', 'conspiracy', 'usesnope', 'refine', 'homescreen', 'tim', 'option', 'sugardaddy', 'feign', 'turned', 'soon', 'third', 'wired', 'deck', '256', 'taken', 'twittercomnadeshotstatu', 'reopenyo', 'digits', 'flip', 'should', 'googlfbfu76pf', 'ought', 'always', 'rated', 'wanti', 'nominate', 'current', 'shitgotta', 'visit', 'uglyretard', 'otps', 'whereismyhomebutton', '100', 'jolove', 'sams', 'samsungmobile', 'backgrounds', 'losers', 'things', 'pictwittercomrefhi3gc8vthey', 'priced', 'youtube9ca8zwjolfq', '3', '72', 'exploit', 'models', 'coming', 'counterpartsi', 'oneawesome', 'gaming', 'maxhello', 'flight', 'presents', 'expensiveiphone', 'tim_cook', 'planned', 'tbhwe', 'outits', 'thugnology', 'cinematic', '20', 'calling', 'omg', 'whole', 'gave', 'ididnt', 'show', 'pictwittercombbvbifoe8s', 'att', 'degrees', 'ppl', 'supposed', 'sony', 'wake', 'mate', 'san', 'outside', 'retort', 'terrible', 'travel', 'experiences', 'video', 'looked', 'dealers', 'broke', 'probably', 'fb', 'pictwittercomx1bnvnseqzso', 'snapchat', 'ghosting', 'exist', 'may', 'youtubeqknddc_ervy', '4omg', 'too', 'enabler', 'contractoneplus', 'oc', 'pictwittercome7nqh9sdq2can', 'festive', '4k', 'sadly', 'spider', 'saliva', 'dualipajust', 'jumbling', 'phoneits', 'damn', 'appledo', 'reserve', 'theres', 'second', 'lulu', 'ulta', 'buzzing', 'trust', 'sux', 'difference', '12th', 'knocki', 'exited', 'actually', 'takut', 'technology', 'may3', 'hahahait', 'whats', 'music', 'phoneim', 'did', 'talked', 'major', 'pic', '1500', 'passwordif', 'themiphone', '926235033358155777', 'using', 'gets', '133x', '400', 'know', 'allowed', 'ngl', 'nyc', 'irritating', 'luck', 'edge', 'asap', 'intial', 'thatyour', 'laterif', 'screenshots', 'afford', 'unlockedtryna', 'planthe', 'right', '1000000', 'leastthats', 'iphone7', 'max', 'smashing', 'recognition', 'itapple', 'picking', 'phone', 'ifttt2ynoaib', 'paintings', '8plus', 'control', 'lmk', 'serious', 'whenever', 'pissed', 'talk', 'seemed', 'verizons', 'isumm', 'false', 'tablets', 'rn', 'upsomeone', 'urgent', 'burnin', 'thankssee', 'twittercomgodsperfection', 'enjoyable', 'forfinally', 'size', '6sand', 'golden', 'takes', 'creating', 'december', 'bogo', 'complaining', 'give', '3t5g9ysc1sc1l1ppy4291063', 'and', '4gb', 'brotheri', 'curryspcworld', 'pros', 'piezoelectric', '64gbawesome', 'freezing', 'fucking', 'problem', 'experience', 'ditching', 'apparently', 'prepped', 'thenyou', 'works', 'easy', 'take', 'batch', 'struggling', 'text', 'deal', 'word', '1when', 'tculpan', 'pix', 'shipping', 'freak', 'lowkey', 'unlocks', 'i', 'yet', 'iphone8', 'feel', 'tatus930831560189898754', 'post', 'unlocked', 'disappointed', 'glitching', 'releasealhamdulillah', 'screenif', 'obviously', 'cases', 'pictwittercomama02k5njci', 'mine', 'someones', 'collapse', 'needed', 'compelling', 'beat', 'interested', 'samsung', 'suffered', '2x', 'wants', 'saydo', 'euro', 'spoofing', 'tiffany', 'tv', 'started', 'hit', 'improving', 'chargetecno', 'girls', 'youtubeou89o_ppubya', 'badthat', 'plzthe', 'ups', 'smashed', 'dilemma', 'talking', 'recommended', 'sister', 'wasnt', 'maroc_telecom', 'untill', 'costs', 'update', 'knowget', 'iphonesngl', 'instai', 'shambig', 'screeni', 'scituate', 'status930437339305971712', 'look', 'dinosaur', 'pleasei', 'putting', 'eiiapplesupport', 'lolmy', 'til', 'click', 'matter', 'need', 'trynna', 'flame', 'reselling', 'buyi', 'professor', 'pictwittercomzhgomp7sr3iphone', 'swhen', 'nothing', '50', '2000', 'games', 'reject', 'ittim', '79', 'justify', 'pushed', 'infront', 'satisfaction', 'adapting', 'chez', 'would', 'heard', 'xokay', 'struggle', 'says', 'live', '256prolly', 'million', 'list', 'significant', 'example', 'sprint', 'pay', 'drop', 'glitches', 'go', 'ive', 'youtubedrveunle5noa', 'us', 'only', 'sprintcare', '64gb', 'freeze', 'glitch', 'ask', 'shipment', 'kid', 'worked', 'googlb3xnbe', 'forcing', 'morganfor', 'favourite', 'month', 'day', '128gb', 'movie', '10yearold', 'feelyeah', 'oh', 'b', 'phonei', 'enjoy', 'representative', 'depressed', 'sync', 'idea', 'normal', 'srorythe', 'proi', 'checked', 'think', 'commercials', 'just', 'xi', 'including', 'depth', 'ios1111', '14', 'shared', 'purchased', 'finna', 'adjust', 'smallcant', 'understand', 'hopefully', 'home', 'barely', 'vem', 'seriously', 'roast', 'upgrading', 'vulnerable', 'shitty', 'tutorials', 'rock', 'their', 'low', 'dadused', 'ituprgrading', 'netflix', 'well', 'accurate', 'horrendous', 'brag', 'stop', 'tf', 'somethingall', 'hshshsh', 'bf', 'animoji', 'advisee', '1300', 'nose', 'goodness', 'how', 'due', 'bank', 'enjoying', 'heap', '1500when', 'forward', 'debating', 'service', 'pictwittercomgu7wn22niai', 'ordered', 'itwas', 'eyes', 'glad', 'sim', 'however', 'missing', 'wack', 'grounded', 'school', 'test', 'xhave', 'playlist', 'lmaoo', 'lags', 'choice', 'telling', 'ft', 'notch', 'weather', 'thing', 'roundmy', 'lord', 'living', 'no', 'pointthank', 'officialimicca', 'africaidk', 'ad', 'account', 'oooo', 'auntvip', '1k', 'cs', '3t', 'hellllla', 'izen', 'wi', 'alreadylooks', 'casey', 'took', 'side', 'itwish', 'everyone', 'diary', 'january', 'public', 'conversation', 'nervous', 'twelve', 'lolwhat', 'ruins', 'onboard', 'made', 'atus928766636563185664', '13', 'thisthat_tha3rd', 'match', 'screenshot', 'sales', '246', 'hypercritical', 'house', 'purposely', 'my', 'prices', '280cdont', 'starsi', 'v', 'convinced', 'till', 'cultcast', 'front', 'runs', 'messing', 'proper', 'makes', 'talli', 'what', 'guides', 'seriouslydebt', 'bell', 'id', 'ciaravinoecon', 'psychopath', 'loliphone', 'way', 'wendy', 'realize', 'played', 'sooooooo', 'pays', 'sooo', 'couple', 'even', 'macworldcomarticle323667', 'product', '26', 'specs', '370', 'bet', 'mts', 'photographers', 'ios', 'steven', 'justified', 'bottom', 'wouldve', 'stories', 'xlove', 'awesome', 'decent', '276', 'coldmy', 'total', 'mixed', 'steve', 'type', 'prayersof', 'wonder', 's9', 'unlimited', 'iphonex', 'is', 'deserve', 'springs', '78', 'iphonexmy', 'mashable', 'tm', 'p', '30th', 'see', 'backwhy', 'kingseun3', 'max4200', 'wouldnt', 'your', 'news', 'xstand', 'hearing', 'lcd', 'new', 'upsetting', 'range', 'stuck', '6', 'amp', 'theyd', 'an', 'charged', 'freezes', 'this', 'copy', 'february', 'usual', 'colombia', 'flipitgwznhh', 'unless', 'emote', 'choiceiphone', 'xwait', '100200', 'telli', 'every', 'sound', 'waste', '109', 'thankswhen', 'dinner', 'siracusa', 'lmao', 'thoughiphone', 'manager', 'zoella', 'highly', 'appreciated', 'said', 'sleeker', 'early', 'roadto500k', 'shirti', '5', 'daughters', '23', 'months', 'android', 'steep', 'hopped', 'youtubegy2t9uwuhmwa', 'issue', 'congrats', 'offangle', 'usually', 'ride', 'where', 'se', 'life', 'estimated', 'change', 'cold', 'found', 'recognize', 'francisco', 'meet', 'killing', 'to', 'world', 'plusi', 'dumbass', 'haha', 'op', 'itcouldnt', 'fucked', 'logan', 'blue', 'wedding', 'rowi', 'reportssome', 'here', 'christmas', 'web', 'say', 'youll', 'fml', 'xr', 'opinion', 'trolls', 'anddddd', 'loli', '2150', 'activate', 'homeless', 'idthinkin', 'maxes', 'ratu', 'label', 'holla', 'ah', 'og', 'executive', '6t', 'gunna', 'hands', 'calendar', 'crazy', 'buying', 'sold', 'ta', 'brazil', 'picture', 'willing', 'iphonei', '17', 'best', 'tree', 'cyber', 'course', 'absolutely', 'inexpensive', 'gotten', 'inuse', 'dive', '1after', 'zoellas', 'onlyme', 'towow', 'helptested', 'pictwittercomrueekshlb6lol', 'never', 'shopping', 'broken', 'didnt', 'worst', '240', 'accident', 'pray', 'suck', 'pictwittercomh6anld8kpy', 'radio', 'the', 'oled', 'confused', 'paychecks', 'concludes', 'convincing', 'biased', 'supreme', 'xd', 'feature', 'lucknow', 'iphonexlololol', 'when', 'apples', 'deb', 'speed', 'ughhhits', 'seei', 'youtubee6rmnflofe8a', 'developers', 'stuff', 'stressed', 'higher', 'mall', 'batches', 'kidneyno', '910', 'scare', 'graysondolan', 'trouble', 'doesnt', 'itid', 'slightly', 'issues', 'overpriced', '7its', 'goes', 'applestore', 'smh', 'saying', 'icon', 'reviewspathetic', 'tradein', 'pubg', 'rubber', 'starbucks', 'twittercomafuaasamstatu', 'half', 'nov', 'trees', 'odd', 'chance', 'fine', 'item', 'thought', '950', 'zstatus928770595763957760', 'fuck', 'deals', 'pto', 'insteadwish', 'skip', 'glasses', 'main', 'hype', 'dickhead', 'iphone', '13333', 'originally', 'havini', 'fixed', 'smarter', 'receive', 'na', 'applenewsa5quuwcqrbun9', '8s', 'free', 'are', 'augmented', 'not', 'length', 'listened', 'freethe', 'watching', 'guessing', 'nigga', 'sugar', 'beechloren02', 'eh', 'pictwittercomgw5lvdvsdcso', 'xiphone', 'panchkula', 'rest', 'designed', 'gvwyioemu3ld0', 'plusevery', 'dat', 'discount', 'cuz', 'doi', 'quit', 'sundar', 'call', 'xshould', '256gbiphone', 'brand', 'nothin', 'notchbad', 'battery', 'mei', 'folk', 'camerai', 'card', 'far', 'clearly', 'alreadywtf', 'for', '2018', 'anaseini', 'aint', 'snaps', 'dollar', 'youtubeso', 'ecosystem', 'tell', 'customer', 'a', 'tap', 'presenting', 'fall', 'authorised', 'vertical', 'tabs', 'insane', 'preorder', '6yall', 'anything', 'uses', 'commuter', 'pulled', 'pleasure', 'wide', 'scheme', 'la', 'though', 'needs', 'gripe', 'tuesdayso', 'guy', 'alreadyyyyyyyyyyyyy', 'portrait', 'bestyup', 'thats', 'went', 'we', 'multiple', 'bullshittin', 'shit', 'ux', 'pici', 'quicker', 'programme', 'yeah', '1010', 'pradesh', 'suggestions', 'poor', 'instagramcompbbsvyonfboy', '129', 'laugh', 'seeing', 'mess', 'dude', 'breaks', 'gestures', 'finding', 'allwayshey', 'dis', 'useseriously', 'differentneed', 'of', 'monopoly', 'meiphone', 'thisif', 'tapi', 'danggg', 'isthe', 'much', 'thisat', 'olds', 'ityall', 'cancel', '350', 'room', 'a37with', 'pictwittercom7tzbh5hnj4i', 'beautiful', 'xthose', 'ahead', '10im', 'getting', '150', 'taking', 'okay', 'hardest', 'announcement', 'sorryhate', 'complain', 'britney', 'outi', 'he', 'monthas', '11', 'weeks', 'last', 'inch', 'one', 'loginedge', 'pictwittercom3ech4wkrjcomg', '38000', 'lolrt', 'remember', 'contact', 'extra', 'watchwhy', '152', 'poop', 'mac', 'annoyed', 'enrollee', 'vs', 'users', 'added', 'y3', 'primary', 'two', 'europe', 'velocity', 'square', 'xs', 'ending', 'wtfreally', 'student', 'wont', 'back', 'but', 'mobile', 'doctor', 'overall', 'looking', 'level', 'greatkid', 'envirofone', 'upshelp', 'shitif', 'applesupport', 'online', 'with', 'turn', 'mehn', 'fantastic', 'device', 'asapi', 'content', 'written', 'honest', 'bday', 'explains', 'spend', 'ownsamsunggalaxy', 'aapl', 'jasonnash', 'vouchercloud', '9934000507', 'alsoi', 'pls', 'hella', 'flawless', 'pictwittercomz5kosv72yemy', 'holding', 'morons', 'im', 'dab', 'ownershipits', 'seem', 'walked', 'radial', 'x', 'ny', 'cop', 'grandma', 'temptation', 'breaking', '1', 'switch', 'advicing', 'ashleybeauty43', 'perfect', 'devices', 'dies', 'reader', 'kill', '1000', 'amount', 'newer', 'noticeable', 'hey', 'millions', 'shifting', 'brothers', '769', 'parody', 'unresponsiveso', 'nothingwant', 'college', 'bravo', '8need', 'wordi', 'ass', 'person', 'fingerprint', 'mfs', 'spinning', 'monday', 'requires', 'stoopid', 'xmakes', 'owni', 'oldest', 'die', 'per', 'rep', 'car', 'investment', 'ima', 'uki', 'small', 'indiawas', 'gadget', 'grandpa', 'review', 'articles', 'verdict', 'cut', 'wallet', 'phonehate', '10x', 'realisticallythe', 'itnow', '7plus', 'basically', 'taxation', 'pc', 'offered', 'gear', 'dumb', 'th', 'explanation', 'resist', 'rich', 'xyou', 'fansite', 'cause', '256gbsince', 'jokes', 'ughhhgonna', 'ridiculous', 'bigbrother', 'days', 'sidesliterally', 'chat', 'xwhy', 'annoy', '1063', 'ticket', 'methanks', 'totally', 'fecesi', 'story', 'older', 'loss', 'specifically', 'asking', 'facialrecognition', 'everyday', 'deciding', 'everybody', 'technologies', 'vouchercloudcomdid1988896r', 'limit', 'garyvee', 'purchase', 'lot', 'longer', 'lte', 'cameras', 'cheapest', 'giving', 'enter', 'although', 'bitly2z2qjv5', 'blazing', 'fast', 'sure', 'advantage', 'xnice', 'pictwittercomj5zkczudnilmao', 'like', '90k', 'considering', 'thingi', 'hell', 'reareal_t3vin11', 'nowthat', 'bigger', 'bucks', 'andddddd', 'three', 'uk', 'ever', 'join', 'nowi', 'lock', 'ill', 'reviewsso', '10the', 'funds', 'hardly', 'button', 'computer', 'horizontal', 'twittercommanxomemiasta', 'co', 'meonly', 'rt', 'pixel', 'peoples', 'included', 'orderhow', '1sad', 'cursewhen', 'isgod', 'foreverrrrrr', 'ends', 'unlock', '64', '1rst', 'spoil', 'desired', 'episode', 'little', '3rd', '1000my', 'bestfirst', 'impossible', 'hear', 'staff', 'store', 'thatalso', 'about', 'thank', 'decade', 'mps', 'eurotrip', 'w', 'google', 'excited', 'reasonable', 'dying', 'rejoin', 'canada', 'hadi', 'friendsjust', 'time', 'awesomeme', 'india', 'skegness', 'youtube0ercfyjqhn0a', 'u', 'hate', 'minutes', 'thati', 'rather', '4th', 'uncarrier', 'experienced', 'independent', 'handsso', 'noticeablely', 'wallpaper', 'guess', 'opportunity', '1100', 'buyer', 'thanks', 'fullestiphone', 'nowsomething']\n"
     ]
    }
   ],
   "source": [
    "def make_unique_li(li_cleanText):\n",
    "    unique_words_set= set(li_cleanText)\n",
    "    unique_word_li = list(unique_words_set)\n",
    "    return unique_word_li\n",
    "\n",
    "\n",
    "def stemmed(li_cleanText):\n",
    "    count_stemed=0\n",
    "    for word in li_cleanText:\n",
    "        if word[-1]==\"s\":\n",
    "            li_cleanText[count_stemed]=word[:-1]\n",
    "        elif word[-2:]==\"ed\":\n",
    "            li_cleanText[count_stemed]=word[:-2]\n",
    "        elif word[-3:]==\"ing\":\n",
    "            li_cleanText[count_stemed]=word[:-3]\n",
    "        count_stemed+=1  \n",
    "    return li_cleanText   \n",
    "# li_stemmed = stemmed(li_cleaned_text)\n",
    "uniqueWords = make_unique_li(li_cleaned_text)\n",
    "print(uniqueWords)"
   ]
  },
  {
   "cell_type": "code",
   "execution_count": 8,
   "metadata": {},
   "outputs": [],
   "source": [
    "def DocVector():\n",
    "    data=np.zeros([final_df['class'].count(), len(uniqueWords)])\n",
    "    docVector1=pd.DataFrame(data,columns=uniqueWords)\n",
    "    docVector=docVector1.assign(PurchaseIntention = list(final_df['class']))\n",
    "    # docVector['Purchase Intention'] = final_df['class']\n",
    "    # print(docVector['PurchaseIntention'])\n",
    "    doc_count = 0\n",
    "    for doc in final_df['text']:\n",
    "        words = doc.split()\n",
    "        for word in words:\n",
    "            temp=word.lower()\n",
    "            if temp in docVector.columns:\n",
    "                docVector.at[doc_count, temp] += 1\n",
    "        doc_count += 1\n",
    "        \n",
    "    return docVector\n",
    "\n",
    "\n",
    "docVector = DocVector()  "
   ]
  },
  {
   "cell_type": "code",
   "execution_count": 9,
   "metadata": {},
   "outputs": [
    {
     "name": "stdout",
     "output_type": "stream",
     "text": [
      "total PI  481\ntotal non PI  274\n"
     ]
    },
    {
     "name": "stdout",
     "output_type": "stream",
     "text": [
      "prob pos  0.6370860927152318\nprob_neg  0.3629139072847682\n"
     ]
    }
   ],
   "source": [
    "def WordGivenNoPI(tempNegDocVector):\n",
    "    data=np.zeros([1,len(uniqueWords)])\n",
    "    wordGivenNoPI=pd.DataFrame(data,columns=uniqueWords)\n",
    "    columnSum = tempNegDocVector.sum(axis = 1, skipna = True)\n",
    "    numWordsInNoPI = columnSum.sum()\n",
    "    \n",
    "    for word in uniqueWords:\n",
    "        nk_wordinNoPI = tempNegDocVector[word].sum()\n",
    "        wordGivenNoPI.at[0,word] = (nk_wordinNoPI+1) / (numWordsInNoPI+len(uniqueWords))\n",
    "    return  (wordGivenNoPI , numWordsInNoPI)\n",
    "    \n",
    "    \n",
    "def TrainModel():\n",
    "    yesCount=docVector[\"PurchaseIntention\"]==\"yes\"\n",
    "    tempPosDocVector = docVector[yesCount]\n",
    "    totalPI = tempPosDocVector[\"PurchaseIntention\"].count()\n",
    "    print(\"total PI \",totalPI)\n",
    "    \n",
    "    noCount=docVector[\"PurchaseIntention\"]==\"no\"\n",
    "    tempNegDocVector = docVector[noCount]\n",
    "    # print(tempNegDocVector[\"PurchaseIntention\"])\n",
    "    totalNonPI = tempNegDocVector[\"PurchaseIntention\"].count()\n",
    "    print(\"total non PI \",totalNonPI)\n",
    "    # print(totalPI+totalNonPI)\n",
    "    # totalNonPI = docVector[\"PurchaseIntention\"].count() - totalPI\n",
    "    total = totalPI+totalNonPI\n",
    "    Prob_PI = totalPI/total\n",
    "    Prob_NoPI = totalNonPI/total\n",
    "    \n",
    "    data=np.zeros([1,len(uniqueWords)])\n",
    "    wordGivenPI=pd.DataFrame(data,columns=uniqueWords)\n",
    "    columnSum = tempPosDocVector.sum(axis = 1, skipna = True)\n",
    "    numWordsInPI = columnSum.sum()\n",
    "    \n",
    "    for word in uniqueWords:\n",
    "        nk_wordinPI = tempPosDocVector[word].sum()\n",
    "        wordGivenPI.at[0,word] = (nk_wordinPI+1) / (numWordsInPI+len(uniqueWords))\n",
    "        \n",
    "    df_wordGivenNoPI , numWordsInNoPI= WordGivenNoPI(tempNegDocVector) \n",
    "    return (wordGivenPI,df_wordGivenNoPI,Prob_PI,Prob_NoPI,numWordsInPI,numWordsInNoPI)\n",
    "   \n",
    "\n",
    "df_WordGivenPI,df_WordGivenNoPi,Prob_PI,Prob_NoPI,numWordsInPI,numWordsInNoPI = TrainModel()\n",
    "print(\"prob pos \",Prob_PI)\n",
    "print(\"prob_neg \",Prob_NoPI)"
   ]
  },
  {
   "cell_type": "code",
   "execution_count": 43,
   "metadata": {
    "collapsed": true
   },
   "outputs": [],
   "source": [
    "def TestModel():\n",
    "    test_path=\"E:/DATA/Sem8/fyp/test data/Testing.csv\"\n",
    "    test_data,test_df=Extract(test_path)\n",
    "    test_data = test_data.assign(PredictedClass= list(test_data['text']))\n",
    "    test_data = test_data[['class', 'PredictedClass', 'text']]\n",
    "    # print(test_data[\"text\"].count())\n",
    "    weighPI=Prob_PI\n",
    "    weighNoPI=Prob_NoPI\n",
    "    count_test=0\n",
    "    for sentence in test_data['text']:\n",
    "        # print(count_test)\n",
    "        for word in sentence.lower().split():\n",
    "            if word in uniqueWords:\n",
    "                weighPI = weighPI * df_WordGivenPI.at[0,word]\n",
    "                weighNoPI = weighNoPI * df_WordGivenNoPi.at[0,word]\n",
    "            else:\n",
    "                 weighPI = weighPI * (1/(numWordsInPI+len(uniqueWords)))\n",
    "                 weighNoPI = weighNoPI * (1/(numWordsInNoPI+len(uniqueWords)))\n",
    "            \n",
    "        if weighPI > weighNoPI:\n",
    "            test_data.at[count_test,'PredictedClass'] = 'yes'\n",
    "            # print(test_data.at[count_test,'text'],test_data.at[count_test,'PredictedClass'])\n",
    "        else:\n",
    "           test_data.at[count_test,'PredictedClass'] = 'no'\n",
    "           # print(test_data.at[count_test,'text'],test_data.at[count_test,'PredictedClass'])\n",
    "            \n",
    "        count_test += 1\n",
    "        weighPI = Prob_PI\n",
    "        weighNoPI = Prob_NoPI \n",
    "    test_data.to_csv(\"E:/DATA/Sem8/fyp/test data/PredictTesting.csv\", encoding='utf-8')\n",
    "    # print(\"PI weight {0} No PI weight{1}\".format(weighPI,weighNoPI))        \n",
    "\n",
    "\n",
    "TestModel()        \n",
    "\n"
   ]
  }
 ],
 "metadata": {
  "kernelspec": {
   "display_name": "Python 3",
   "language": "python",
   "name": "python3"
  },
  "language_info": {
   "codemirror_mode": {
    "name": "ipython",
    "version": 3
   },
   "file_extension": ".py",
   "mimetype": "text/x-python",
   "name": "python",
   "nbconvert_exporter": "python",
   "pygments_lexer": "ipython3",
   "version": "3.7.0"
  }
 },
 "nbformat": 4,
 "nbformat_minor": 1
}
