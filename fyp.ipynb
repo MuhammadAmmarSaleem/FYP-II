{
 "cells": [
  {
   "cell_type": "code",
   "execution_count": 2,
   "metadata": {},
   "outputs": [],
   "source": [
    "import pandas as pd\n",
    "import numpy as np\n",
    "import nltk\n",
    "\n"
   ]
  },
  {
   "cell_type": "code",
   "execution_count": 3,
   "metadata": {},
   "outputs": [
    {
     "name": "stdout",
     "output_type": "stream",
     "text": [
      "          class                                               text\n0            no  i'll  buy  the  iphone   x  if it can  get  ac...\n1            no  Some dude in FB selling the  iPhone   X  64 gb...\n2           yes  Home dab emote man today and I  get  hopped on...\n3           yes                               Buy  an  iPhone   X \n4            no  I hate iOS 11. My  iPhone  6+ works 10X slower...\n5     undefined  Brilliant @johnlewisretail - added  iPhone   X...\n6     undefined  They doing that on purpose cause mine is to. T...\n7            no  Bo-go sale tomorrow at T-Mobile  buy  one  get...\n8           yes  I can  get  the  iPhone   X  here.... If I'm w...\n9           yes  When you  buy  an  Iphone   X  with Unlimited ...\n10          yes  @ Mrwhosetheboss  i really  wish  i  get  to m...\n11           no  @ sprint  @sprintcare  if I switch to @TMobile...\n12           no  Oneplus 5t has faster face recognition than  i...\n13           no  Don't  buy  an  iPhone   X  if you're ugly. I ...\n14           no  Could  buy  2x 5T with the price I paid for th...\n15          yes  My friend shopping:  iPhone   X  is not that e...\n16          yes  What if there was upgrade to an  iPhone  8 or ...\n17    undefined                                So if I  buy  a  X \n18    undefined  Buy   iPhone   X  and  get  in the same and yo...\n19           no  I don't  get  it is it basically impossible to...\n20          yes  The  iPhone   X  is a pleasure to use. Far mor...\n21    undefined  If @Spacekatgal  didn't  get  an  iPhone   X  yet\n22           no  I wanted the  IPhone   X  but now that most pl...\n23          yes  I  love  these holiday gift guides that assume...\n24          yes  VIP  NEED   BUY  AN  IPHONE   X   https:// twi...\n25    undefined  I ordered my pixel 2 on Tuesday from Google & ...\n26    undefined  Would it be the same if I  buy  an  iPhone   X...\n27           no  Anyone else experiencing an  iPhone  glitch wh...\n28    undefined  I wanna  buy  my mom a new  iPhone  so bad. I ...\n29          yes  Need  to just  buy  that  iPhone   X  so I can...\n...         ...                                                ...\n1091  Undefined  Ever since the  iPhone   X  came out my phone ...\n1092  Undefined         I fucking  hate  my  iPhone   X  right now\n1093         No  the  iPhone   x  looks so fucking  bad  and wh...\n1094         No  @ JohnLegere  I returned 3  Iphone  6's  after...\n1095  Undefined  iPhone   X  has been out for a little bit now ...\n1096         No  Tested  $ AAPL   iPhone   X  in person. It's n...\n1097  Undefined  The  iPhone   X  has more  expensive  parts th...\n1098  Undefined                                      Give it a try\n1099  Undefined  http:// ift.tt/2APejiE    Automating the  Bori...\n1100  Undefined  Automating the  Boring  Search for an  iPhone ...\n1101  Undefined  Orang Vietnam Sukses Retas Face ID  iPhone   X...\n1102  Undefined  Automating the  Boring  Search for an  iPhone ...\n1103  Undefined  @ AppleSupport  what is the official recommend...\n1104  Undefined                              iPhone   X  shipped  \n1105  Undefined                                   Bad   expensive \n1106  Undefined  I  hate   http:// to.read    negativity toward...\n1107  Undefined  Wouldn't trust Tim Cook's demand is \"off the c...\n1108  Undefined  @ Snapchat  is such a  bad  experience on the ...\n1109  Undefined  Hate  the  iPhone   X  'notch'? There's an app...\n1110        Yes  Yeah. I need a new phone real  bad . I really ...\n1111  Undefined      Got my  iPhone   X !Not  bad !keep fighting  \n1112  Undefined  Here's why some apps will look  bad  on the  i...\n1113         No  Actually true.. the  iPhone   X  is so  expens...\n1114  Undefined  Automating the  Boring  Search for an  iPhone ...\n1115  Undefined                                        Read online\n1116  Undefined  Listen:  Hate  the  iPhone   X  'notch'? There...\n1117  Undefined  Some more  boring   iPhone   X  figures/info  ...\n1118  Undefined        Tap bars look really  bad  on  iPhone   X .\n1119  Undefined  Trying to make a list of things I  hate  and l...\n1120  Undefined  The new  iPhone  data speeds are actually slow...\n\n[1121 rows x 2 columns]\n"
     ]
    }
   ],
   "source": [
    "fd= open('E:/DATA/Sem8/fyp/AnnotatedData2.csv',encoding=\"utf-8\", errors='replace')\n",
    "df = pd.read_csv(fd)\n",
    "print(df)"
   ]
  },
  {
   "cell_type": "code",
   "execution_count": 4,
   "metadata": {},
   "outputs": [
    {
     "name": "stdout",
     "output_type": "stream",
     "text": [
      "     class                                               text\n0       no  i'll  buy  the  iphone   x  if it can  get  ac...\n1       no  Some dude in FB selling the  iPhone   X  64 gb...\n2      yes  Home dab emote man today and I  get  hopped on...\n3      yes                               Buy  an  iPhone   X \n4       no  I hate iOS 11. My  iPhone  6+ works 10X slower...\n7       no  Bo-go sale tomorrow at T-Mobile  buy  one  get...\n8      yes  I can  get  the  iPhone   X  here.... If I'm w...\n9      yes  When you  buy  an  Iphone   X  with Unlimited ...\n10     yes  @ Mrwhosetheboss  i really  wish  i  get  to m...\n11      no  @ sprint  @sprintcare  if I switch to @TMobile...\n12      no  Oneplus 5t has faster face recognition than  i...\n13      no  Don't  buy  an  iPhone   X  if you're ugly. I ...\n14      no  Could  buy  2x 5T with the price I paid for th...\n15     yes  My friend shopping:  iPhone   X  is not that e...\n16     yes  What if there was upgrade to an  iPhone  8 or ...\n19      no  I don't  get  it is it basically impossible to...\n20     yes  The  iPhone   X  is a pleasure to use. Far mor...\n22      no  I wanted the  IPhone   X  but now that most pl...\n23     yes  I  love  these holiday gift guides that assume...\n24     yes  VIP  NEED   BUY  AN  IPHONE   X   https:// twi...\n27      no  Anyone else experiencing an  iPhone  glitch wh...\n29     yes  Need  to just  buy  that  iPhone   X  so I can...\n30     yes  Apple just send me an email with Christmas gif...\n32     yes                               Buy  an  iPhone   X \n33     yes                              Love  the Design.... \n34      no  u can  buy  yourself an  iPhone   X  but can n...\n35     yes  I  love  my Note 8 its been an  awesome  phone...\n36      no                             Not this what i want  \n37      no  In crazy  love  with this video!!! Don't  Buy ...\n39     yes                 So in  love   w  the  iPhone   x .\n...    ...                                                ...\n1008    no  iPhone   X  Review: Screen: awesome. FaceID: a...\n1016   yes             How  bad  do i want this  iPhone   X  \n1017   yes  I want that  iPhone   X  so  bad  I almost wen...\n1021    no  I'm so pissed this is why I  hate  ordering sh...\n1024    no  Yeah @Zoella  is selling an  expensive  item. ...\n1027    no  IPhone   X  online reviews have become so  bor...\n1029    no  Why I  Hate  & Return My Apple  iPhone   X  10...\n1032   yes  It so  bad ? Lol.. Can't wait to get my  Iphon...\n1034   yes  Should I get this  iPhone   X  or no?   The sc...\n1036   yes  I want the  iPhone   X  so  bad  but I just ca...\n1038   yes  When people complain that the  iPhone   X  is ...\n1040    no  @ Apple  @WhatsApp  youre making me  hate   iP...\n1041    no  Wanted the  iPhone   X  but I've heard more  b...\n1043    no  That seems  useless  since the only people who...\n1047   yes  I want an  Iphone  sooooooo  bad  but wont buy...\n1049   yes  Been patiently waiting for almost a week for @...\n1050    no                     I   hate  the damn  iPhone   X\n1054   yes  i  hate  myself rn bc even though i say im don...\n1060    no  The way you invoke Control Center is killing m...\n1064   yes  When I get my funding in January ima buy an  i...\n1067   yes  Need / want the  iPhone   X  but it's so  expe...\n1069    no  Lmao this  iPhone   X  shit getting from  bad ...\n1075   yes                  I want the  iPhone   x  so  bad  \n1077   yes  If I deck out in @TMobile  gear from @JohnLege...\n1082   yes                    I want the  iPhone   X  so  bad\n1093    no  the  iPhone   x  looks so fucking  bad  and wh...\n1094    no  @ JohnLegere  I returned 3  Iphone  6's  after...\n1096    no  Tested  $ AAPL   iPhone   X  in person. It's n...\n1110   yes  Yeah. I need a new phone real  bad . I really ...\n1113    no  Actually true.. the  iPhone   X  is so  expens...\n\n[624 rows x 2 columns]\n"
     ]
    }
   ],
   "source": [
    "\n",
    "# create series of true and false. True is assigned for yes/no. False for undefine\n",
    "defined=df['class'] != (\"undefined\")\n",
    "# #output dataframe without undeined\n",
    "df2=df[defined]\n",
    "defined1=df2['class'] !=\"Undefined\"\n",
    "df4=df2[defined1]\n",
    "#replace no PI with no\n",
    "df3=df4.replace(\"No PI\",\"no\")\n",
    "#replace PI with yes\n",
    "final=df3.replace(\"PI\",\"yes\")\n",
    "\n",
    "replace_yes=final.replace(\"Yes\",\"yes\")\n",
    "final_df= replace_yes.replace(\"No\",\"no\")\n",
    "\n",
    "print(final_df)"
   ]
  },
  {
   "cell_type": "code",
   "execution_count": 5,
   "metadata": {},
   "outputs": [
    {
     "name": "stdout",
     "output_type": "stream",
     "text": [
      "         class                                               text\n5    undefined  Brilliant @johnlewisretail - added  iPhone   X...\n6    undefined  They doing that on purpose cause mine is to. T...\n17   undefined                                So if I  buy  a  X \n18   undefined  Buy   iPhone   X  and  get  in the same and yo...\n21   undefined  If @Spacekatgal  didn't  get  an  iPhone   X  yet\n25   undefined  I ordered my pixel 2 on Tuesday from Google & ...\n26   undefined  Would it be the same if I  buy  an  iPhone   X...\n28   undefined  I wanna  buy  my mom a new  iPhone  so bad. I ...\n31   undefined  @ AppleSupport   I have received the  iphone  ...\n38   undefined  I  wish  I had a girl that rode for me  like  ...\n41   undefined  You look  like  you stalk the uptown event the...\n42   undefined  What you got  like  4  IPhone   X 's  buy  me ...\n46   undefined  Who  need   iphone   x  I got the direct plug ...\n51   undefined  Pre-registered customers at T World who will  ...\n54   undefined  How the hell to  get  my sugar daddy to  buy  ...\n56   undefined  If you are deciding to  buy  Apple Care + for ...\n59   undefined  I have noticed that when a new  iPhone  comes ...\n60   undefined  UPS is the WORST.  iPhone   X  is taking the P...\n61   undefined  Should I  buy   iPhone  8 Plus or wait a lil b...\n64   undefined  Apple's Animoji might not  need  the  iPhone  ...\n70   undefined  I was getting ready to  buy  the  iPhone   X  ...\n71   undefined       Day 1  w /  iPhone   X  - first impressions:\n73   undefined  God keeps sending me signs to  buy  the  iPhon...\n74   undefined  I added a video to a @YouTube  playlist  http:...\n75   undefined  Whatsup  w  all the question emojis  like  we ...\n76   undefined  Get  your santa  wish  list ready  iphone   x ...\n77   undefined  # WednesdayWisdom  YOU  NEED  TO SEE TGIS VIDE...\n78   undefined  I feel  like  this happens every time a new  i...\n81   undefined  I hate  http:// to.read    negativity towards ...\n85   undefined  If I  get  a buck for every typo I make in a t...\n..         ...                                                ...\n745  undefined                                                WTF\n748  undefined  Podoba mi się film The Nokia N9 v  iPhone   X ...\n750  undefined  Apple is trying to  get  you to  buy  the  iPh...\n751  undefined  Presenting one in a million lifestyle at Kandi...\n752  undefined                                                  3\n754  undefined  Presenting one in a million lifestyle at Kandi...\n755  undefined                                                 10\n769  undefined  I just watched it :) Funny to see BTS of Elder...\n770  undefined                           Angel's Christmas List :\n771  undefined                                                  0\n775  undefined                                                  0\n777  undefined                                                  0\n782  undefined                                                  0\n783  undefined  Here's What You'll  Need  to Pull Off Fast Cha...\n784  undefined  @ playflipflop  I would  like  to  purchase . ...\n788  undefined  Mom: What's wrong with my phone? I  can't type...\n789  undefined                                                  0\n790  undefined  This how you nigga's be when you  get  an  iPh...\n794  undefined  to those niggaz that can  buy  her gal  iphone...\n796  undefined  We should start representing health insurance ...\n805  undefined  Guys my roommate ‘s bf got her an  iphone   X ...\n808  undefined                                               Well\n809  undefined                                                  0\n810  undefined                           And don't  get  me wrong\n814  undefined                                    @ builds_io  Yo\n821  undefined                               People agree with me\n822  undefined  genuinely feel  like  i've got a nokia brick w...\n825  undefined                                                  1\n832  undefined           /onlyoneollie_/status/928926019393691648\n837  undefined  # iPhone  How to Pair Your Apple Watch with  i...\n\n[340 rows x 2 columns]\n"
     ]
    }
   ],
   "source": [
    "# create series of true and false. False is assigned for yes/no. True is for undefined\n",
    "undefined=df['class'] == \"undefined\" \n",
    "#output dataframe without undeined\n",
    "df_undefine=df[undefined]\n",
    "print(df_undefine)\n",
    "\n"
   ]
  },
  {
   "cell_type": "code",
   "execution_count": 6,
   "metadata": {},
   "outputs": [],
   "source": [
    "def text_concat():\n",
    "    text=\"\"\n",
    "    for x in final_df[\"text\"]:\n",
    "        text=text +str(x)\n",
    "    return text\n",
    "corpus=text_concat()"
   ]
  },
  {
   "cell_type": "code",
   "execution_count": 7,
   "metadata": {},
   "outputs": [],
   "source": [
    "import re\n",
    "from nltk.corpus import stopwords \n",
    "from nltk.tokenize import word_tokenize \n",
    "\n",
    "def removeStopWords(text):\n",
    "    stop_words = set(stopwords.words('english')) \n",
    "    word_tokens = word_tokenize(text) \n",
    "    filtered_sentence = [] \n",
    "    for w in word_tokens: \n",
    "        if w not in stop_words: \n",
    "            filtered_sentence.append(w.lower()) \n",
    "    #return list of corpus without stop words in a list.        \n",
    "    return filtered_sentence  \n",
    "\n",
    "def removePunc(eachText):\n",
    "    remove_punc = re.sub(r'[^\\w\\s]','',eachText)\n",
    "    #return corpus with out punctuation.\n",
    "    return remove_punc\n",
    "\n",
    "\n",
    "\n",
    "def clean_data(corpus):\n",
    "    remove_punc=removePunc(corpus)\n",
    "    li_remove_stopWords= removeStopWords(remove_punc)\n",
    "    return li_remove_stopWords\n",
    "\n",
    "li_cleaned_text = clean_data(corpus)\n",
    "# bprint(li_cleaned_text)"
   ]
  },
  {
   "cell_type": "code",
   "execution_count": 44,
   "metadata": {},
   "outputs": [
    {
     "name": "stdout",
     "output_type": "stream",
     "text": [
      "['mad', 'improvementscrazy', '15', 'another', '910', 'shipping', 'lmk', 'play', 'twittercomafuaasamstatu', 'xmasi', 'ab', 'heat', 'job', 'pictwittercom8odmkuxsrkto', 'ciaravinoecon', '50', 'glitch', 'agree', 'lot', 'anybody', 'brokeok', 'sim', 'gadgets', 'repeatedly', 'llama', 'gb', 'failgot', 'advisee', 'sidesliterally', 'kind', 'wellthe', 'anymore', 'year', 'dat', 'xstand', 'havent', 'breaking', 'whole', 'dont', 'jasonnash', 'someones', 'worst', 'find', 'infoi', 'personally', 'list', 'itmight', '256prolly', 'account', 'pici', 'set', 'slow', 'feign', 'sundar', 'animoji', 'waiting', 'youtubenpt5tsd0bbi', 'ughhhits', 'content', 'adjust', 'fingerprint', 'intial', 'night', 'mother', 'uglier', 'unresponsiveso', 'cracklingsound', 'activate', 'y3', 'daughters', 'first', 'hype', 'no', 'arrive', 'replying', 'delivered', 'buyi', 'mistake', 'full', 'mf', '13333', 'loli', 'jesus', 'bottom', 'igpus', 'blew', 'speed', 'flipitgwznhh', 'if', 'nose', 'burnin', 'mobile', 'cousin', 'whateva', 'wallpaper', 'three', 'tmobile', 'fail', 'believe', 'one', '769', 'day', 'whether', 'networks', 'outtta', 'bugged', 'absolute', 'apples', '10yearolds', 'youboss', 'n', 'rubber', 'hit', 'cs', 'reselling', 'spendbeen', 'become', 'glad', 'hansoni', 'themi', 'talli', 'prolly', 'folk', 'e8n96wyoq', 'amount', 'places', 'mrwhosetheboss', 'needless', 'i', 'lovers', 'buyer', 'knows', 'africaidk', 'price', 'knew', 'freeze', 'lord', 'range', 'takes', 'goodness', 'prefer', 'sound', 'ituprgrading', 'protect', 'specifically', 'without', 'olds', 'gun', 'no1', '3t5g9ysc1sc1l1ppy4291063', 'should', 'took', 'button', 'phoneiphone', 'pls', 'youyes', 'sheep', 'been', '240', 'is', 'favor', 'begged', 'this', 'skip', 'shambig', 'uses', 'about', 'pictwittercomiayz2yxnzaim', 'wi', 'lots', 'ordered', 'purchased', '129', 'pros', 'only', 'alreadywtf', 'wouldve', 'ive', 'qz', 'sena', 'ought', 'erfon', '9934000507', 'ny', 'rather', 'proper', 'lcd', 'check', 'activated', 'baseveryone', 'phonei', 'onei', 'example', 'rack', 'introduce', 'jokes', 'big', '245', 'saying', 'small', 'where', 'soooo', 'camerai', 'xthats', 'everyone', 'grand', '25', 'drawls', 'customerafrican', 'car', 'chez', 'enter', '4sapple', 'xim', 'scroll', 'worked', 'due', 'digits', 'less', 'looked', 'badthat', 'customer', 'shrek', 'hearing', 'ohyoure', 'dropped', 'resist', 'perfect', 'tf', 'weather', 'useless', 'stores', 'change', 'busting', 'mate', 'stoopid', 'august', 'many', 'pernah', '1500', 'bens', 'causing', 'goodthat', 'reader', 'hypercritical', 'fresh', 'ti', 'ughhhgonna', 'kidneyno', '10x', 'good', 'aus', 'beechloren02', 'make', 'reareal_t3vin11', 'flame', 'unless', 'odd', 'pictwittercomvx6c3h7xdh', 'pictwittercombbvbifoe8s', 'bigbrother', 'pictwittercomuhpefph8yni', 'thankshad', 'new', 'lolmy', 'xshould', 'freezing', 'sells', 'bestyup', 'screenshot', 'galaxy', 'else', 'brings', 'ghosting', 'what', 'faster', 'pricesactually', 'applestore', 'game', 'story', '34', 'convincing', '75', 'pc', 'inch', 'deliver', 'apps', 'woman', 'delivery', 'bcs', 'sample', 'onto', 'dab', 'its', 'physically', 'messing', 'has', 'looks', 'paye', 'didnt', 'planet', 'raised', '2018it', 'panchkula', 'explains', 'animojilife', 'tire', 'oversaturated', 'try', 'justice', 'tomorrow', 'naira', 'paychecks', 'useseriously', 'experiencing', 'requires', 'giveaway', 'recover', 'star', 'spent', '10yearold', 'christmas', 'displayor', 'watch', 'applenewsa5quuwcqrbun9', 's8', 'vid', 'christmasi', '2018', 'spinning', 'staff', 'contact', 'owners', 'ground', 'seun', 'og', 'times', 'live', 'indiawas', 'primary', 'instagramcompbbxanptje3i', 'rowi', 'nerdwomanisme', 'steep', 'googlfbfu76pf', 'selfiescould', 'fund', 'will', 'issue', 'needs', 'impulse', 'dimensions', 'sold', 'congrats', 'itiphone', 'breaks', 'thinks', 'knowi', '2so', 'models', 'clearly', 'normal', 'im', 'college', 'maroc_telecom', 'knocki', 'methanks', 'model', 'leastthats', 'cases', 'questionable', 'gift', 'ui', '1when', 'rotates', 'regardless', 'feeling', 'allwayshey', 'getting', 'possibly', 'personal', 'asked', 'roadto500k', 'markdohner', 'lexysavvides', 'buzzing', 'ok', 'beat', 'luck', 'loren', 'grounded', 'graysondolan', 'badthe', 'a130pm', 'id', 'die', 'pictwittercom4lipdpjbufthe', 'sync', 'eitherios', 'flagship', 'til', 'gets', 'op', 'freezes', 'pictwittercomckyos4jwuti', 'percentage', 'bullshit', '1password', 'helps', 'booked', '10gb', 'prices', 'stack', 'wtfreally', 'dumbass', 'flight', 'speaker', 'winner', 'theyd', 'reali', 'either', 'paper', 'wig', 'zoella', 'iphone7', 'pushing', 'iphonesngl', 'hon', 'genius', 'ear', 'starsi', 'verizon', 'shoved', 'gear', 'huge', 'shitif', 'carry', 'card', 'groceries', 'life', 'htc', 'finding', 'store', 'might', 'smh', 'jealous', 'nicely', 'youtubecmiz1lcq5fka', '1000my', 'gaming', 'box', 'airpods', 'bet', 'wash', 'bout', 'nowi', 'latest', 'laterif', 'compete', 'utterly', 'such', 'bud', 'itim', 'patiently', 'fasthey', 'match', 'ones', 'instagram', 'cancel', 'peoples', 'pissed', 'owner', 'programme', 'nothin', '9yo', 'riverdalei', 'wasnt', 'tweaking', 'pleasewish', 'apart', 'bell', 'hopefully', 'pluswhen', 'design', 'iphones', 'ashleybeauty43', 'hiring', 'wowmy', 'madeim', 'stuck', 'iphone8', 'enjoy', 'cinematic', 'product', 'temptation', 'iphonexlololol', 'nervous', '333', 'post', 'open', 'sadly', 'collectors', 'use', 'phones', 'co', 'said', 'reallyi', 'combining', '1010', 'released', 'jack', 'toldme', 'code', 'whilst', 'superior', 'groceriesthe', 'lame', 'existedmy', 'tried', 'somehow', 'xthe', 'outso', 'seen', 'fml', 'googlyafuzy', 'ios1111', 'forget', 'boring', 'canada', 'modeli', 'movie', 'elsewhere', '5', 'insteadwish', 'ee', 'improving', 'prereleasethe', 'lolso', 'nokia', '1i', 'youtubeou89o_ppubya', 'nowsomething', 'bit', 'bullshittin', 'flop', 'signed', 'stay', 'paying', 'ima', 'sizehow', 'homeless', 'faulty', 'explanation', 'headphone', 'forgotten', '350', 'infront', 'ulta', 'tho', 'thinking', 'haha', 'want', 'guess', 'professor', 'keep', 'input', 'suffered', 'worth', '45', 'landscape', 'youtubeso', 'earlier', '109', 'broken', 'last', '4omg', 'takut', 'marketing', 'faceid', 'past', 'drunk', 'ass', 'versionpoor', 'monday', 'pictwittercomama02k5njci', 'emote', 'xsomeone', 'sugar', 'returned', 'prize', '3t', 'patient', 'wonder', 'perfectly', 'finally', 'student', 'wack', 'problem', 'iftttea8v8j', 'around', 'system', 'working', 'cited', 'moneythis', 'desired', 'high', 'conversation', 'room', 'bootleg', 'extremely', 'needed', 'iam_erica', '1after', 'choiceiphone', 'oh', 'se', 'casey', 'vem', '256g', 'shit', 'firstworldproblemshate', 'bday', 'seeing', 'brokehsbc', 'noticed', 'bugs', 'mine', 'official', 'adapteri', 'drives', 'twittercombusinessinside', 'actually', 'shitty', 'sophia', 'innovation', 'iphonexmy', 'a', 'cast', 'stories', 'verdict', 'owni', 'runs', 's9', 'monthas', 'went', 'million', 'europe', 'patronize', '540', 'brand', 'color', 'wake', 'xits', 'program', 'hope', 'written', 'quicker', 'advicing', 'rated', '950', 'to', 'little', 'trap', 'samsungs', 'adapting', 'people', 'moron', 'couldnt', 'pray', 'pelayo', 'manage', 'hi', 'was', 'break', 'bnow', 'who', 'keyboard', 'rich', 'deals', 'when', 'watching', 'greatkid', 'originally', 'daybreakasia', 'oldim', 'eitherwent', 'decent', 'though', 'pro', 'buggati', 'actuallybuy', 'return', '7its', 'watchwhy', 'wont', 'entire', 'friendsjust', 'horizontal', 'receive', 'storewish', 'upgrade', 'afford', 'carriers', 'imma', 'wow', 'hella', 'saliva', 'misses', 'someday', 'advent', 'spend', 'old', 'bf', 'notice', 'thought', 'cooper', 'end', 'werent', '5k', 'ecosystem', '2', 'enjoyable', '8before', 'aint', 'throw', 'off', 'bei', 'expensivei', 'literally', 'ibooks', 'pm', 'commercials', 'steven', 'season', 'lost', 'school', 'instead', 'except', 'dadused', 'something', 'overall', 'least', 'lens', 'jailbreak', 'chance', 'roundmy', 'kingseun3', 'europeapple', 'phone', 'youll', 'learning', 'contractlike', 'really', 'grown', 'netflix', 'productsletterthanks', 'remember', 'david', 'controversial', 'course', 'wan', 'doesnt', 'ever', 'see', 'taken', 'uttar', 'knowing', 'weeki', 'inuse', 'smthnnice', 'saved', 'following', 'buttons', 'beautiful', 'spoofing', 'man', 'commercial', 'main', 'along', 'gotten', 'designed', 'outits', 'awesome', 'their', 'niis', 'flawless', 'ago', 'pic', 'confident', 'itshit', 'ticket', 'thanksi', 'screeni', 'things', 'andddddd', 'alreadywhys', 'screenshots', 'haptics', 'jumbling', 'years', 'themiphone', 'comparison', 'annoyed', 'purchase', 'dayi', 'creeping', 'white', 'convinced', 'bitly2z2qjv5', 'guys', 'fb', 'ups', '247', 'moneyi', 'att', 'iphonei', 'months', 'easy', 'nigeriathe', 'that', 'p', 'everyday', 'prob', 'srorythe', 'unlockedtryna', 'tap', 'how', 'dumpty', '6t', 'switch', 'httpswww', 'dying', 'belom', 'starbucks', 'putting', 'lmao', 'compliments', 'massively', 'phonearenacomnewshereish', 'festive', 'pressing', 'wallet', 'bad', 'audio', 'itapple', 'helptested', 'impatienti', 'freethe', 'brightness', 'tweakin', 'decade', 'bucks', '1068026546504548352', 'san', 'blazing', 'planning', 'releasealhamdulillah', 'say', 'pixel', 'but', 'sad', 'sick', 'definitely', 'interested', 'upsomeone', 'rt', 'forward', 'roast', '6yall', 'freehold', 'refine', '11', 'sir', 'losers', 'technologies', 'ps', 'ruins', 'mehn', 'hed', 'screw', 'payment', 'mom', 'retweet', 'discount', 'cultcast', 'placed', 'xto', 'benefiti', 'work', 'girls', 'psychopath', 'deserve', 'serious', 'silly', 'urge', 'xbox', 'rotate', 'davidinglestviphone', 'dey', 'better', 'kid', 'low', 'probably', 'fest', 'planned', 'send', 'laugh', 'tends', 'world', 'item', 'kinda', 'prepped', 'independent', 'doctor', 'spare', 'understand', 'walked', 'siracusa', 'polished', 'green', 's1068249266026614784', 'reach', 'stop', 'firstmrwhosetheboss', 'tfi', 'ride', 'hahaneed', 'gold', 'care', 'goddd', 'portrait', 'friend', 'pradesh', 'gigabit', 'uc', 'hell', 'sign', 'tempting', 'away', 'and', 'may', 'beli', '90k', 'onlyme', 'itcouldnt', 'tmobiles', 'especially', 'strange', 'youtubegy2t9uwuhmwa', 'site', 'animojis', 'articles', '12th', 'applepay', '1st', 'shopping', 'brotheri', 'reality', 'complaining', '1300', 'stupid', 'fucking', 'https', '100200', 'hshshsh', 'damn', 'baddo', 'never', 'opportunity', 'fast', 'experiencei', 'almost', 'offered', 'applesupport', 'th', 'announcement', 'legit', 'bitch', 'alright', 'local', 'choice', 'ux', 'facialrecognition', 'amazing', 'third', 'aldi', 'htlyjzup50fbcgr', 'problems', 'nathantriska', 'eh', 'struggle', 'differentneed', 'velocity', 'january', 'cameras', '250', 'feelslooks', 'aapl', 'leavinglike', 'attempt', 'google', 'iphonex', 'house', 'youtubeqknddc_ervy', 'login', 'morons', 'buttt', 'hate', 'twittercommaroc_telecom', 'bitly2i79hpw', 'feel', 'calling', 'encourage', 'loliphone', 'switchingiphone', 'akhirnya', 'millions', 'aed', 'howto', 'treesi', 'says', 'zoellas', 'pictwittercom3ech4wkrjcomg', 'playing', 'boringembracing', 'idthinkin', 'heart', 'verizons', 'boy', 'thxyeah', 'seriously', 'themkindly', 'now', 'multiple', 'oled', 'idk', 'would', 'realized', 'nowhen', '1rst', 'include', 'ridiculous', 'users', 'daddy', 'next', 'checked', 'totally', 'forcing', 'concludes', 'apartment', 'tooth', 'bro', 'quality', 'banksy', 'reduce', 'exception', 'alsoi', 'ngl', 'music', '4gb', 'yea', 'francisco', 'cabinet', 'insane', 'lulu', 'camp', '8', 'mute', 'tv', 'steve', 'ready', 'smarter', 'fullestiphone', 'limit', 'access', 'love', 'battery', 'owned', 'version', 'comfort', 'danggg', 'flip', 'suggested', 'considering', '82', 'expensivewhy', 'trolls', 'copied', 'much', 'every', 'major', 'terms', 'buyingi', 'offangle', 'saydo', 'taxation', 'highest', 'popular', 'smashed', 'cheap', 'motivation', 'tech', 'memories', 'pricing', 'compelling', 'appreciated', 'spending', 'shoes', '3', 'vouchercloud', 'vagaries', 'mfs', 'give', 'llamaid', 'businessbest', 'lightning', 'higher', 'surfaces', 'reallyyyyy', 'sorry', 'nov', 'youtube0vzgklj9mpqa', '3d', 'offer', 'whatsapp', 'my', 'fix', 'augmented', 'obviously', 'iphoneunboxing', 'although', 'alsougghhh', 'rating', 'youtubesqldxppmsea', '5th', 'art', 'notch', 'behind', 'india', 'hahahait', 'johnlegere', 'cali', 'bulgaria', 'blocked', 'thoughiphone', 'with', 'pics', 'they', 'stuff', 'large', 'otps', 'gunna', 'base', 'evr', '152', 'pto', 'blue', 'vs', 'thugnology', 'experiences', 'weeks', 'twittercomtia_ewingstat', 'sooooo', 'status930437339305971712', 'parent', 'liked', 'biggest', 'firstdo', 'lilyhands', 'volume', 'parody', 'flagshipsbullshit', 'israel', 'whatever', 'wif', 'eiiapplesupport', 'why', 'dilemma', 'time', 'spider', 'sprintcare', 'guessthis', 'efkj8m0aemiim4jh0x3cgyiq3d3dutm_sourcecompetitionutm_mediumreferralutm_campaigncompetition20sharing', 'recevoir', 'mask', 'back', '10the', 'are', 'november', 'pictwittercomx1bnvnseqzso', 'ditching', 'news', 'grandma', 'reportssome', 'join', 'sooooooo', 'thoughif', 'talk', 'soon', 'monopoly', 'scammed', 'features', 'language', 'usual', 'feels', 'just', 'photo', 'somethingall', 'it100', 'canceled', 'scratch', '105', 'oneplus', 'na', 'youtubeed3r9bzzlge', 'difficdoes', 'cost', 'web', 'excited', 'throws', 'tuesdayso', 'saw', 'bedroom', 'gifts', 'horrificim', 'sort', 'nicei', 'going', 'enchantments', 'loyal', 'skegness', 'iosblack', 'b', 'pictwittercomkueayojwmnim', 'square', 'enrollee', 'he', '13', 'cant', 'mei', 'passwordif', 'rock', 'theres', 'tiny', 'awesomeme', 'bravo', 'also', 'thr', 'golden', 'have', 'ordering', 'slightly', 'stressed', 'top', 'switching', 'screenif', 'contract', 'sony', 'dies', 'space', 'rajivmakhni', 'shipment', 'feature', 'wait', 'home', '4what', 'ship', 'fire', 'everybody', 'trust', 'table', 'lure', 'newest', 'second', '64gbawesome', 'total', 'thank', 'poor', 'alreadylooks', 'costs', 'we', 'xr', 'holla', 'plzi', 'enabler', 'reservations', 'ppl', 'so', 'searcher', '1500when', 'usesnope', 'v', 'lollol', 'advantage', 'phonehate', 'ucstarfest', 'may3', 'authorised', 'tax', 'uglyretard', 'mindset', 'deck', 'week', 'true', 'fckn', 'dive', 'clothes', 'piezoelectric', '179', 'missed', 'ads', 'singularity', 'thatyour', '370', 'ucnews_india', 'shop', 'uncarrier', 'played', 'moms', 'xs', 'saadilamdin', 'seriouslydebt', 'mts', 'ownershipits', 'thati', 'trade', 'lucky', 'works', 'some', 'country', '2017', 'idiot', 'anyone', 'ios11', 'outside', 'strong', 'wrong', 'pocket', 'coming', 'sit', 'foreverrrrrr', 'pake', 'for', 'fooling', 'seems', 'cursewhen', 'charging', 'kill', 'texts', 'colour', 'ya', '256', '24', 'willing', 'thats', 'it', 'twittercomolajvdestatus', 'humpty', 'controlbesides', 'slowing', 'trynna', 'unlimited', 'applehow', 'information', 'wouldnt', 'guides', 'dinrcgot', 'buying', 'wants', '545', 'accessible', 'waste', 'copies', 'suggestions', 'insanely', 'wired', 'note8', 'exploit', 'yeah', 'pictwittercomrefhi3gc8vthey', 'looking', 'easier', 'complaint', 'had', '1000000', 'colombia', 'onboard', 'travel', 'cut', '64gb', 'sucks', 'chargetecno', 'orders', 'hmm', 'real', 'well', 'filters', 'dis', 'rest', 'touch', 'auntvip', 'told', '060i', 'fuck', '300', 'rep', 'piece', 'super', 'everythingget', 'consideration', 'vouchercloudcomdid1988896r', 'airtel', 'tutorials', 'tablets', 'insurance', 'gvwyioemu3ld0', 'wanti', 'online', 'tm', 'build', 'extra', 'mbad', 'starting', 'wednesdaythoughts', 'jolove', 'blurred', 'followers', 'pricetag', 'dollarsbutttt', 'cracked', 'onlyinafrica', 'tonight', 'swore', 'us816613182479466496', 'knowget', 'collapse', '400k', 'could', 'help', 'purpose', 'lol', 'wordi', 'maxhello', 'closed', 'ft', 'itwhen', 'edge', 'annoy', 'per', 'cop', 'hoping', 'servicebeen', 'usually', 'envirofone', 'pictwittercom71pjcufytyi', 'cognitivedissonancereturning', 'nigga', 'nominate', 'icon', 'put', 'biased', 'promised', 'of', 'ad', 'fun', 'onecan', '3we', 'unclaimed', 'mothers', 'horrendous', 'buddy', 'backwhy', 'o2', 'radios', 'irritating', 'oldest', 'isumm', 'xi', '30th', 'via', 'december', '999', 'everythingmultiple', 'preorder', 'thotoday', 'bestfirst', 'heard', 'mps', 'size', '38000', 'screens', 'badpengen', 'rn', 'cheaper', 'cheapest', 'iphonexrapple', 'depressed', 'gamblewish', 'dickhead', 'tiffany', 'scheme', 'overlooked', 'rejoin', 'harps', 'thoughtoday', '26', 'days', 'youtubeit', '8s', 'adopted', 'or', 'tough', '17', 'broke', 'stock', 'funding', 'screen', '150', 'curryspcworld', 'lolwhat', 'generally', 'brothers', 'issues', 'deal', 'tesco', 'regular', 'trick', 'representative', 'isnt', 'funds', 'mac', 'reported', 'sooo', '10', 'reviewi', '1k', 'glasses', 'owyoucangetafreeiphone864gbwhenyoubuyaniphonexatatt_id99708', 'start', 'take', 'recognition', 'matter', 'reserve', 'shows', 'pubg', 'background', 'downgrade', 'chose', 'hey', 'constantlydaily', 'word', 'alreadywhen', '400', 'radio', 'pictwittercomvupeg5nezxam', 'youtube9ca8zwjolfq', 'comes', 'theyre', 'brazil', 'public', 'thisthat_tha3rd', 'telling', '246', 'add', 'reject', 'prepared', 'omo', 'buy', 'r', 'lovely', 'retort', '099', 'ugly', 'somebody', '64', 'technologymy', 'decided', 'makeup', 'sams', 'uk', 'breadyeah', 'expensive', 'fall', 'ipad', 'youtube', 'done', 'type', 'batches', 'doubts', 'solid', 'isgod', 'in', 'presents', 'long', 'emojis', 'meiphone', 'recognizing', 'review', 'hadi', 'terrible', 'shouldbuy', 'xgrayson', 'pretty', 'funny', '79', 'girl', 'hands', 'recognize', 'father', 'methis', 'dick', 'simply', 'jumia', 'video', 'reason', 'able', 'reasonable', 'attention', '4k', 'picking', 'tim_cook', 'omg', 'different', 'itmy', 'confused', 'hypnotized', 'consumerist', 'number', 'flagships', 'grandpa', 'prepaid', 'decision', 'reviewspathetic', 'bigger', 'yr', 'anything', 'edition', 'tree', 'realise', 'at', 'maybe', 'length', '20', 'smhi', 'impossible', 'wtfi', '49', 'happy', 'ifttt2ynoaib', 'lock', 'xwhy', 'upset', 'pictwittercomjixvit1k0swhy', 'tempted', 'best', 'thisat', 'absolutely', 'tall', 'charger', 'googlb3xnbe', '200', 'de', '100', 'since', 'storesi', 'estimates', 'vertical', 'thatalso', 'gestures', 'print', 'apparently', 'customers', 'cold', 'win', 'from', 'pvp', 'batch', 'overpriced', 'logan', 'sexy', 'luckman', 'get', 'depth', 'xwait', 'pictwittercomzhgomp7sr3iphone', 'iphonexso', 'strongly', 'guessing', 'recommend', 'replacement', 'dream', 'bought', 'selling', 'talking', 'look', 'added', '4', 'sorryhate', 'app', 'till', 'trouble', 'otterbox', 'sure', 'nothing', 'decide', 'friends', 'experience', 'sell', 'colors', 'badwe', 'updated', 'suck', 'homescreen', 'qualityspeaker', 'backimma', 'youtube7ogyolyko6aa', 'hellllla', 'xyou', '2000', 'fucked', 'prayersof', 'shall', 'anaseini', 'apple', '78', 'email', '8plus', 'commuter', 'center', 'device', 'still', 'accuracy', 'experienced', 'month', 'youre', 'club', 'motherfuckers', 'reopenyo', 'sister', 'call', 'diamonds', 'sux', 'listened', 'sounds', 'minutes', 'rts', 'think', 'loans', 'indonesia', 'dude', 'forfinally', 'turned', 'garyvee', '6sand', 'minute', 'talked', 'invoke', '1063', 'older', 'realize', 'iphanboys', 'muchkinda', 'goes', 'twelve', 'us', 'cnetco2ds00h2', 'most', 'gadget', 'available', 'meant', 'friday', 'products', 'always', 'doi', 'glitching', 'shared', 'face', 'dufresh4', 'too', 'maxes', 'pay', 'entered', 'giving', 'lose', 'slower', '5t', '133x', 'oneyou', 'harder', 'target', 'fixed', 'upfront', 'ownsamsunggalaxy', '6s', 'tbh', 'resolution', 'america', 'refund', 'premium', 'playlist', 'come', 'data', 'sprint', 'control', 'tatus930831560189898754', 'forever', 'an', 'mean', 'laptopyou', 'urgent', 'installed', 'right', 'storeim', 'thanks', '256gbsince', '128gb', 'cards', 'shirti', 'nice', '6', 'fell', 'eyes', 'pictwittercom3ech4wkrjcneed', 'foodforthoughtneed', 'skincare', 'slash', 'tracking', 'hai', 'deciding', 'hahaha', '1', 'sexiest', 'randomly', 'manager', 'xd', 'pictwittercom0w6rdfvpfmstupidity', 'plusi', 'daymaybe', 'meal', 'person', 'basically', 'yesterday', 'severity', 'x', 'lmaoo', 'dlvritqsrghp', 'ios', 'mommy', '280cdont', 'honestly', 'w', 'others', 'loved', 'excuse', 'the', 'justify', 'warranty', 'c4etechtamil', 'mon', 'snaps', 'ferrari', 'davidinglestvsaw', 'enough', 'came', 'received', 'spensive', 'late', 'difference', 'tht', 'outright', 'swear', 'mkbhd', 'fancy', 'fbme1jd4s5mfc', 's3', 'once', 'his', 'mall', 'tbhwe', 'darkwatch', 'front', 'ta', 'significant', 'lags', 'creating', 'planthe', 'link', 'iti', '256gb', 'expected', 'complain', 'backgrounds', 'cyber', 'izen', 'employer', 'accident', 'hardest', 'drop', 'freelove', 'sale', 'whereismyhomebutton', 'support', 'whos', 'xhave', 'youtube0ercfyjqhn0a', 'even', 'lolrt', 'tapi', 'hear', '4th', 'alreadyi', 'android', 'freak', 'mates', 'included', 'plusevery', 'wanted', 'barely', 'everything', 'pleasei', 'original', 'airplane', 'using', 'mashable', 'mins', 'blow', 'thing', 'important', 'reviews', 'method', 'horrible', 'thisif', '14', 'asap', 'xpensive', 'expensiveiphone', 'note', 'whoever', 'release', 'pictwittercomh6anld8kpy', 'please', 'seconds', 'currently', 'calls', '1000', '256gbiphone', 'sending', 'port', 'save', 'thenyou', 'camera', 'killing', 'seem', '7', 'johnlegerei', 'crap', 'satisfaction', 'tbhi', '8talking', 'like', 'unhappy', 'were', 'ethandolan', 'test', 'students', 'yeri', 'free', 'launch', 'fine', 'xthose', '99cents', 'buttonmy', 'ridiculously', 'availability', 'deadass', 'cause', 'plus', 'swhen', 'custom', 'ends', 'black', 'shitgotta', 'nonissue', 'salesomeone', 'smaller', 'choose', 'nhs', 'untill', 'counterpartsi', 'knowwww', 'gesture', 'plan', 'gave', 'tculpan', 'subtle', '7plus', 'twittercomyongiemystics', 'pictwittercome7nqh9sdq2can', 'longer', 'computer', 'however', 'kidney', 'dm', 'today', 'bring', 'trying', 'hopped', 'go', '23', 'swapped', 'gained', 'idea', 'headquarters', '72', 'dislike', 'bank', 'glitches', 'tabs', 'slove', 'durability', 'sides', 'paid', 'conspiracy', 'visit', 'half', 'twitter', 'picture', 'read', 'plusim', 'pays', 'itid', 'games', 'lowkey', 'fansite', 'two', 'wendy', 'feelyeah', 'wide', 'poop', 'smooth', 'asking', 'u', 'musically', 'wonbuy', 'relationship', 'max4200', 'purposely', 'thingbuy', '24k', 'smashing', 'crazy', 'max', 'pleasure', 'wakakakakasince', 'quit', 'ssame', 'plustbh', 'unlocks', 'pixel3', 'devices', 'felt', 'uki', 'pictwittercom9maes4iod2i', 'taking', 'dumb', 'technology', 'bc', 'way', 'seei', 'kdbut', 'upshelp', 'screenlooking', 'hadnt', 'hours', 'hmmmmjust', 'newer', 'yall', 'annoying', 'pushed', 'adult', 'assume', 'not', 'amp', 'unlocked', 'favourite', 'pictures', 'bogo', 'owe', 'concerns', 'got', 'accurate', 'paintings', 'rstatus930155971191681026', 'itwish', 'spoken', 'started', 'loginedge', 'noticeable', 'need', 'promotion', 'biggeri', 'todaybest', 'living', 'follower', 'line', 'already', 'highly', 'pictwittercom7tzbh5hnj4i', 'mum', 'can', 'sampe', 'emoji', 'a37with', 'morganfor', '4kgot', 'badwhy', 'isthe', 'click', '16', 'mixed', 'thingi', '1100', 'machinery', 'screenshotted', 'chat', 'far', 'ratu', 'someone', 'snapchat', 'euro', 'sleeker', 'success', 'xnah', 'wish', 'generation', 'iphone', 'joeygraceffa', 'pictwittercomrueekshlb6lol', 'waitfew', 'elements', 'fools', 'pictwittercomj5zkczudnilmao', 'brag', 'ministers', 'episode', 'lucknow', 'making', 'priced', 'trees', 'order', 'badoh', 'reviewshow', 'couple', 'polaroidyour', 'backnot', 'display', 'headphones', 'finish', 'waterproofapples', 'here', 'xscrew', 'guilty', 'bonkers', 'holding', 'guy', 'money', '7layerskinzcom', 'alreadyyyyyyyyyyyyy', 'radial', 'samsungmobile', 'appledo', 'ending', 'lightingi', 'joy', 'know', '2x', 'gon', 'birthday', '3rd', 'son', 'iphoneo', 'dealers', 'allowed', 'including', 'everythinghey', 'vulnerable', 'prank', 'contractoneplus', 'copy', 'grow', 'fan', 'you', 'all', 'sugardaddy', 'sitting', 'thousand', 'dad', 'seemed', 'tell', 'la', 'cute', 'zar', 'inexpensive', 'havini', 'itll', 'yet', 'lmaoim', 'calendar', 'dollar', 'firstif', 'toronto', 'screwed', 'trading', 'supreme', 'let', 'shifting', 'remove', 'holiday', 'lte', 'great', 'criminal', 'gripe', 'spoiled', 'handing', 'ill', 'unlock', 'samsung', 'used', 'snap', 'tim', 'shiti', 'sasautoscomlink43316119', 'service', 'phoneim', 'lady', 'weekend', 'interestedi', 'more', 'funi', '193', 'disappointed', 'rolling', 'ah', 'britney', 'anddddd', 'officialimicca', '2150', 'fourth', 'loss', 'produce', 'future', 'thingim', 'made', 'xit', 'thankswhen', 'carmy', 'meet', 'dinosaur', 'whenever', 'clappedlooks', 'futurei', 'whats', 'videos', 'http', '395', 'zone', 'struggling', 'towow', 'any', 'shouldnt', 'notchbad', 'kids', 'ask', 'wtf', 'outyesterday', 'update', 'your', 'bitchthe', 'displays', 'expensivegoing']\n"
     ]
    }
   ],
   "source": [
    "def make_unique_li(li_cleanText):\n",
    "    unique_words_set= set(li_cleanText)\n",
    "    unique_word_li = list(unique_words_set)\n",
    "    return unique_word_li\n",
    "\n",
    "\n",
    "def stemmed(li_cleanText):\n",
    "    count_stemed=0\n",
    "    for word in li_cleanText:\n",
    "        if word[-1]==\"s\":\n",
    "            li_cleanText[count_stemed]=word[:-1]\n",
    "        elif word[-2:]==\"ed\":\n",
    "            li_cleanText[count_stemed]=word[:-2]\n",
    "        elif word[-3:]==\"ing\":\n",
    "            li_cleanText[count_stemed]=word[:-3]\n",
    "        count_stemed+=1  \n",
    "    return li_cleanText   \n",
    "# li_stemmed = stemmed(li_cleaned_text)\n",
    "uniqueWords = make_unique_li(li_cleaned_text)\n",
    "print(uniqueWords)"
   ]
  },
  {
   "cell_type": "code",
   "execution_count": null,
   "metadata": {},
   "outputs": [
    {
     "name": "stdout",
     "output_type": "stream",
     "text": [
      "0    1.0\n1    1.0\n2    0.0\n3    1.0\n4    0.0\nName: buy, dtype: float64\n"
     ]
    }
   ],
   "source": [
    "def DocVector():\n",
    "    data=np.zeros([final_df['class'].count(), len(uniqueWords)])\n",
    "    docVector=pd.DataFrame(data,columns=uniqueWords)\n",
    "    docVector['Purchase Intention'] = final_df['class']\n",
    "    doc_count = 0\n",
    "    for doc in final_df['text']:\n",
    "        words = doc.split()\n",
    "        for word in words:\n",
    "            temp=word.lower()\n",
    "            if temp in docVector.columns:\n",
    "                docVector.at[doc_count, temp] += 1\n",
    "        doc_count += 1\n",
    "    print(docVector['buy'])\n",
    "\n",
    "\n",
    "DocVector()  "
   ]
  }
 ],
 "metadata": {
  "kernelspec": {
   "display_name": "Python 3",
   "language": "python",
   "name": "python3"
  },
  "language_info": {
   "codemirror_mode": {
    "name": "ipython",
    "version": 3
   },
   "file_extension": ".py",
   "mimetype": "text/x-python",
   "name": "python",
   "nbconvert_exporter": "python",
   "pygments_lexer": "ipython3",
   "version": "3.7.0"
  }
 },
 "nbformat": 4,
 "nbformat_minor": 1
}
