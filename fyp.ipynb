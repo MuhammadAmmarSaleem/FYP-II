{
 "cells": [
  {
   "cell_type": "code",
   "execution_count": 19,
   "metadata": {},
   "outputs": [],
   "source": [
    "import pandas as pd\n",
    "import numpy as np\n",
    "import nltk\n",
    "import ftfy\n"
   ]
  },
  {
   "cell_type": "code",
   "execution_count": 31,
   "metadata": {},
   "outputs": [
    {
     "name": "stdout",
     "output_type": "stream",
     "text": [
      "          class                                               text\n0            no  i'll  buy  the  iphone   x  if it can  get  ac...\n1            no  Some dude in FB selling the  iPhone   X  64 gb...\n2           yes  Home dab emote man today and I  get  hopped on...\n3           yes                               Buy  an  iPhone   X \n4            no  I hate iOS 11. My  iPhone  6+ works 10X slower...\n5     undefined  Brilliant @johnlewisretail - added  iPhone   X...\n6     undefined  They doing that on purpose cause mine is to. T...\n7            no  Bo-go sale tomorrow at T-Mobile  buy  one  get...\n8           yes  I can  get  the  iPhone   X  here.... If I'm w...\n9           yes  When you  buy  an  Iphone   X  with Unlimited ...\n10          yes  @ Mrwhosetheboss  i really  wish  i  get  to m...\n11           no  @ sprint  @sprintcare  if I switch to @TMobile...\n12           no  Oneplus 5t has faster face recognition than  i...\n13           no  Don't  buy  an  iPhone   X  if you're ugly. I ...\n14           no  Could  buy  2x 5T with the price I paid for th...\n15          yes  My friend shopping:  iPhone   X  is not that e...\n16          yes  What if there was upgrade to an  iPhone  8 or ...\n17    undefined                                So if I  buy  a  X \n18    undefined  Buy   iPhone   X  and  get  in the same and yo...\n19           no  I don't  get  it is it basically impossible to...\n20          yes  The  iPhone   X  is a pleasure to use. Far mor...\n21    undefined  If @Spacekatgal  didn't  get  an  iPhone   X  yet\n22           no  I wanted the  IPhone   X  but now that most pl...\n23          yes  I  love  these holiday gift guides that assume...\n24          yes  VIP  NEED   BUY  AN  IPHONE   X   https:// twi...\n25    undefined  I ordered my pixel 2 on Tuesday from Google & ...\n26    undefined  Would it be the same if I  buy  an  iPhone   X...\n27           no  Anyone else experiencing an  iPhone  glitch wh...\n28    undefined  I wanna  buy  my mom a new  iPhone  so bad. I ...\n29          yes  Need  to just  buy  that  iPhone   X  so I can...\n...         ...                                                ...\n1091  Undefined  Ever since the  iPhone   X  came out my phone ...\n1092  Undefined         I fucking  hate  my  iPhone   X  right now\n1093         No  the  iPhone   x  looks so fucking  bad  and wh...\n1094         No  @ JohnLegere  I returned 3  Iphone  6's  after...\n1095  Undefined  iPhone   X  has been out for a little bit now ...\n1096         No  Tested  $ AAPL   iPhone   X  in person. It's n...\n1097  Undefined  The  iPhone   X  has more  expensive  parts th...\n1098  Undefined                                      Give it a try\n1099  Undefined  http:// ift.tt/2APejiE    Automating the  Bori...\n1100  Undefined  Automating the  Boring  Search for an  iPhone ...\n1101  Undefined  Orang Vietnam Sukses Retas Face ID  iPhone   X...\n1102  Undefined  Automating the  Boring  Search for an  iPhone ...\n1103  Undefined  @ AppleSupport  what is the official recommend...\n1104  Undefined                              iPhone   X  shipped  \n1105  Undefined                                   Bad   expensive \n1106  Undefined  I  hate   http:// to.read    negativity toward...\n1107  Undefined  Wouldn't trust Tim Cook's demand is \"off the c...\n1108  Undefined  @ Snapchat  is such a  bad  experience on the ...\n1109  Undefined  Hate  the  iPhone   X  'notch'? There's an app...\n1110        Yes  Yeah. I need a new phone real  bad . I really ...\n1111  Undefined      Got my  iPhone   X !Not  bad !keep fighting  \n1112  Undefined  Here's why some apps will look  bad  on the  i...\n1113         No  Actually true.. the  iPhone   X  is so  expens...\n1114  Undefined  Automating the  Boring  Search for an  iPhone ...\n1115  Undefined                                        Read online\n1116  Undefined  Listen:  Hate  the  iPhone   X  'notch'? There...\n1117  Undefined  Some more  boring   iPhone   X  figures/info  ...\n1118  Undefined        Tap bars look really  bad  on  iPhone   X .\n1119  Undefined  Trying to make a list of things I  hate  and l...\n1120  Undefined  The new  iPhone  data speeds are actually slow...\n\n[1121 rows x 2 columns]\n"
     ]
    }
   ],
   "source": [
    "fd= open('E:/DATA/Sem8/fyp/AnnotatedData2.csv',encoding=\"utf-8\", errors='replace')\n",
    "df = pd.read_csv(fd)\n",
    "print(df)"
   ]
  },
  {
   "cell_type": "code",
   "execution_count": 42,
   "metadata": {},
   "outputs": [
    {
     "name": "stdout",
     "output_type": "stream",
     "text": [
      "     class                                               text\n0       no  i'll  buy  the  iphone   x  if it can  get  ac...\n1       no  Some dude in FB selling the  iPhone   X  64 gb...\n2      yes  Home dab emote man today and I  get  hopped on...\n3      yes                               Buy  an  iPhone   X \n4       no  I hate iOS 11. My  iPhone  6+ works 10X slower...\n7       no  Bo-go sale tomorrow at T-Mobile  buy  one  get...\n8      yes  I can  get  the  iPhone   X  here.... If I'm w...\n9      yes  When you  buy  an  Iphone   X  with Unlimited ...\n10     yes  @ Mrwhosetheboss  i really  wish  i  get  to m...\n11      no  @ sprint  @sprintcare  if I switch to @TMobile...\n12      no  Oneplus 5t has faster face recognition than  i...\n13      no  Don't  buy  an  iPhone   X  if you're ugly. I ...\n14      no  Could  buy  2x 5T with the price I paid for th...\n15     yes  My friend shopping:  iPhone   X  is not that e...\n16     yes  What if there was upgrade to an  iPhone  8 or ...\n19      no  I don't  get  it is it basically impossible to...\n20     yes  The  iPhone   X  is a pleasure to use. Far mor...\n22      no  I wanted the  IPhone   X  but now that most pl...\n23     yes  I  love  these holiday gift guides that assume...\n24     yes  VIP  NEED   BUY  AN  IPHONE   X   https:// twi...\n27      no  Anyone else experiencing an  iPhone  glitch wh...\n29     yes  Need  to just  buy  that  iPhone   X  so I can...\n30     yes  Apple just send me an email with Christmas gif...\n32     yes                               Buy  an  iPhone   X \n33     yes                              Love  the Design.... \n34      no  u can  buy  yourself an  iPhone   X  but can n...\n35     yes  I  love  my Note 8 its been an  awesome  phone...\n36      no                             Not this what i want  \n37      no  In crazy  love  with this video!!! Don't  Buy ...\n39     yes                 So in  love   w  the  iPhone   x .\n...    ...                                                ...\n1008    no  iPhone   X  Review: Screen: awesome. FaceID: a...\n1016   yes             How  bad  do i want this  iPhone   X  \n1017   yes  I want that  iPhone   X  so  bad  I almost wen...\n1021    no  I'm so pissed this is why I  hate  ordering sh...\n1024    no  Yeah @Zoella  is selling an  expensive  item. ...\n1027    no  IPhone   X  online reviews have become so  bor...\n1029    no  Why I  Hate  & Return My Apple  iPhone   X  10...\n1032   yes  It so  bad ? Lol.. Can't wait to get my  Iphon...\n1034   yes  Should I get this  iPhone   X  or no?   The sc...\n1036   yes  I want the  iPhone   X  so  bad  but I just ca...\n1038   yes  When people complain that the  iPhone   X  is ...\n1040    no  @ Apple  @WhatsApp  youre making me  hate   iP...\n1041    no  Wanted the  iPhone   X  but I've heard more  b...\n1043    no  That seems  useless  since the only people who...\n1047   yes  I want an  Iphone  sooooooo  bad  but wont buy...\n1049   yes  Been patiently waiting for almost a week for @...\n1050    no                     I   hate  the damn  iPhone   X\n1054   yes  i  hate  myself rn bc even though i say im don...\n1060    no  The way you invoke Control Center is killing m...\n1064   yes  When I get my funding in January ima buy an  i...\n1067   yes  Need / want the  iPhone   X  but it's so  expe...\n1069    no  Lmao this  iPhone   X  shit getting from  bad ...\n1075   yes                  I want the  iPhone   x  so  bad  \n1077   yes  If I deck out in @TMobile  gear from @JohnLege...\n1082   yes                    I want the  iPhone   X  so  bad\n1093    no  the  iPhone   x  looks so fucking  bad  and wh...\n1094    no  @ JohnLegere  I returned 3  Iphone  6's  after...\n1096    no  Tested  $ AAPL   iPhone   X  in person. It's n...\n1110   yes  Yeah. I need a new phone real  bad . I really ...\n1113    no  Actually true.. the  iPhone   X  is so  expens...\n\n[624 rows x 2 columns]\n"
     ]
    }
   ],
   "source": [
    "\n",
    "# create series of true and false. True is assigned for yes/no. False for undefine\n",
    "defined=df['class'] != (\"undefined\")\n",
    "# #output dataframe without undeined\n",
    "df2=df[defined]\n",
    "defined1=df2['class'] !=\"Undefined\"\n",
    "df4=df2[defined1]\n",
    "#replace no PI with no\n",
    "df3=df4.replace(\"No PI\",\"no\")\n",
    "#replace PI with yes\n",
    "final=df3.replace(\"PI\",\"yes\")\n",
    "\n",
    "replace_yes=final.replace(\"Yes\",\"yes\")\n",
    "final_df= replace_yes.replace(\"No\",\"no\")\n",
    "\n",
    "print(final_df)"
   ]
  },
  {
   "cell_type": "code",
   "execution_count": null,
   "metadata": {},
   "outputs": [],
   "source": [
    "# create series of true and false. False is assigned for yes/no. True is for undefined\n",
    "undefined=df['class'] == \"undefined\" \n",
    "#output dataframe without undeined\n",
    "df_undefine=df[undefined]\n",
    "print(df_undefine)\n",
    "\n"
   ]
  },
  {
   "cell_type": "code",
   "execution_count": 45,
   "metadata": {},
   "outputs": [],
   "source": [
    "def text_concat():\n",
    "    text=\"\"\n",
    "    for x in final_df[\"text\"]:\n",
    "        text=text +str(x)\n",
    "    return text\n",
    "corpus=text_concat()"
   ]
  },
  {
   "cell_type": "code",
   "execution_count": 46,
   "metadata": {},
   "outputs": [],
   "source": [
    "import re\n",
    "from nltk.corpus import stopwords \n",
    "from nltk.tokenize import word_tokenize \n",
    "\n",
    "def removeStopWords(text):\n",
    "    stop_words = set(stopwords.words('english')) \n",
    "    word_tokens = word_tokenize(text) \n",
    "    filtered_sentence = [] \n",
    "    for w in word_tokens: \n",
    "        if w not in stop_words: \n",
    "            filtered_sentence.append(w.lower()) \n",
    "    #return list of corpus without stop words in a list.        \n",
    "    return filtered_sentence  \n",
    "\n",
    "def removePunc(eachText):\n",
    "    remove_punc = re.sub(r'[^\\w\\s]','',eachText)\n",
    "    #return corpus with out punctuation.\n",
    "    return remove_punc\n",
    "\n",
    "\n",
    "\n",
    "def clean_data(corpus):\n",
    "    remove_punc=removePunc(corpus)\n",
    "    li_remove_stopWords= removeStopWords(remove_punc)\n",
    "    return li_remove_stopWords\n",
    "\n",
    "li_cleaned_text = clean_data(corpus)\n",
    "# bprint(li_cleaned_text)"
   ]
  },
  {
   "cell_type": "code",
   "execution_count": 47,
   "metadata": {},
   "outputs": [],
   "source": [
    "def make_unique_li(li_cleanText):\n",
    "    unique_words_set= set(li_cleanText)\n",
    "    unique_word_li = list(unique_words_set)\n",
    "    return unique_word_li\n",
    "\n",
    "\n",
    "def stemmed(li_cleanText):\n",
    "    count_stemed=0\n",
    "    for word in li_cleanText:\n",
    "        if word[-1]==\"s\":\n",
    "            li_cleanText[count_stemed]=word[:-1]\n",
    "        elif word[-2:]==\"ed\":\n",
    "            li_cleanText[count_stemed]=word[:-2]\n",
    "        elif word[-3:]==\"ing\":\n",
    "            li_cleanText[count_stemed]=word[:-3]\n",
    "        count_stemed+=1  \n",
    "    return li_cleanText   \n",
    "li_stemmed = stemmed(li_cleaned_text)\n",
    "uniqueWords = make_unique_li(li_stemmed)\n"
   ]
  },
  {
   "cell_type": "code",
   "execution_count": null,
   "metadata": {},
   "outputs": [
    {
     "name": "stdout",
     "output_type": "stream",
     "text": [
      "['seem', 'consideration', 'really', 'trad', 'brand', 'dlvritqsrghp', 'episode', 'op', '133x', 'lik', 'like', 'million', 'dive', 'bro', 'dont', 'important', 'try', 'gett', '4k', '10', 'shop', 'lost', 'annoy', 'gear', 'xthat', 'festive', 'public', 'max4200', 'follower', 'black', 'outright', 'longer', 'promotion', 'maxhello', 'bitchthe', 'system', 'onto', 'new', 'basically', 'goodne', 'ecosystem', 'pay', 'fix', 'case', 'iphonexmy', 'link', '150', 'sure', 'haptic', 'pictwittercom0w6rdfvpfmstupidity', 'screenshot', 'pictwittercomiayz2yxnzaim', 'data', 'originally', 'dinosaur', 'http', '400k', 'replacement', 'warranty', 'love', 'went', 'came', 'face', '75', 'friend', 'mac', 'th', 'xstand', 'hypercritical', 'unlock', 'live', 'ee', 'lame', 'instead', 'stuff', '3', 'ne', 'v', 'rotate', 'chance', '45', 'next', 'pixel3', '100', 'flip', 'watch', 'elsewhere', 'giv', 'interest', 'thank', 'issue', 'manager', 'trust', 'steep', 'thoughtoday', 'take', 'ipad', 'iphonex', 'free', '256gbsince', 'regular', 'talk', 'winner', 's9', 'u', 'difference', 'first', 'vem', '1068026546504548352', '200', 'cyber', 'recognition', 'shipp', 'fuck', 'seen', 'buggati', 'if', 'solid', 'havent', 'useseriously', 'couldnt', 'pric', '128gb', 'doesnt', 'maxe', 'enjoyable', 'told', 'old', 'their', 'applepay', 'knew', 'pictwittercom4lipdpjbufthe', 'reasonable', 'nothin', 'faulty', 'hshshsh', '7', 'decade', 'phone', 'feel', 'tab', 'cinematic', 'ive', 'skegne', 'businessbest', 'salesomeone', 'hear', 'exception', 'mei', 'deal', 'they', 'xto', 'got', 'end', 'instagram', 'die', 'themiphone', 'cant', 'folk', 'fullestiphone', 'use', 'thi', 'sick', 'but', 'amaz', 'bonker', 'cast', 'video', 'httpswww', 'tv', 'p', 'enter', 'element', 'biggest', 'obviously', 'theyre', 'advantage', '25', 'awesome', '13', 'im', 'easy', 'sony', 'why', 'hmmmmjust', 'dream', '2', '99cent', 'struggle', 'alreadywtf', 'finally', 'iphonexlololol', 'bell', 'wait', 'especially', 'time', 'device', 'would', 'with', '24', 'gue', 'gadget', 'true', 's1068249266026614784', 'money', 'shambig', 'drive', 'siracusa', 'shit', 'read', 'you', 'youtubecmiz1lcq5fka', 'in', 'sim', 'inch', 'people', 'len', 'scroll', 'stupid', 'usesnope', 'toronto', 'can', 'thugnology', 'y3', 'twittercomafuaasamstatu', 'applesupport', 'example', 'available', 'airpod', 'listen', 'word', 'every', 'camera', 'lolmy', 'nigeriathe', 'written', 'o2', '1k', 'clappedlook', 'person', 'attention', 'christma', 'though', 'x', 'carry', 'my', '16', 'igpu', 'buzz', 'loser', '78', 'screw', 'hahahait', 'better', 'bigbrother', 'get', 'win', 'personal', 'ghost', 'life', 'unclaim', 'apple', 'creep', 'jumia', 'season', 'yet', 'could', 'nose', 'hope', 'pictwittercomrefhi3gc8vnanthey', 'flagshipsbullshit', 'screen', 'behind', 'real', 'week', 'io', 'onboard', 'quality', 'pocket', 'price', 'verizon', 'bad', 'retweet', 'good', 'sale', 'youtube', 'local', 'consider', 'color', 'the', 'think', 'month', 'customer', 'seriou', 'bf', 'charger', 'guessthi', 'actually', 'crap', 'smash', 'storie', 'sync', 'say', 'ferrari', 'daughter', 'yeah', 'bet', 'wellthe', 'send', 'tough', 'much', 'stay', 'protect', 'envirofone', 'att', '4kgot', 'chargetecno', 'deliver', 'computer', 'loli', 'googlyafuzy', 'didnt', '6', 'what', 'activate', 'owni', 'n', 'productsletterthank', 'vertical', 'find', 'nokia', 'help', 'silly', 'pretty', 'emoji', 'buy', 'look', 'sell', 'snapchat', 'via', 'struggl', 'speaker', 'laterif', 'significant', 'tho', 'one', 'roundmy', 'xi', 'wont', 'cost', 'youtubesqldxppmsea', 'right', 'sexy', 's3', 'shouldnt', 'year', 'existedmy', 'vouchercloud', 'enchantment', 'also', '4', 'lcd', 'generation', 'kdbut', 'benefiti', 'keep', 'understand', 'set', 'oversaturat', 'monday', 'naira', 'pic', 'oneplu', 'na', 'dickhead', 'job', 'friday', 'still', 'hit', 'big', 'contract', 'xr', '4gb', 'everyth', '1000', 'og', 'someth', 'tomorrow', 'day', 'even', 'ux', '1st', 'gvwyioemu3ld0', 'stuck', 'prank', 'simply', 'make', 'iphone', 'twittercomolajvdestatu', 'tire', 'depth', 'kidney', 'who', 'screenshott', 'methi', 'information', 'accident', 'long', 'wouldnt', 'mum', 'polish', 'want', 'term', 'pixel', 'throw', 'gain', '3t', 'prize', 'insurance', 'experienc', 'ui', 'go', 'horrificim', 'omo', 'it', 'mean', 'add', 'i', 'many', '3t5g9ysc1sc1l1ppy4291063', 'pm', 'ohyoure', 'lady', 'hand', 'whole', 'mehn', 'call', 'sasautoscomlink43316119', '8', '64gb', 'ridiculou', 'never', 'tf', '6t', 'far', 'pl', 'compliment', 'ol', 'receiv', 'app', 'roadto500k', 'smooth', 'iphonexrapple', 'ssame', '4omg', 'gam', 'music', 'excit', 'small', 'done', 'david', '3rd', 'match', 'text', 'xim', 'unle', 'main', 'might', 'upfront', 'know', 'aint', 'pro', 'mt', 'sena', 'that', 'different', 'so', 'background', '1', 'giveaway', 'someone', 'come', 'cnetco2ds00h2', 'sister', 'plann', 'overlook', 'smarter', 'opportunity', 'verdict', 'horrible', 'tempt', 'see', 'max', 'scamm', 'earlier', 'efkj8m0aemiim4jh0x3cgyiq3d3dutm_sourcecompetitionutm_mediumreferralutm_campaigncompetition20shar', 'anyone', 'click', 'reply', 'wan', 'saw', 'plu', 'turn', 'sux', 'samsung', 'euro', 'fund', 'reduce', 'back', 'feature', 'everyone', 'blue', 'breadyeah', 'canada', 'buyingi', 'crazy', 'vouchercloudcomdid1988896r']\n"
     ]
    }
   ],
   "source": [
    "print(uniqueWords)"
   ]
  }
 ],
 "metadata": {
  "kernelspec": {
   "display_name": "Python 3",
   "language": "python",
   "name": "python3"
  },
  "language_info": {
   "codemirror_mode": {
    "name": "ipython",
    "version": 3
   },
   "file_extension": ".py",
   "mimetype": "text/x-python",
   "name": "python",
   "nbconvert_exporter": "python",
   "pygments_lexer": "ipython3",
   "version": "3.7.0"
  }
 },
 "nbformat": 4,
 "nbformat_minor": 1
}
