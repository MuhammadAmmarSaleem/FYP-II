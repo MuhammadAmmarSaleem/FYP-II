{
 "cells": [
  {
   "cell_type": "code",
   "execution_count": 17,
   "metadata": {},
   "outputs": [],
   "source": [
    "import pandas as pd\n",
    "import numpy as np\n",
    "import nltk\n",
    "import string\n",
    "import numpy as np\n",
    "import matplotlib.pyplot as plt\n",
    "\n",
    "from sklearn.feature_extraction.text import TfidfTransformer\n",
    "from sklearn.feature_extraction.text import CountVectorizer\n",
    "from sklearn.model_selection import train_test_split\n",
    "from sklearn.metrics import confusion_matrix\n",
    "from sklearn import metrics\n",
    "from sklearn.metrics import roc_curve, auc\n",
    "from nltk.stem.porter import PorterStemmer"
   ]
  },
  {
   "cell_type": "code",
   "execution_count": 18,
   "metadata": {},
   "outputs": [
    {
     "name": "stdout",
     "output_type": "stream",
     "text": [
      "     class                                               text\n",
      "0       no  i'll  buy  the  iphone   x  if it can  get  ac...\n",
      "1       no  Some dude in FB selling the  iPhone   X  64 gb...\n",
      "2      yes  Home dab emote man today and I  get  hopped on...\n",
      "3      yes                               Buy  an  iPhone   X \n",
      "4       no  I hate iOS 11. My  iPhone  6+ works 10X slower...\n",
      "7       no  Bo-go sale tomorrow at T-Mobile  buy  one  get...\n",
      "8      yes  I can  get  the  iPhone   X  here.... If I'm w...\n",
      "9      yes  When you  buy  an  Iphone   X  with Unlimited ...\n",
      "10     yes  @ Mrwhosetheboss  i really  wish  i  get  to m...\n",
      "11      no  @ sprint  @sprintcare  if I switch to @TMobile...\n",
      "12      no  Oneplus 5t has faster face recognition than  i...\n",
      "13      no  Don't  buy  an  iPhone   X  if you're ugly. I ...\n",
      "14      no  Could  buy  2x 5T with the price I paid for th...\n",
      "15     yes  My friend shopping:  iPhone   X  is not that e...\n",
      "16     yes  What if there was upgrade to an  iPhone  8 or ...\n",
      "19      no  I don't  get  it is it basically impossible to...\n",
      "20     yes  The  iPhone   X  is a pleasure to use. Far mor...\n",
      "22      no  I wanted the  IPhone   X  but now that most pl...\n",
      "23     yes  I  love  these holiday gift guides that assume...\n",
      "24     yes  VIP  NEED   BUY  AN  IPHONE   X   https:// twi...\n",
      "27      no  Anyone else experiencing an  iPhone  glitch wh...\n",
      "29     yes  Need  to just  buy  that  iPhone   X  so I can...\n",
      "30     yes  Apple just send me an email with Christmas gif...\n",
      "32     yes                               Buy  an  iPhone   X \n",
      "33     yes                              Love  the Design.... \n",
      "34      no  u can  buy  yourself an  iPhone   X  but can n...\n",
      "35     yes  I  love  my Note 8 its been an  awesome  phone...\n",
      "36      no                             Not this what i want  \n",
      "37      no  In crazy  love  with this video!!! Don't  Buy ...\n",
      "39     yes                 So in  love   w  the  iPhone   x .\n",
      "...    ...                                                ...\n",
      "1815   yes  i  want   iphone   x  but only for the animoji...\n",
      "1818   yes  My #LGV20  still has better quality camera and...\n",
      "1819   yes  Buy  me an  iPhone   X  and I’ll  love  you fo...\n",
      "1820   yes     All the more reason to  buy  the  iPhone   X  \n",
      "1821   yes  EE has offered me a decent monthly  deal  for ...\n",
      "1822   yes  Got a little excited at the Apple Store last n...\n",
      "1826   yes  Did you know? The  X  in  iPhone   X  means or...\n",
      "1827   yes  this is the only reason why i would  get  an  ...\n",
      "1828   yes  Mannn I just got my  iPhone  7  like  four mon...\n",
      "1834   yes                          I  want  the  iPhone   X \n",
      "1835   yes  i have to  get  a new phone so idk if i should...\n",
      "1836   yes  This will be me in a week when i  get  my  iPh...\n",
      "1839    no  Why I  HATE  Apple Fanboys ( iPhone   X  Speci...\n",
      "1840    no                     No don't  get  the  iPhone   x\n",
      "1841   yes             Should i  get  the  iPhone  8 or  X ? \n",
      "1843   yes  That's fair. I've always had an Android and I'...\n",
      "1845   yes  The quality of this  iPhone   X  is so good ev...\n",
      "1846   yes  Get  the all-new  iPhone   X  on a game-changi...\n",
      "1851   yes  I   get  my  iPhone   x  today and there’s no ...\n",
      "1852   yes  People wit the  iPhone   X  keep stunting on m...\n",
      "1853   yes  It’s  iPhone  Season!  Get  the new  iPhone  8...\n",
      "1854   yes                            buy  me one  iphone   X\n",
      "1855   yes              After 9 yrs with @Apple  and #iPhone \n",
      "1856   yes  Need  someone who can do the back of the van t...\n",
      "1857   yes     All I  want  for Christmas is an  iPhone   X  \n",
      "1858   yes  I wonder if the @Apple  Store app will ever le...\n",
      "1864   yes  I lowkey lowkey lowkey  want  the  iPhone   x ...\n",
      "1865   yes  i  need  the  iphone   x  for christmas so i c...\n",
      "1867   yes                     yeah i  need  an  iPhone   X  \n",
      "1868    no  Apple  need  to work hard here. Pixel is outsh...\n",
      "\n",
      "[1008 rows x 2 columns]\n"
     ]
    }
   ],
   "source": [
    "path = \"/home/hasan/Desktop/FYP-II/data/AnnotatedData3.csv\"\n",
    "\n",
    "def extract (path):\n",
    "    fd= open(path,encoding=\"utf-8\", errors='replace')\n",
    "    df = pd.read_csv(fd)   \n",
    "    defined=df['class'] != (\"undefined\")\n",
    "    # #output dataframe without undeined\n",
    "    df2=df[defined]\n",
    "    defined1=df2['class'] !=\"Undefined\"\n",
    "    df4=df2[defined1]\n",
    "    #replace no PI with no\n",
    "    df3=df4.replace(\"No PI\",\"no\")\n",
    "    #replace PI with yes\n",
    "    final=df3.replace(\"PI\",\"yes\")\n",
    "    \n",
    "    replace_yes=final.replace(\"Yes\",\"yes\")\n",
    "    final_df= replace_yes.replace(\"No\",\"no\")\n",
    "    return final_df, df\n",
    "\n",
    "final_data_frame, data_frame_undefined = extract(path)\n",
    "\n",
    "print(final_data_frame)"
   ]
  },
  {
   "cell_type": "code",
   "execution_count": 19,
   "metadata": {},
   "outputs": [],
   "source": [
    "#creating the training and testing datasets\n",
    "class_label = final_data_frame['class']\n",
    "text = final_data_frame['text']\n",
    "\n",
    "X_train, X_test, y_train, y_test = train_test_split(text, class_label, test_size=0.2, random_state=42)"
   ]
  },
  {
   "cell_type": "code",
   "execution_count": 20,
   "metadata": {},
   "outputs": [
    {
     "name": "stdout",
     "output_type": "stream",
     "text": [
      "                                                 Before  \\\n",
      "39                   So in  love   w  the  iPhone   x .   \n",
      "470   Bro this  iPhone X  camera quality better come...   \n",
      "848   I'm the same I was on  iPhone  6 Plus and sinc...   \n",
      "1172  Just ordered the  iPhone   X  but it don’t  ge...   \n",
      "1758                             $1200 is a huge  deal    \n",
      "489   But instead of giving out just one for example...   \n",
      "268   College students complaining they're broke the...   \n",
      "1369  “The  iPhone   X  is too  expensive ” “Apple d...   \n",
      "836    So if you feel  iPhone   X  is expensive (it is)   \n",
      "787   Someone  buy  me an  iPhone   X  cause I'm  aw...   \n",
      "105            I  wish  I could  get  the  iPhone   X .   \n",
      "233   What about me I'm trying to  get  that  iPhone...   \n",
      "457   I got a  iPhone X /10 for sale.\\n\\nIt's a 6 an...   \n",
      "1537                             get  the  iPhone   X ?   \n",
      "987   WAIT DEAL OR NO DEAL?!!! I  HATE  COMMERCIALS ...   \n",
      "792   I'm trying to  get  a man. I think it'll be ea...   \n",
      "1197  @ Apple  Really exited to use the new  Iphone ...   \n",
      "540   I've tried every way to return my phone before...   \n",
      "1282  I  want  the  iPhone   x  but I  want  to save...   \n",
      "522   Couldn't agree more with this review.  iPhone ...   \n",
      "\n",
      "                                                  After  \n",
      "39                             so in love w the iphon x  \n",
      "470   bro thi iphon x camera qualiti better come tf ...  \n",
      "848   i m the same i wa on iphon 6 plu and sinc then...  \n",
      "1172  just order the iphon x but it don ’ t get here...  \n",
      "1758                                1200 is a huge deal  \n",
      "489   but instead of give out just one for exampl th...  \n",
      "268   colleg student complain they re broke then go ...  \n",
      "1369  “ the iphon x is too expens ” “ appl doesn ’ t...  \n",
      "836              so if you feel iphon x is expens it is  \n",
      "787            someon buy me an iphon x caus i m awesom  \n",
      "105                      i wish i could get the iphon x  \n",
      "233   what about me i m tri to get that iphon x can ...  \n",
      "457   i got a iphon x 10 for sale it s a 6 and a 4 b...  \n",
      "1537                                    get the iphon x  \n",
      "987   wait deal or no deal i hate commerci i dont ca...  \n",
      "792   i m tri to get a man i think it ll be easier i...  \n",
      "1197  appl realli exit to use the new iphon x but no...  \n",
      "540   i ve tri everi way to return my phone befor th...  \n",
      "1282        i want the iphon x but i want to save money  \n",
      "522   couldn t agre more with thi review iphon x is ...  \n"
     ]
    }
   ],
   "source": [
    "#Cleaning the data\n",
    "stemmer = PorterStemmer()\n",
    "from nltk.corpus import stopwords\n",
    "\n",
    "def stem_tokens(tokens, stemmer):\n",
    "    stemmed = []\n",
    "    for item in tokens:\n",
    "        stemmed.append(stemmer.stem(item))\n",
    "    return stemmed\n",
    "\n",
    "def tokenize(text):\n",
    "    tokens = nltk.word_tokenize(text)\n",
    "    #tokens = [word for word in tokens if word not in stopwords.words('english')]\n",
    "    stems = stem_tokens(tokens, stemmer)\n",
    "    return ' '.join(stems)\n",
    "\n",
    "intab = string.punctuation\n",
    "outtab = \"                                \"\n",
    "trantab = str.maketrans(intab, outtab)\n",
    "\n",
    "#--- Training set\n",
    "\n",
    "corpus = []\n",
    "for text in X_train:\n",
    "    text = text.lower()\n",
    "    text = text.translate(trantab)\n",
    "    text=tokenize(text)\n",
    "    corpus.append(text)\n",
    "        \n",
    "count_vect = CountVectorizer()\n",
    "X_train_counts = count_vect.fit_transform(corpus)        \n",
    "        \n",
    "tfidf_transformer = TfidfTransformer()\n",
    "X_train_tfidf = tfidf_transformer.fit_transform(X_train_counts)\n",
    "\n",
    "#--- Test set\n",
    "\n",
    "test_set = []\n",
    "for text in X_test:\n",
    "    text = text.lower()\n",
    "    text = text.translate(trantab)\n",
    "    text=tokenize(text)\n",
    "    test_set.append(text)\n",
    "\n",
    "X_new_counts = count_vect.transform(test_set)\n",
    "X_test_tfidf = tfidf_transformer.transform(X_new_counts)\n",
    "\n",
    "from pandas import *\n",
    "df = DataFrame({'Before': X_train, 'After': corpus})\n",
    "print(df.head(20))\n",
    "\n",
    "prediction = dict()"
   ]
  },
  {
   "cell_type": "code",
   "execution_count": 29,
   "metadata": {},
   "outputs": [
    {
     "name": "stdout",
     "output_type": "stream",
     "text": [
      "<class 'scipy.sparse.csr.csr_matrix'>\n"
     ]
    },
    {
     "name": "stderr",
     "output_type": "stream",
     "text": [
      "/home/hasan/.local/lib/python3.6/site-packages/sklearn/linear_model/logistic.py:433: FutureWarning: Default solver will be changed to 'lbfgs' in 0.22. Specify a solver to silence this warning.\n",
      "  FutureWarning)\n"
     ]
    }
   ],
   "source": [
    "#Applying Multinomial Naïve Bayes learning method\n",
    "from sklearn.naive_bayes import MultinomialNB\n",
    "model = MultinomialNB().fit(X_train_tfidf, y_train)\n",
    "prediction['Multinomial'] = model.predict(X_test_tfidf)\n",
    "\n",
    "#Applying Bernoulli Naïve Bayes learning method\n",
    "from sklearn.naive_bayes import BernoulliNB\n",
    "model = BernoulliNB().fit(X_train_tfidf, y_train)\n",
    "prediction['Bernoulli'] = model.predict(X_test_tfidf)\n",
    "\n",
    "#Applying Logistic regression learning method\n",
    "from sklearn import linear_model\n",
    "logreg = linear_model.LogisticRegression(C=1e5)\n",
    "logreg.fit(X_train_tfidf, y_train)\n",
    "prediction['Logistic'] = logreg.predict(X_test_tfidf)"
   ]
  },
  {
   "cell_type": "code",
   "execution_count": 55,
   "metadata": {},
   "outputs": [
    {
     "name": "stdout",
     "output_type": "stream",
     "text": [
      "    Multinomial  Bernoulli  Logistic\n",
      "TP        130.0      123.0     106.0\n",
      "FN          1.0        8.0      25.0\n",
      "TN          5.0       18.0      39.0\n",
      "FP         66.0       53.0      32.0\n",
      "Accuracy: \n",
      "130.0 66.0 1.0 5.0\n",
      "123.0 53.0 8.0 18.0\n",
      "106.0 32.0 25.0 39.0\n",
      "   Multinomial  Bernoulli  Logistic\n",
      "0     0.668317    0.69802  0.717822\n"
     ]
    }
   ],
   "source": [
    "#CONFUSION MATRIX \n",
    "#ACCURACY, PRECISON, RECALL, FSCORE\n",
    "\n",
    "count = 0\n",
    "TP = 0\n",
    "FN = 0\n",
    "TN = 0\n",
    "FP = 0\n",
    "\n",
    "confusion_matrix = pd.DataFrame(data = np.zeros(shape=[4,3]) ,columns = prediction.keys(), index=['TP','FN','TN','FP'])\n",
    "for column in prediction.keys():\n",
    "    for values in y_test:\n",
    "        if values == \"yes\" and prediction[column][count] == \"yes\":\n",
    "            TP += 1\n",
    "        elif values == \"yes\" and prediction[column][count] ==\"no\":\n",
    "            FN += 1\n",
    "        elif values == \"no\" and prediction[column][count] ==\"no\":\n",
    "            TN += 1\n",
    "        elif values == \"no\" and prediction[column][count] == \"yes\":\n",
    "            FP += 1\n",
    "        count += 1\n",
    "        confusion_matrix.at['TP',column] = TP\n",
    "        confusion_matrix.at['FN',column] = FN\n",
    "        confusion_matrix.at['TN',column] = TN\n",
    "        confusion_matrix.at['FP',column] = FP\n",
    "    count = 0\n",
    "    TP = 0\n",
    "    FN = 0\n",
    "    TN = 0\n",
    "    FP = 0\n",
    "    \n",
    "print(confusion_matrix)\n",
    "\n",
    "def Accuracy():\n",
    "    Accuracy_df = pd.DataFrame(data = np.zeros(shape=[1,3]) ,columns = prediction.keys())\n",
    "    for col in confusion_matrix.columns:\n",
    "        TP = confusion_matrix.at['TP',col]\n",
    "        FP = confusion_matrix.at['FP',col]\n",
    "        FN = confusion_matrix.at['FN',col]\n",
    "        TN = confusion_matrix.at['TN',col]\n",
    "        print(TP,FP,FN,TN)\n",
    "        accuracy=(TP+TN)/(TP+FP+FN+TN)\n",
    "        Accuracy_df.at[0,col]=accuracy\n",
    "    return Accuracy_df\n",
    "\n",
    "print(\"Accuracy: \")\n",
    "print(Accuracy())\n",
    "   \n",
    "# # def Precision():\n",
    "# #     precision =  TP/(TP+FP)\n",
    "# #     return precision\n",
    "\n",
    "# # def Recall():\n",
    "# #     recall = TP/(TP+FN)\n",
    "# #     return recall\n",
    "    \n",
    "# # def fScore():\n",
    "# #     F1 = 2*(Recall() * Precision()) / (Recall() + Precision())\n",
    "# #     return F1\n",
    "\n",
    "# print(\"Accuracy = \",Accuracy())\n",
    "# print(\"Precision = \",Precision())\n",
    "# print(\"Recall = \",Recall())\n",
    "# print(\"fScore = \",fScore())"
   ]
  },
  {
   "cell_type": "code",
   "execution_count": 22,
   "metadata": {},
   "outputs": [
    {
     "data": {
      "image/png": "[encoded data removed]",
      "text/plain": [
       "<Figure size 432x288 with 1 Axes>"
      ]
     },
     "metadata": {
      "needs_background": "light"
     },
     "output_type": "display_data"
    }
   ],
   "source": [
    "#ROC curve\n",
    "def formatt(x):\n",
    "    if x == 'no':\n",
    "        return 0\n",
    "    return 1\n",
    "\n",
    "vfunc = np.vectorize(formatt)\n",
    "\n",
    "cmp = 0\n",
    "colors = ['b', 'g', 'y', 'm', 'k']\n",
    "for model, predicted in prediction.items():\n",
    "    false_positive_rate, true_positive_rate, thresholds = roc_curve(y_test.map(formatt), vfunc(predicted))\n",
    "    roc_auc = auc(false_positive_rate, true_positive_rate)\n",
    "    plt.plot(false_positive_rate, true_positive_rate, colors[cmp], label='%s: AUC %0.2f'% (model,roc_auc))\n",
    "    cmp += 1\n",
    "\n",
    "plt.title('Classifiers comparaison with ROC')\n",
    "plt.legend(loc='lower right')\n",
    "plt.plot([0,1],[0,1],'r--')\n",
    "plt.xlim([-0.1,1.2])\n",
    "plt.ylim([-0.1,1.2])\n",
    "plt.ylabel('True Positive Rate')\n",
    "plt.xlabel('False Positive Rate')\n",
    "plt.show()"
   ]
  },
  {
   "cell_type": "code",
   "execution_count": 23,
   "metadata": {},
   "outputs": [
    {
     "name": "stdout",
     "output_type": "stream",
     "text": [
      "              precision    recall  f1-score   support\n",
      "\n",
      "         yes       0.83      0.07      0.13        71\n",
      "          no       0.66      0.99      0.80       131\n",
      "\n",
      "   micro avg       0.67      0.67      0.67       202\n",
      "   macro avg       0.75      0.53      0.46       202\n",
      "weighted avg       0.72      0.67      0.56       202\n",
      "\n"
     ]
    }
   ],
   "source": [
    "print(metrics.classification_report(y_test, prediction['Multinomial'], target_names = [\"yes\", \"no\"]))"
   ]
  },
  {
   "cell_type": "code",
   "execution_count": 24,
   "metadata": {},
   "outputs": [
    {
     "data": {
      "image/png": "[encoded data removed]",
      "text/plain": [
       "<Figure size 432x288 with 2 Axes>"
      ]
     },
     "metadata": {
      "needs_background": "light"
     },
     "output_type": "display_data"
    },
    {
     "data": {
      "image/png": "[encoded data removed]",
      "text/plain": [
       "<Figure size 432x288 with 2 Axes>"
      ]
     },
     "metadata": {
      "needs_background": "light"
     },
     "output_type": "display_data"
    }
   ],
   "source": [
    "def plot_confusion_matrix(cm, title='Confusion matrix', cmap=plt.cm.Blues):\n",
    "    plt.imshow(cm, interpolation='nearest', cmap=cmap)\n",
    "    plt.title(title)\n",
    "    plt.colorbar()\n",
    "    tick_marks = np.arange(len(set(class_label)))\n",
    "    plt.xticks(tick_marks, set(class_label), rotation=45)\n",
    "    plt.yticks(tick_marks, set(class_label))\n",
    "    plt.tight_layout()\n",
    "    plt.ylabel('True label')\n",
    "    plt.xlabel('Predicted label')\n",
    "    \n",
    "# Compute confusion matrix\n",
    "cm = confusion_matrix(y_test, prediction['Logistic'])\n",
    "np.set_printoptions(precision=2)\n",
    "plt.figure()\n",
    "plot_confusion_matrix(cm)    \n",
    "\n",
    "cm_normalized = cm.astype('float') / cm.sum(axis=1)[:, np.newaxis]\n",
    "plt.figure()\n",
    "plot_confusion_matrix(cm_normalized, title='Normalized confusion matrix')\n",
    "\n",
    "plt.show()"
   ]
  },
  {
   "cell_type": "code",
   "execution_count": null,
   "metadata": {},
   "outputs": [],
   "source": []
  }
 ],
 "metadata": {
  "kernelspec": {
   "display_name": "Python 3",
   "language": "python",
   "name": "python3"
  },
  "language_info": {
   "codemirror_mode": {
    "name": "ipython",
    "version": 3
   },
   "file_extension": ".py",
   "mimetype": "text/x-python",
   "name": "python",
   "nbconvert_exporter": "python",
   "pygments_lexer": "ipython3",
   "version": "3.6.7"
  }
 },
 "nbformat": 4,
 "nbformat_minor": 2
}
