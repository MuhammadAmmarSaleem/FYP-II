{
 "cells": [
  {
   "cell_type": "code",
   "execution_count": 1,
   "metadata": {},
   "outputs": [],
   "source": [
    "import pandas as pd\n",
    "import numpy as np\n",
    "import nltk\n",
    "\n",
    "\n"
   ]
  },
  {
   "cell_type": "code",
   "execution_count": 2,
   "metadata": {},
   "outputs": [
    {
     "name": "stdout",
     "output_type": "stream",
     "text": [
      "     class                                               text\n0       no  i'll  buy  the  iphone   x  if it can  get  ac...\n1       no  Some dude in FB selling the  iPhone   X  64 gb...\n2      yes  Home dab emote man today and I  get  hopped on...\n3      yes                               Buy  an  iPhone   X \n4       no  I hate iOS 11. My  iPhone  6+ works 10X slower...\n7       no  Bo-go sale tomorrow at T-Mobile  buy  one  get...\n8      yes  I can  get  the  iPhone   X  here.... If I'm w...\n9      yes  When you  buy  an  Iphone   X  with Unlimited ...\n10     yes  @ Mrwhosetheboss  i really  wish  i  get  to m...\n11      no  @ sprint  @sprintcare  if I switch to @TMobile...\n12      no  Oneplus 5t has faster face recognition than  i...\n13      no  Don't  buy  an  iPhone   X  if you're ugly. I ...\n14      no  Could  buy  2x 5T with the price I paid for th...\n15     yes  My friend shopping:  iPhone   X  is not that e...\n16     yes  What if there was upgrade to an  iPhone  8 or ...\n19      no  I don't  get  it is it basically impossible to...\n20     yes  The  iPhone   X  is a pleasure to use. Far mor...\n22      no  I wanted the  IPhone   X  but now that most pl...\n23     yes  I  love  these holiday gift guides that assume...\n24     yes  VIP  NEED   BUY  AN  IPHONE   X   https:// twi...\n27      no  Anyone else experiencing an  iPhone  glitch wh...\n29     yes  Need  to just  buy  that  iPhone   X  so I can...\n30     yes  Apple just send me an email with Christmas gif...\n32     yes                               Buy  an  iPhone   X \n33     yes                              Love  the Design.... \n34      no  u can  buy  yourself an  iPhone   X  but can n...\n35     yes  I  love  my Note 8 its been an  awesome  phone...\n36      no                             Not this what i want  \n37      no  In crazy  love  with this video!!! Don't  Buy ...\n39     yes                 So in  love   w  the  iPhone   x .\n...    ...                                                ...\n1296    no  Im an Apple fanboy and I never thought I would...\n1297    no  So the  iPhone   X  is not  like  the letter i...\n1299   yes                  I'm gonna  buy  the  iPhone   X .\n1300   yes                     iPhone   X  brightness is good\n1303   yes  Got notified this morning my card was charged ...\n1306   yes  Had some hands-on time with a friend’s  iPhone...\n1307   yes                 i  need  my  iphone   x  to ship !\n1309    no  fucked up by messing with the  iphone   x  at ...\n1310   yes  The executive summary of this  iPhone   X  Dia...\n1311   yes                          I  need  that  iPhone   X\n1314   yes  Trying to  get  use to my  iPhone   X .  Wish ...\n1316   yes  Went to  get  the  iPhone   X  today but after...\n1317   yes  I just justified the  purchase  of this  iPhon...\n1318    no   I’m not upgrading to shit but that  iPhone   X .\n1319   yes  some kid walked into class with an  iPhone   X...\n1322    no                   I did not  want  an  iPhone   X \n1323   yes           Buy   iphone   x  for me from abroad... \n1328   yes                     Need  the  iPhone   X  asap...\n1331   yes      I  need  the  iPhone   X  just for the camera\n1332    no  So disappointed with my  iPhone   X  it didn’t...\n1334    no  iPhone   X  is such a  bad  investment so  exp...\n1335   yes  My brother can go and  get  him a whole  IPhon...\n1336   yes                       iPhone   X  is sooooo pretty\n1338   yes  Y’all  need  to just go ahead and  get  this  ...\n1342    no  I wanted to say I’m more in  love  with my  iP...\n1344   yes  All I  want  for Christmas Deb Ziegler Benton ...\n1346    no  I don’t  want  the  iPhone   X  until there’s ...\n1348   yes  need  a  iphone   x  so i can take a pic for m...\n1349   yes  I’m still getting used to the  iPhone   X  lay...\n1352   yes  love  this thread but i  need  my  iphone   X ...\n\n[755 rows x 2 columns]\n"
     ]
    }
   ],
   "source": [
    "def Extract (path):\n",
    "    fd= open(path,encoding=\"utf-8\", errors='replace')\n",
    "    df = pd.read_csv(fd)   \n",
    "    defined=df['class'] != (\"undefined\")\n",
    "    # #output dataframe without undeined\n",
    "    df2=df[defined]\n",
    "    defined1=df2['class'] !=\"Undefined\"\n",
    "    df4=df2[defined1]\n",
    "    #replace no PI with no\n",
    "    df3=df4.replace(\"No PI\",\"no\")\n",
    "    #replace PI with yes\n",
    "    final=df3.replace(\"PI\",\"yes\")\n",
    "    \n",
    "    replace_yes=final.replace(\"Yes\",\"yes\")\n",
    "    final_df= replace_yes.replace(\"No\",\"no\")\n",
    "    return final_df, df\n",
    "\n",
    "\n",
    "path='E:/DATA/Sem8/fyp/Training.csv'\n",
    "final_df,df=Extract(path)\n",
    "# print(df['class'].value_counts())\n",
    "print(final_df)"
   ]
  },
  {
   "cell_type": "code",
   "execution_count": 3,
   "metadata": {},
   "outputs": [
    {
     "name": "stdout",
     "output_type": "stream",
     "text": [
      "          class                                               text\n5     undefined  Brilliant @johnlewisretail - added  iPhone   X...\n6     undefined  They doing that on purpose cause mine is to. T...\n17    undefined                                So if I  buy  a  X \n18    undefined  Buy   iPhone   X  and  get  in the same and yo...\n21    undefined  If @Spacekatgal  didn't  get  an  iPhone   X  yet\n25    undefined  I ordered my pixel 2 on Tuesday from Google & ...\n26    undefined  Would it be the same if I  buy  an  iPhone   X...\n28    undefined  I wanna  buy  my mom a new  iPhone  so bad. I ...\n31    undefined  @ AppleSupport   I have received the  iphone  ...\n38    undefined  I  wish  I had a girl that rode for me  like  ...\n41    undefined  You look  like  you stalk the uptown event the...\n42    undefined  What you got  like  4  IPhone   X 's  buy  me ...\n46    undefined  Who  need   iphone   x  I got the direct plug ...\n51    undefined  Pre-registered customers at T World who will  ...\n54    undefined  How the hell to  get  my sugar daddy to  buy  ...\n56    undefined  If you are deciding to  buy  Apple Care + for ...\n59    undefined  I have noticed that when a new  iPhone  comes ...\n60    undefined  UPS is the WORST.  iPhone   X  is taking the P...\n61    undefined  Should I  buy   iPhone  8 Plus or wait a lil b...\n64    undefined  Apple's Animoji might not  need  the  iPhone  ...\n70    undefined  I was getting ready to  buy  the  iPhone   X  ...\n71    undefined       Day 1  w /  iPhone   X  - first impressions:\n73    undefined  God keeps sending me signs to  buy  the  iPhon...\n74    undefined  I added a video to a @YouTube  playlist  http:...\n75    undefined  Whatsup  w  all the question emojis  like  we ...\n76    undefined  Get  your santa  wish  list ready  iphone   x ...\n77    undefined  # WednesdayWisdom  YOU  NEED  TO SEE TGIS VIDE...\n78    undefined  I feel  like  this happens every time a new  i...\n81    undefined  I hate  http:// to.read    negativity towards ...\n85    undefined  If I  get  a buck for every typo I make in a t...\n...         ...                                                ...\n1286  undefined  I  wish  I knew someone who had an  iPhone   X...\n1287  undefined             Maybe  iPhone   X  is  like  a Pokémon\n1295  undefined  I don't regret it at all. Just  wish  I had wa...\n1298  undefined  ROTFLMAO! RT @selfcritics : People : why did y...\n1301  undefined  Dear @ChipotleTweets . Your new app requires m...\n1302  undefined                         you won’t give me your dog\n1304  undefined                How yall  like  yall  iphone   x ??\n1305  undefined                   When you  get  the  iPhone   X ?\n1308  undefined                 See now I'm sitting here  like .. \n1312  undefined  We  want  some stacks  like  this one for  iPh...\n1313  undefined                                  Y’all at @Apple  \n1315  undefined                   Should i  get  the  iphone   x  \n1320  undefined                                               Damn\n1321  undefined  Every time I  get  a new  iPhone  I'm always e...\n1324  undefined  But how does the home indicator work? For  iPh...\n1325  undefined  @ applesupport  my  iPhone   X  was lost by UP...\n1326  undefined            Why  iPhone   X  will  get  MR at WWDC:\n1327  undefined  So my friend has the  iPhone   X  right and i ...\n1329  undefined  tried to go  get  the  iphone   x . apparently...\n1330  undefined  Who told my mom to  get  this  iPhone   X .......\n1333  undefined  Want  a cool wallpaper for your  iPhone   X ? ...\n1337  undefined  Goodbye Verizon and your  expensive  ass payme...\n1339  undefined  So you ( like  most of us) have opted to take ...\n1340  undefined  @ andywaysworld ’s  iPhone   X  makes my 7 Plu...\n1341  undefined  The first  iPhone  came out 10 years ago. 10 y...\n1343  undefined  5 Tips to Help You  Get  the Most Out of Apple...\n1345  undefined                     iPhone   X  Diary: One week in\n1347  undefined  I have to ship my old #iPhone  back since I bo...\n1350  undefined                              If You Have A Brother\n1351  undefined  Because many things on  iPhone   X  depends on...\n\n[441 rows x 2 columns]\n"
     ]
    }
   ],
   "source": [
    "# create series of true and false. False is assigned for yes/no. True is for undefined\n",
    "undefined=df['class'] == \"undefined\" \n",
    "#output dataframe without undeined\n",
    "df_undefine=df[undefined]\n",
    "print(df_undefine)\n",
    "\n"
   ]
  },
  {
   "cell_type": "code",
   "execution_count": 4,
   "metadata": {},
   "outputs": [],
   "source": [
    "def text_concat():\n",
    "    text=\"\"\n",
    "    for x in final_df[\"text\"]:\n",
    "        text=text +str(x)\n",
    "    return text\n",
    "corpus=text_concat()"
   ]
  },
  {
   "cell_type": "code",
   "execution_count": 5,
   "metadata": {},
   "outputs": [],
   "source": [
    "import re\n",
    "from nltk.corpus import stopwords \n",
    "from nltk.tokenize import word_tokenize \n",
    "\n",
    "def read_stopwords(path):\n",
    "    file1 = open(path,\"r\") \n",
    "    stopword = file1.readlines() \n",
    "    file1.close() \n",
    "    li_stopwords = stopword[0].split()\n",
    "    return li_stopwords\n",
    "\n",
    "def removeStopWords(text):\n",
    "    # stop_words = set(stopwords.words('english')) \n",
    "    stop_words = read_stopwords(\"E:/DATA/Sem8/fyp/stopwords.txt\")\n",
    "    word_tokens = word_tokenize(text) \n",
    "    filtered_sentence = [] \n",
    "    for w in word_tokens: \n",
    "        if w not in stop_words: \n",
    "            filtered_sentence.append(w.lower()) \n",
    "    #return list of corpus without stop words in a list.        \n",
    "    return filtered_sentence  \n",
    "\n",
    "def removePunc(eachText):\n",
    "    remove_punc = re.sub(r'[^\\w\\s]','',eachText)\n",
    "    #return corpus with out punctuation.\n",
    "    return remove_punc\n",
    "\n",
    "\n",
    "\n",
    "def clean_data(corpus):\n",
    "    remove_punc=removePunc(corpus)\n",
    "    li_remove_stopWords= removeStopWords(remove_punc)\n",
    "    return li_remove_stopWords\n",
    "\n",
    "li_cleaned_text = clean_data(corpus)\n",
    "# bprint(li_cleaned_text)"
   ]
  },
  {
   "cell_type": "code",
   "execution_count": 8,
   "metadata": {},
   "outputs": [
    {
     "name": "stdout",
     "output_type": "stream",
     "text": [
      "['shows', 'longer', 'maroc_telecom', 'fools', 'xnah', 'phonehate', 'play', 'product', 'started', 'girl', 'comparison', 'supreme', 'kill', 'pake', 'personally', 'thisif', 'mothers', 'gained', 'desired', 'decade', 'til', '34', 'oldim', 'also', 'side', 'shirti', 'ever', 'have', 'january', '10', 'takut', 'afford', 'collapse', 'nathantriska', 'thathad', 'upset', 'this', 'pix', 'amazing', 'hmmmmjust', 'purposely', 'complaint', 'keep', 'rajivmakhni', 'app', 'onei', 'lots', 'refuse', 'methanks', 'psychopath', 'brazil', 'notch', 'missed', 'pictwittercomuhpefph8yni', 'monday', 'update', 'unresponsiveso', 'idea', 'release', 'lmao', 'takes', 'fb', 'overlooked', 'should', 'example', 'speed', 'severity', 'vouchercloud', 'raised', 'eiiapplesupport', 'xscrew', 'played', '13333', 'australiareturned', 'season', 'guys', 'included', 'spoofing', '099', 'ghosting', 'audio', 's3', '1', 'youtubeso', 'slove', 'guy', 'rowi', 'roadto500k', 'volume', 'mom', 'towow', 'stuff', 'airplane', 'curryspcworld', 'youtubeqknddc_ervy', 'review', 'capability', 'brother', 'girls', 'huge', 'flame', 'texts', 'returned', 'wash', 'iphones', 'fail', 'new', 'fantasy', 'twittercomgodsperfection', 'sexy', 'everyone', 'mps', 'closed', '247', 'tuesdayso', 'reject', 'cs', 's8', 'whenever', 'complain', 'otterbox', 'hiring', 'uttar', 'displays', 'yet', 'man', 'chance', 'consumerist', 'adapting', 'twittercomiwebstatus9', 'back', 'shopping', 'horizontal', 'whoever', 'screenyall', 'blue', 'europeapple', 'glitch', 'bell', 'telling', 'owners', 'father', 'public', 'randomly', 'casinothe', 'unresponsive', 'today', 'thankssee', 'long', 'what', 'went', 'saydo', 'instead', 'oled', 'made', 'student', 'won', 'guessing', 'away', 'minutes', 'passwordif', 'anyone', 'may', 'iphonexso', 'markdohner', 'knowget', 'treesi', 'level', 'purchased', 'wedding', 'enchantments', 'qualityspeaker', 'thoughcant', 'hon', 'vulnerable', 'fml', 'tempting', 'happy', 'professor', 'cameraso', 'articles', 'tapi', 'nothing', 'prepared', 'zone', 'asked', 'irritating', 'prob', 'funding', '9yo', 'thats', 'art', 'isnt', 'doubts', 'sure', 'solid', 'differentneed', 'honestly', 'layout', 'price', 'bogo', 'mehn', 'needed', 'daddy', 'nhs', 'local', 'learning', 'hahaha', 'knowing', 'luck', 'ima', 'screenlooking', 'web', 'fast', 'biggest', 'radio', 'around', 'pictwittercom7tzbh5hnj4i', 'stressed', 'infront', 'lolrt', 'productsletterthanks', 'zar', 'bug', 'let', 'pictwittercom71pjcufytyi', 'care', 'came', 'trolls', 'contractoneplus', 'somehow', 'accident', 'swhen', 'genius', 'shall', 'recognize', 'darkwatch', 'and', 'glitches', '400k', 'dualipajust', 'thoughtoday', 'might', 'xr', 'firstworldproblemshate', 'pictwittercomama02k5njci', '256prolly', 'job', 'support', 'representative', 'fantastic', '1300', 'wouldve', 'trees', 'owyoucangetafreeiphone864gbwhenyoubuyaniphonexatatt_id99708', 'degrees', 'colombia', 'jasonnash', 'interested', '1after', 'phones', 'replying', 'au', 'been', 'parent', 'past', 'introduce', 'lucknow', 'millions', 'refine', 'appreciate', 'wednesdaythoughts', 'brotheri', 'proper', 'sprint', '5th', 'love', 'extra', 'iftttea8v8j', 'via', '6sand', '2150', 'dinner', 'aapl', '2x', 'to', 'lmaoo', 'rather', 'itll', 'blazing', 'december', 'how', 'remove', 'us816613182479466496', 'concerns', 'executive', 'tim_cook', 'ticket', 'imma', 'physically', '0macappsapplesclips20putsyouinthemillenniumfalconoramegadestroyerhtml', 'no', 'failgot', '1068026546504548352', 'bud', 'todaybest', 'ends', 'danggg', 'xits', 'flight', 'code', 'heat', 'motherfuckers', 'products', 'theyre', 'rolling', 'rubber', 'wish', 'useless', 'damn', 'plustbh', 'weekend', 'contractlike', 'thenyou', 'cases', 'return', 'animojis', 'foreverrrrrr', 'scammed', '3d', 'prices', 'nothingwant', 'original', 'else', 'asking', 'allwayshey', 'ferrari', 'seconds', 'says', 'ifttt2ynoaib', 'button', 'win', 'told', 'deserve', 'did', 'its', 'panchkula', 'trade', 'upshelp', 'retweet', 'skegness', 'lilyhands', 'control', 'attcaresonly', 'weather', '5k', 'earlier', 'home', 'attempt', '13', 'phonearenacomnewshereish', 'giving', 'youtubeed3r9bzzlge', 'overall', 'everythingdamn', 'drives', 'almost', 'deal', 'dudeupdate', 'screaming', '128gb', 'dislike', '4what', 'slower', 'storesi', 'planning', 'gone', 'is', 'narrower', 'login', '1000my', '2018it', 'inexpensive', 'aldi', 'andddddd', 'early', 'guess', 'post', 'youtubedrveunle5noa', 'qz', 'pro', 'steep', 'refund', 'funi', '5t', '20', 'service', 'lolso', 'bei', 'not', 'dat', 'massively', 'goodness', '7layerskinzcom', 'e8n96wyoq', 'dude', 'tends', 'produce', 'copies', 'school', 'newscan', 'zstatus928770595763957760', 'superior', 'nyc', '72', 'impulse', 'succes', 'quicker', 'gripe', 'pictwittercomkueayojwmnim', '540', 'adulting', 'batches', 'bonkers', 'placed', 'mommy', 'possibly', 'goodthat', 'backimma', 'wallet', 'mfs', 'hours', 'hate', 'changing', 'agree', 'breadyeah', 'everythinghey', 'why', 'apart', 'burnin', 'worth', 'indonesia', 'ridiculous', 'explanation', 'weeki', 'gifts', 'program', '7', 'pricing', 'hoping', 'low', 'brothers', 'v', 'newest', 'november', 'aed', 'trust', 'bnow', 'resolution', 'ads', '10x', 'themiphone', 'either', 'devicetrying', 's928670046565515264', 'higher', '100', 'annoy', 'throw', 'free', 'outtta', 'especially', 'igpus', 'landscape', 'percentage', 'added', 'wellthe', 'itwas', 'idiot', 'hadnt', 'recevoir', 'tht', 'boringembracing', 'class', 'best', 'pixel3', 'spoil', 'whatsapp', 'offer', 'experienced', 'find', 'color', 'existedmy', 'full', 'whilst', 'switchingiphone', 'such', 'alsoi', 'sooooooo', 'bruv', 'bday', 'itcouldnt', 'ratu', '90k', 'generally', 'buttt', 'planned', 'ipad', 's1068249266026614784', 'canceled', '8talking', 'forget', 'tired', 'technologies', 'buzzing', 'later', 'replacement', 'dimensions', 'xbox', 'know', 'casey', 'brightness', 'izen', 'tbh', 'cultcast', 'notified', 'lame', 'youtubegy2t9uwuhmwa', 'twittercomyongiemystics', 'sidesliterally', 'johnlegerei', 'lens', 'storewish', 'letter', '395', '15', 'sadly', 'reviewsso', 'much', 'paper', 'plzi', 'face', 'gold', 'ok', 'pictwittercomvx6c3h7xdh', 'ad', 'gift', 'spinning', 'clips', 'forgotten', 'isumm', 'ux', 'size', 'got', 'runs', 'tech', 'house', 'expensivegoing', 'uglyretard', '50', 'expensiveiphone', 'exited', 'thrown', 'xi', 'groceriesthe', 'poop', 'unless', 'stop', 'crazy', 'parody', 'pleasei', 'future', 'diamonds', 'beli', 'considering', 'laugh', 'ti', 'us', 'small', 'somethingall', 'mate', 'musically', 'stoopid', 'temptation', 'firstdo', 'bottom', 'try', 'doctor', 'issues', 'putting', 'enabler', 'wallpaper', 'years', 'wrong', 'bad', 'users', 'pictwittercomj5zkczudnilmao', 'finish', 'backgrounds', 'sams', 'homeless', 'yeah', 'faster', '2000', 'reviewi', 'see', 'important', 'green', 'discount', 'u', 'liked', 'folk', 'twitter', 'authorised', 'piece', 'dad', 'week', 'isgod', 'device', 'madeim', 'lock', 'followers', 'morning', 'thanksi', 'expected', 'grown', 'different', '280cdont', 'toldme', 'print', '4th', 'wanted', 'graysondolan', 'second', 'iphone7', 'pictwittercomckyos4jwuti', 'twittercomolajvdestatus', 'unlockedtryna', 'lmaoim', 'htlyjzup50fbcgr', 'an', 'or', 'max4200', 'youll', 'stupid', 'sim', 'help', 'attention', 'who', 'phoneits', 'casa', 'thingbuy', 'per', 'youtubeit', 'resort', 'everything', 'cheapest', 'iphoneo', 'r', 'elsewhere', 'pricetag', 'screenshots', 'official', 'controversial', 'primary', 'delivery', 'convinced', 'tell', 'bought', 'complaining', 'llamaid', 'hai', 'my', 'estimates', 'throws', 'p', 'emote', 'oneplus', 'premium', 'cali', 'buying', 'staff', 'pointthank', '26', 'travel', 'googlyafuzy', 'smaller', 'took', 'clappedlooks', '200', 'futurei', '300', 'really', 'patronize', 'firstmrwhosetheboss', 'thr', 'piezoelectric', 'okay', 'rotate', 'notchbad', 'oh', 'logan', 'apparently', 'economical', 'are', 'appreciated', 'churros', 'big', 'college', 'cute', 'oooo', 'pictwittercomvupeg5nezxam', 'surfaces', 'realise', '129', 'ship', 'investment', 'apple', 'reservations', 'grow', 'bet', 'status930437339305971712', 'cancel', 'thoughiphone', 'freak', 'bootleg', 'impatienti', 'tus926660732162154496', 'outi', 'apartment', 'rest', 'selling', 'xim', 'however', 'shared', 'pixel', 'haha', 'thxyeah', 'currently', 'ididnt', 'terrible', 'vid', 'start', 'dealers', 'offangle', 'peoples', 'c4etechtamil', 'tesco', 'perfect', 'heard', 'pvp', 'allowed', 'others', 'means', 'plzthe', 'freehold', '400', 'breaks', 'patiently', '256', 'gestures', 'hahahait', 'networks', '4omg', 'festive', 'playing', 'zoellas', 'ownershipits', 'scroll', 'sign', '950', 'terms', 'satisfaction', 'dec', 'people', '105', 'overpriced', 'input', '1100', 'iphonex', 'weeks', 'stay', 'onlyinafrica', 'repeatedly', 'ciaravinoecon', 'mistake', 'spending', 'knows', 'million', 'eyes', 'kids', 'inch', 'eitherwent', 'xpraying', 'understand', 'pissed', 'preorder', 'pushing', 'wonderful', 'bank', 'la', 'smh', 'ride', 'headquarters', 'rn', 'alreadyyyyyyyyyyyyy', 'word', 'ft', 'prettyyall', 'ughhhgonna', 'otps', 'moneythis', 'smhi', 'servicebeen', 'xokay', 'length', '100200', 'tabs', 'hello', 'thatalso', 'causing', 'remember', 'meiphone', 'mobile', 'temporarily', 'opportunity', 'badpengen', 'shouldnt', 'lovely', 'urgent', 'san', 'trading', 'knowi', 'garyvee', 'tiny', 'high', 'commercial', '2', 'slow', 'debating', 'knew', 'springs', 'updated', 'note', 'flagships', 'language', 'seun', 'th', 'most', 'checked', 'creating', 'current', 'dab', 'hey', 'gamblewish', 'wow', 'lady', 'dropped', 'hype', 'gotten', 'promises', 'themi', 'yeri', 'found', 'versionpoor', 'photo', 'said', 'invoke', 'yall', 'improvementscrazy', 'cuz', 'bitly2i79hpw', 'son', 'true', 'christmas', 'friends', 'cards', 'heart', 'horrificim', 'colour', 'itshit', 'pernah', 'benefiti', 'headphones', 'still', 'likely', 'grounded', 'suggested', 'even', 'calendar', 'gets', 'open', 'glitching', 'friday', 'wowmy', 'without', 'desperately', '1k', '14', 'paid', 'mates', 'tradein', 'owned', 'thoughlove', 'sexiest', 'marketing', 'mixed', 'accuracy', 'xyou', 'talli', 'someones', 'manage', 'yr', 'seriouslydebt', 'methis', 'things', 'customerafrican', 'starting', 'y3', 'assume', 'note8', 'nigga', 'august', 'bugs', 'two', 'reader', 'bedroom', 'rock', 'prank', 'anaseini', 'list', 'popular', 'pradesh', 'uncarrier', '769', 'sold', 'thousand', 'goddd', 'number', '1i', 'scratch', 'laterif', 'johnlegere', 'leavinglike', 'rejoin', 'already', 'fansite', 'mashable', 'prize', 'listened', 'itnow', 'rack', 'models', 'vagaries', 'w', 'activated', 'course', 'beat', 'picking', 'work', 'insteadwish', 'although', 'googlb3xnbe', 'gadget', 'lord', 'badoh', '99cents', 'key', 'twittercombusinessinside', 'machinery', 'youtube0vzgklj9mpqa', 'months', 'temps', 'dayi', 'freezes', 'technology', 'hmm', 'exist', '6yall', 'pictwittercom0w6rdfvpfmstupidity', 'uses', 'living', 'motivation', 'counterpartsi', 'change', 'aus', 'tree', 'enter', 'ee', 'fan', 'pubg', 'outso', 'watching', 'box', 'sync', 'gb', 'commercials', 'die', 'bullshit', 'anddddd', 'regardless', '78', 'fourth', 'grandpa', 'main', 'go', 'strong', 'friend', 'version', 'choice', '8before', 'programme', 'experiencing', 'promotion', 'theres', 'gear', 'major', 'owner', '12th', '250', 'heap', 'verizons', 'mute', 'nowhen', 'excuse', 'phonei', 'wi', 'ask', '6s', 'rep', 'gun', 'swore', 'end', 'seen', 'wig', 'backnot', 'nowsomething', 'deciding', 'trying', 'max', 'fest', 'idk', 'presenting', '152', 'plusim', 'thisat', 'animojilife', 'slash', 'wouldnt', 'iphanboys', 'twittercomnadeshotstatu', 'wont', 'cop', 'online', 'eh', 'expensivei', 'trynna', 'nice', 'fasthey', 'reviews', 'usual', 'chez', 'bens', 'taking', 'hansoni', 'xhave', 'compete', 'a', 'personal', '2017', 'paying', 'camerai', '1500', 'tculpan', '1724', 'tmobile', 'annoyed', 'auntvip', 'wtfreally', 'purpose', 'priced', 'believe', 'whether', 'rt', 'done', 'seemed', 'outits', 'itmy', 'fresh', 'in', 'video', 'contact', 'businessbest', 'car', 'where', '7plus', 'pleasewish', 'indiawas', 'ministers', 'bitchthe', 'hypnotized', 'iphonexlololol', 'kidney', 'walked', 'sir', 'taken', 'mon', '9934000507', 'entire', 'february', 'decision', 'held', 'olds', 'lovers', 'macworldcomarticle323667', 'twittercomtia_ewingstat', 'wtfi', 'pressing', 'fecesi', 'arrive', 'protect', '30mbit', 'snap', 'pushed', 'modeli', 'firstif', 'warranty', 'alsougghhh', 'always', 'pulling', 'itwish', 'fingerprint', '49', 'ought', 'tutorials', 'siracusa', 'lolmy', 'send', 'scheme', 'half', 'thotoday', 'tried', 'augmented', 'adopted', 'of', 'pls', 'ready', 'single', 'dumpty', 'didnt', 'starsi', 'austinmann', 'waiting', 'they', 'goes', 'israel', 'recommend', 'goodgot', 'works', 'henrywood2142', 'saved', 'include', 'glasses', 'radios', 'luckman', 'payment', 'eitherios', 'speaker', 'flipitgwznhh', 'ex', 'payments', 'whatever', 'wakakakakasince', 'knowwww', 'orderhow', 'hell', 'spare', 'ohh', 'orders', 'success', 'great', 'sick', 'funny', '5', 'pici', 'item', 'once', 'verizon', 'talked', '4k', 'infoi', 'fun', 'customer', 'choose', 'efkj8m0aemiim4jh0x3cgyiq3d3dutm_sourcecompetitionutm_mediumreferralutm_campaigncompetition20sharing', 'reduce', 'now', 'mts', 'kidneyno', 'computer', 'mf', 'applehow', 'making', 'verdict', 'ny', 'day', 'freethe', 'behind', '11', '1000', 'easy', 'slightly', 'faulty', 'wasnt', 'paye', 'pictwittercom4lipdpjbufthe', 'display', 'minute', '4gb', 'fullestiphone', '256g', 'collectors', 'eurotrip', 'lol', 'fooling', 'forever', 'iti', 'diary', 'slowing', 'email', 'everybody', 'enough', 'pictwittercomx1bnvnseqzso', 'depth', 'mine', 'a37with', 'searcher', 'become', 'tooth', 'samsungs', 'knocki', 'pocket', 'humpty', 'breaking', 'watchwhy', 'can', 'features', 'lure', 'lose', 'sounds', 'square', 'needs', 'struggling', 'entered', 'pictwittercombbvbifoe8s', 'apps', 'baddo', 'oneawesome', 'repair', 'flop', 'criminal', 'bitch', 'lot', 'but', 'britney', 'dick', 'smarter', 'boy', 'feelyeah', 'look', 'using', 'absolute', 'information', 'generation', 'looked', 'kingseun3', 'x', 'quality', 'thisthat_tha3rd', 'totally', 'sampe', 'cnetco2ds00h2', 'youtube0ercfyjqhn0a', 'pictwittercom3ech4wkrjcomg', 'gadgets', 'screenif', 'icon', 'excited', 'sample', '333', 'forward', 'saadilamdin', 'fixed', 'sorry', 'visit', 'backwhy', 'scituate', 'handsso', 'india', 'check', 'it100', 'cut', 'horrendous', 'hed', 'awesomeme', 'headphone', 'strange', 'pictures', 'sending', 'dollar', 'en', 'hope', '1063', '25', 'life', 'deadass', 'ethandolan', 'applestore', 'buy', 'favor', 'thankswhen', 'benton', 'dinosaur', 'faceid', 'center', 'buggati', 'oneyou', 'att', 'loli', 'co', 'screenshotted', 'yesterday', 'screeni', 'thatyour', 'pelayo', '179', 'all', 'following', 'freeze', 'tf', 'never', 'se', 'xgrayson', 'wif', 'prayersof', 'pictwittercomiayz2yxnzaim', 'selfiescould', 'movie', 'bravo', 'moment', 'get', 'released', 'sort', 'beechloren02', 'gigabit', 'ive', 'hit', 'somebody', 'convincing', 'atus928766636563185664', 'enrollee', 'cold', 'students', 'nigeriathe', '133x', 'horrible', 'turned', 'stuck', 'older', 'received', 'absolutely', 'needless', 'controlbesides', 'news', 'itmight', 'hardest', 'another', 'buyer', 'sux', 'ituprgrading', 'upsomeone', 'offered', 'giveaway', 'line', 'greatkid', 'cabinet', 'outyesterday', '6', 'gvwyioemu3ld0', 'cameras', 'sucks', 'plusi', 'ibooks', 'xshould', 'if', 'ups', 'card', 'ui', 'watch', 'xsomeone', 'flagshipsbullshit', 'adjust', 'tracking', 'bugged', 'bullshittin', 'loliphone', 'ridiculously', 'iphone8', 'spend', 'upgrading', 'dlvritqsrghp', 'nominate', 'laptopyou', 'ityall', 'bc', 'insanely', 'room', 'videos', 'useseriously', 'playlist', 'adapteri', 'vouchercloudcomdid1988896r', 'recognizing', 'everyday', 'evr', 'hypercritical', 'places', 'costs', 'significant', 'announcement', 'camerahow', 'mess', 'lucky', 'thugnology', 'pulled', 'experiencei', 'atus928349765582118912', '30th', 'table', 'live', 'ifttt2hnqh9i', 'loginedge', 'prove', 'tap', 'mad', 'brag', 'pictwittercomz5kosv72yemy', 'tire', 'xthose', 'tm', 'shotoniphone', '2018', 'youtubesqldxppmsea', 'shipping', 'drop', 'specs', 'ear', 'month', 'uk', 'unlocked', 'meet', 'iphonexmy', 'meonly', 'badthat', 'add', 'begged', 'ucnews_india', 'decided', 'originally', 'ab', 'fund', 'cinematic', 'trouble', 'jumia', '545', 'nerdwomanisme', 'meal', '2nd', 'rts', 'spensive', 'htc', 'europe', 'reopenyo', 'handing', 'he', 'thati', 'explains', 'youtubee6rmnflofe8a', '28771583723823104', 'funds', '8s', 'cursewhen', '1sad', 'requires', 'able', 'kinda', 'brokehsbc', 'shitif', 's9', 'wanti', '060i', 'ohyoure', 'supposed', 'guides', 'cheap', 'tablets', 'instagramcompbbxanptje3i', 'muchkinda', 'tax', 'break', 'sasautoscomlink43316119', 'multiple', 'want', 'carmy', 'till', 'shoes', 'far', 'nov', 'preferred', 'difference', 'cant', 'ones', 'only', 'seriously', 'used', 'bitly2z2qjv5', 'nokia', 'pleasure', 'model', 'thank', 'omo', '24', '4mbit', 'thoughif', 'materialmy', 'soon', '150', 'itapple', 'ah', 'n', 'thinking', 'episode', 'idthinkin', 'pictwittercomzhgomp7sr3iphone', 'xs', 'oversaturated', 'suggestions', '240', 'maxes', 'think', 'hellllla', 'thankshad', 'memories', 'nonissue', '193', 'better', 'with', 'reasonable', 'fanboy', 'youtube', 'competitors', 'misses', 'loss', '64gbawesome', 'pic', 'airtel', 'youtubeou89o_ppubya', 'buttonmy', 'badthe', 'for', 'uc', 'brokeok', 'ordering', 'seems', 'customers', 'homescreen', 'right', 'upsetting', 'ta', 'lags', 'felt', 'finding', 'uglier', 'bout', 'too', 'youboss', 'jokes', 'join', 'chat', 'spent', 'cost', 'onboard', 'base', 'pictwittercom9maes4iod2i', 'saliva', '245', 'shrek', 'arent', 'actuallybuy', 'experience', 'oldest', 'coming', '4sapple', 'screw', 'swapped', 'pc', 'appledo', 'twittercommanxomemiasta', 'kdbut', 'sundar', 'signed', 'seem', 'justified', 'twittercomtmobilestatus', 'activate', 'sony', '3t', 'boring', 'adult', 'large', 'expensive', 'game', 'i', 'ending', 'ahead', 'singularity', 'officialimicca', 'finally', 'pictwittercomjixvit1k0swhy', 'honest', 'instagram', 'nofilter', 'super', 'fancy', 'odd', 'upfront', 'haptics', 'installed', 'that', 'upgrade', 'facialrecognition', 'vs', 'use', 'blocked', 'disappointed', 'aint', 'mean', 'galaxy', 'old', 'deals', 'barely', 'tv', 'rating', 'battery', 'batch', 'killing', 'ya', 'dies', 'whateva', 'finna', 'instai', 'carriers', 'steven', 'year', 'xmasi', 'thing', 'matter', 'latest', 'filters', 'ughhhits', 'feature', 'leastthats', '10yearolds', 'ihnatko', 'applenewsa5quuwcqrbun9', 'reported', 'mask', 'assistance', 'strongly', 'shoved', 'skincare', 'reviewspathetic', 'story', 'velocity', 'decent', '910', 'nicei', 'freezewe', 'tomorrow', 'guilty', 'delivered', 'going', 'banksy', 'calls', 'op', 'retort', 'expensivewhy', 'shit', 'prereleasethe', 'og', 'chose', 'enjoy', 'designed', 'waste', 'insane', 'transit', 'fuck', 'your', 'link', 'lollol', '23', 'erfon', 'instagramcompbbsvyonfboy', 'stunning', 'acting', 'samsung', 'tho', 'sooooo', 'paintings', 'questionable', 'avatars', 'sugar', 'hands', 'makeup', 'pictwittercom3ech4wkrjcneed', 'wonbuy', 'choiceiphone', 'anymore', 'touch', 'glad', 'xthe', 'hard', '926235033358155777', 'sale', 'ps', 'reach', 'badwhy', 'sad', 'whos', 'trick', 'experiences', 'realized', 'third', '246', 'emoji', 'pto', 'exploit', 'skip', 'probably', 'owni', 'option', 'akhirnya', 'paychecks', 'taxation', 'couldnt', 'may3', 'hearing', 'wide', 'httpswww', 'amp', 'looks', 'itid', 'freelove', 'biggeri', 'relationship', 'wait', 'morganfor', 'af', 'stories', 'devicei', 'rid', 'daughters', 'recognition', 'planet', 'theyd', '4', 'sales', '256gb', 'thinks', 'bro', 'interestedi', 'annoying', 'whats', 'planthe', 'macbook', 'consistently', 'noticed', 'could', 'lulu', 'roundmy', 'onlyme', 'https', 'salesomeone', 'maybe', 'grand', 'at', 'badwe', 'bf', 'ugly', 'confused', '7its', 'feelslooks', 'limit', 'loren', 'woman', 'snapchat', 'click', 'nowi', 'moneyi', 'someone', 'text', 'usually', 'linkedinim', 'o2', 'content', 'havini', 'switching', 'nicely', 'pm', 'wendy', 'twittercommaroc_telecom', 'dumbass', 'awesome', 'constantlydaily', 'consideration', 'reselling', '1st', 'iphonexrapple', 'storeim', 'follower', '38000', '276', 'photos', 'xmakes', 'thingi', '12', 'commuter', 'xiphone', 'youre', 'helps', 'justice', 'asapi', 'david', 'tbhwe', 'thread', 'come', 'set', 'reserve', 'jack', 'tiffany', 'portrait', '370', 'screen', 'suck', 'mac', 'their', 'impossible', 'as', 'tbhi', 'picture', 'clothes', 'next', 'we', 'noticeablely', 'decide', 'struggle', 'has', 'ios11', 'googlfbfu76pf', 'nothingpraying', 'hadi', 'tim', '350', 'bigbrother', 'reportssome', 'amount', 'save', 'missing', 'prontomore', 'ditching', 'thought', '16', '6t', 'carry', 'flawless', 'fall', '10gb', 'messing', 'monopoly', 'any', 'smashing', 'availability', 'lightning', 'receive', 'wtf', 'gaming', 'cause', 'reallyi', 'fucking', '1500when', '17', 'reali', 'lcd', 'maxhello', 'noticeable', 'combining', 'meant', 'harps', 'flagship', 'roast', 'nose', 'willing', 'youtube9ca8zwjolfq', 'zoella', 'real', 'club', 'werent', 'beautiful', '10im', 'basically', 'unlocks', '10yearold', '8need', 'reareal_t3vin11', 'chargetecno', 'shitty', 'hear', 'definitely', 'problems', 'prolly', 'grandma', 'de', 'toronto', 'wan', 'deb', 'xtrying', 'apples', 'no1', '64gb', 'advisee', 'steve', 'xapple', 'ppl', 'lexysavvides', 'anything', 'pictwittercomgw5lvdvsdcso', 'black', 'waitfew', 'mbad', 'dying', 'wasso', 'make', 'compelling', 'purchase', 'say', 'netflix', 'gon', 'gave', 'gunna', 'feign', 'sooo', 'georgia', 'edition', 'reason', 'wake', 'polished', 'harder', 'total', 'kind', 'phoneim', 'snaps', 'ulta', 'advicing', 'comes', 'cousin', 'sena', 'one', 'im', 'realisticallythe', 'envirofone', 'sophia', 'obviously', 'durability', 'ill', 'unlock', 'custom', 'were', 'so', 'davidinglestvsaw', 'pictwittercome68xxa0qay', 'onecan', 'ucstarfest', 'employer', 'xd', 'holla', '3t5g9ysc1sc1l1ppy4291063', 'seeing', 'silly', '2so', 'youtubenpt5tsd0bbi', 'starbucks', 'unclaimed', 'literally', 'dufresh4', 'jailbreak', 'biased', 'need', 'asap', 'buttons', 'build', 'floor', 'youyes', 'http', 'country', 'jealous', 'usesnope', 'wants', 'some', 'method', 'xwait', 'piasa', 'cast', 'twittercomafuaasamstatu', 'holding', 'sister', 'notice', 'phone', 'charging', 'euro', 'sprintcare', 'ssame', 'clearly', 'brand', 'nervous', 'pics', 'baseveryone', 'ios1111', 'twittercomtyonna_mossst', 'davidinglestviphone', 'iphoneunboxing', 'reallyyyyy', 'b', 'joeygraceffa', 'you', 'fucked', 'google', 'xstand', 'mother', 'store', 'helptested', 'rated', 'summary', 'lowkey', 'charger', 'bestfirst', 'enjoyable', 'polaroidyour', 'phoneiphone', 'though', 'america', 'sitting', 'pay', 'wonder', 'well', 'here', 'omg', 'crap', 'was', 'issue', 'android', 'iphonei', 'lolwhat', 'advent', 'innovation', 'guessthis', 'websiteiphone', 'confident', 'prefer', 'mrwhosetheboss', 'stack', 'freewould', 'mum', 'prepaid', 'uki', 'technologymy', 'spoiled', 'replacinglove', 'wired', 'mindset', 'justify', 'ios', 'cyber', 'makes', 'jolove', 'buyi', 'please', 'howto', 'would', 'sides', 'something', 'lte', 'naira', '8plus', 'ordered', 'design', 'cook', 'brings', 'thanks', 'ass', 'cited', 'lightingi', 'rlly', 'wayvery', 'will', 'bcs', 'pluswhen', 'moron', 'background', 'site', 'mall', '3rd', '75', 'hi', 'conversation', 'holiday', 'outright', 'had', 'abroad', 'comfort', 'twittercomdsharp_runsst', 'blow', 'drunk', 'shambig', 'looking', 'least', 'sorryhate', 'resist', 'thingim', '256gbiphone', 'ittim', 'copy', 'spoken', 'stock', 'handson', 'time', 'loyal', 'system', 'groceries', '1200', 'saw', 'christmasi', 'fell', 'someday', 'youtube7ogyolyko6aa', 'vem', 'everythingmultiple', 'enjoying', 'presents', 'dey', 'alreadylooks', 'show', 'deliver', 'regular', 'xpensive', 'perfectly', 'blew', 'world', 'iphonesngl', 'match', 'data', 'morons', 'from', 'twelve', 'airpods', 'redesign', 'sound', 'contract', 'pictwittercom8odmkuxsrkto', 'spendbeen', 'shipment', 'outside', 'dilemma', 'iam_erica', 'bring', 'games', 'urge', 'loans', 'xlove', 'late', 'pictwittercomrefhi3gc8vthey', 'written', 'cheaper', 'soooo', 'pays', 'accessible', 'ago', 'ground', 'jumbling', 'cracked', '82', 'actually', 'subtle', 'space', 'alright', 'joy', 'when', 'doi', 'tall', 'accurate', 'problem', 'applepay', 'pray', 'ziegler', 'photographers', 'launch', 'it', 'insurance', 'simply', 'read', 'niis', 'tatus930831560189898754', 'account', 'couple', 'buyingi', '10the', 'alreadywtf', 'freezing', 'suffered', 'star', 'foodforthoughtneed', 'a130pm', 'alreadywhen', 'spider', 'ecosystem', 'doesnt', 'test', 'don', 'along', 'saying', 'proi', '999', 'alreadyi', 'exception', 'loved', 'access', 'recommended', 'swear', 'ruins', 'bit', 'good', 'talk', 'mins', 'fix', 'dream', 'shitgotta', 'every', 'intial', 'edge', 'itiphone', 'top', 'like', 'unlimited', 'port', 'kid', 'ngl', 'sleeker', 'poor', 'little', 'estimated', 'about', '1password', 'screwed', 'applesupport', 'give', 'everythingget', 'false', 'blurred', 'llama', 'extremely', '4kgot', 'recover', 'concludes', 'manager', 'music', 'colors', 'themkindly', '79', 'call', 'bucks', 'busting', 'alreadywhys', 'due', 'xwhy', 'hshshsh', 'gesture', 'smashed', 'highly', 'type', 'shifting', 'dollarsbutttt', 'more', 'take', 'drawls', 'shop', 'booked', 'working', 'keyboard', 'coldmy', 'turn', 'id', 'itwhen', 'nowthat', 'congrats', 'tough', 'lost', 'hardly', '1when', 'elements', 'bigger', 'depressed', 'many', 'utterly', 'unhappy', 'camera', 'promised', 'charged', 'cognitivedissonancereturning', '64', 'buddy', 'francisco', 'dickhead', 'normal', 'dumb', 'talking', '3we', 'front', 'iphone', 'xto', 'canada', 'white', 'times', '8', 'wordi', 'opinion', 'forcing', 'money', 'night', 'radial', 'tempted', 'conspiracy', 'days', 'trap', 'worked', 'owe', 'nor', 'hecho', 'tmobiles', 'target', 'hopped', 'digits', 'just', 'getting', 'favourite', 'havent', 'fine', 'vertical', 'cooper', 'anybody', 'shiti', 'scare', '1010', 'advantage', 'three', 'displayor', 'winner', 'hahaneed', 'lmk', 'reality', 'sell', 'losers', 'forfinally', 'smallcant', 'mkbhd', 'yea', 'cave', 'feel', 'moms', 'ashleybeauty43', 'inuse', 'isthe', 'releasealhamdulillah', 'rich', 'plusevery', 'plus', 'pictwittercomh6anld8kpy', 'sheep', 'belom', 'fbme1jd4s5mfc', 'na', 'monthas', 'camp', 'realize', 'samsungmobile', 'whereismyhomebutton', 'sugardaddy', 'sells', 'reviewshow', 'specifically', 'dadused', '1000000', 'less', 'including', 'bestyup', 'iosblack', '3', 'pictwittercome7nqh9sdq2can', 'tonight', 'flip', 'difficdoes', 'patient', 'incredible', 'daybreakasia', 'jesus', 'youtubecmiz1lcq5fka', 'riverdalei', 'xit', '109', 'wack', 'xnice', 'range', 'pretty', 'daymaybe', 'fckn', 'compliments', 'developers', 'shouldbuy', 'downgrade', 'srorythe', 'deck', 'easier', 'way', 'animoji', 'newer', 'stores', 'xthats', 'last', 'emojis', 'onto', 'pictwittercomrueekshlb6lol', '256gbsince', 'sizehow', 'copied', 'mei', 'dinrcgot', 'nothin', '24k', 'dont', 'fire', 'screens', 'smooth', 'birthday', 'rotates', 'dm', '45', 'pros', 'bulgaria', 'devices', 'legit', 'pick', 'hella', 'soo', 'plan', 'encourage', 'except', 'pictwittercomgu7wn22niai', 'untill', 'africaidk', 'broke', 'waterproofapples', 'creeping', 'person', 'dive', 'oc', 'ownsamsunggalaxy', 'independent', 'telli', 'label', 'improving', 'itim', 'smthnnice', 'available', 'friendsjust', 'dis', 'off', 'order', 'screenshot', 'worst', 'first', 'golden', 'feels', '1rst', 'switch', 'broken', 'tipsi', 'calling', 'seei', 'feeling', 'highest', 'sit', 'ifttt2m9qbda', 'hotel', 'cracklingsound', 'tweaking', 'serious', 'since', 'the', 'tweakin', 'whole', 'put', 'rstatus930155971191681026', 'his', 'hopefully', 'tfi', 'prof', 'quit', 'prepped', 'pricesactually']\n"
     ]
    }
   ],
   "source": [
    "def make_unique_li(li_cleanText):\n",
    "    unique_words_set= set(li_cleanText)\n",
    "    unique_word_li = list(unique_words_set)\n",
    "    return unique_word_li\n",
    "\n",
    "\n",
    "def stemmed(li_cleanText):\n",
    "    count_stemed=0\n",
    "    for word in li_cleanText:\n",
    "        if word[-1]==\"s\":\n",
    "            li_cleanText[count_stemed]=word[:-1]\n",
    "        elif word[-2:]==\"ed\":\n",
    "            li_cleanText[count_stemed]=word[:-2]\n",
    "        elif word[-3:]==\"ing\":\n",
    "            li_cleanText[count_stemed]=word[:-3]\n",
    "        count_stemed+=1  \n",
    "    return li_cleanText   \n",
    "# li_stemmed = stemmed(li_cleaned_text)\n",
    "uniqueWords = make_unique_li(li_cleaned_text)\n",
    "print(uniqueWords)"
   ]
  },
  {
   "cell_type": "code",
   "execution_count": null,
   "metadata": {},
   "outputs": [],
   "source": [
    "# from textblob import TextBlob\n",
    "# # import SentimentIntensityAnalyser\n",
    "# analysis = TextBlob(\"bad\")\n",
    "# print(analysis.sentiment.polarity)\n",
    "# \n",
    "# def TextBlob():\n",
    "#     predit_textBlob_df = pd.DataFrame()\n",
    "#     count_blob = 0\n",
    "#     for text in final_df['text']:\n",
    "#         for word in text.splt():\n",
    "#             \n",
    "#         analysis = TextBlob(text)\n",
    "#         if analysis.sentiment.polarity >0:\n",
    "#            predit_textBlob_df.at\n",
    "#         elif analysis.sentiment.polarity <0:    "
   ]
  },
  {
   "cell_type": "code",
   "execution_count": 16,
   "metadata": {},
   "outputs": [],
   "source": [
    "def DocVector():\n",
    "    data=np.zeros([final_df['class'].count(), len(uniqueWords)])\n",
    "    docVector1=pd.DataFrame(data,columns=uniqueWords)\n",
    "    docVector=docVector1.assign(PurchaseIntention = list(final_df['class']))\n",
    "    # docVector['Purchase Intention'] = final_df['class']\n",
    "    # print(docVector['PurchaseIntention'])\n",
    "    doc_count = 0\n",
    "    for doc in final_df['text']:\n",
    "        words = doc.split()\n",
    "        for word in words:\n",
    "            temp=word.lower()\n",
    "            if temp in docVector.columns:\n",
    "                docVector.at[doc_count, temp] += 1\n",
    "        doc_count += 1\n",
    "        \n",
    "    return docVector\n",
    "\n",
    "\n",
    "docVector = DocVector()  \n"
   ]
  },
  {
   "cell_type": "code",
   "execution_count": 17,
   "metadata": {},
   "outputs": [
    {
     "name": "stdout",
     "output_type": "stream",
     "text": [
      "total PI  481\ntotal non PI  274\n"
     ]
    },
    {
     "name": "stdout",
     "output_type": "stream",
     "text": [
      "Accuracy =  0.8023715415019763\nPrecision =  0.8023715415019763\nRecall =  1.0\nfScore =  0.8903508771929824\n"
     ]
    }
   ],
   "source": [
    "from textblob import TextBlob\n",
    "\n",
    "\n",
    "def text_blob(doc_vector):\n",
    "    for word in uniqueWords:\n",
    "        analysis = TextBlob(word)\n",
    "        polarity = analysis.sentiment.polarity\n",
    "        doc_vector[word] = doc_vector[word].multiply(polarity)\n",
    "    return doc_vector  \n",
    "\n",
    "\n",
    "polarity_docVector = text_blob(docVector) \n",
    "nPI,df_WordGivenNoPi,Prob_PI,Prob_NoPI,numWordsInPI,numWordsInNoPI = TrainModel(polarity_docVector)\n",
    "predict_df, test_data =Predict()\n",
    "TP,FN,TN,FP = ConfusionMatrix()\n",
    "print(\"Accuracy = \",Accuracy())\n",
    "print(\"Precision = \",Precision())\n",
    "print(\"Recall = \",Recall())\n",
    "print(\"fScore = \",fScore())"
   ]
  },
  {
   "cell_type": "code",
   "execution_count": 10,
   "metadata": {},
   "outputs": [
    {
     "name": "stdout",
     "output_type": "stream",
     "text": [
      "total PI  481\ntotal non PI  274\n"
     ]
    },
    {
     "name": "stdout",
     "output_type": "stream",
     "text": [
      "prob pos  0.6370860927152318\nprob_neg  0.3629139072847682\n"
     ]
    }
   ],
   "source": [
    "def WordGivenNoPI(tempNegDocVector):\n",
    "    data=np.zeros([1,len(uniqueWords)])\n",
    "    wordGivenNoPI=pd.DataFrame(data,columns=uniqueWords)\n",
    "    columnSum = tempNegDocVector.sum(axis = 1, skipna = True)\n",
    "    numWordsInNoPI = columnSum.sum()\n",
    "    \n",
    "    for word in uniqueWords:\n",
    "        nk_wordinNoPI = tempNegDocVector[word].sum()\n",
    "        wordGivenNoPI.at[0,word] = (nk_wordinNoPI+1) / (numWordsInNoPI+len(uniqueWords))\n",
    "    return  (wordGivenNoPI , numWordsInNoPI)\n",
    "    \n",
    "    \n",
    "def TrainModel(Train_Vector):\n",
    "    yesCount=Train_Vector[\"PurchaseIntention\"]==\"yes\"\n",
    "    tempPosDocVector = Train_Vector[yesCount]\n",
    "    totalPI = tempPosDocVector[\"PurchaseIntention\"].count()\n",
    "    print(\"total PI \",totalPI)\n",
    "    \n",
    "    noCount=Train_Vector[\"PurchaseIntention\"]==\"no\"\n",
    "    tempNegDocVector = Train_Vector[noCount]\n",
    "    # print(tempNegDocVector[\"PurchaseIntention\"])\n",
    "    totalNonPI = tempNegDocVector[\"PurchaseIntention\"].count()\n",
    "    print(\"total non PI \",totalNonPI)\n",
    "    # print(totalPI+totalNonPI)\n",
    "    # totalNonPI = docVector[\"PurchaseIntention\"].count() - totalPI\n",
    "    total = totalPI+totalNonPI\n",
    "    Prob_PI = totalPI/total\n",
    "    Prob_NoPI = totalNonPI/total\n",
    "    \n",
    "    data=np.zeros([1,len(uniqueWords)])\n",
    "    wordGivenPI=pd.DataFrame(data,columns=uniqueWords)\n",
    "    columnSum = tempPosDocVector.sum(axis = 1, skipna = True)\n",
    "    numWordsInPI = columnSum.sum()\n",
    "    \n",
    "    for word in uniqueWords:\n",
    "        nk_wordinPI = tempPosDocVector[word].sum()\n",
    "        wordGivenPI.at[0,word] = (nk_wordinPI+1) / (numWordsInPI+len(uniqueWords))\n",
    "        \n",
    "    df_wordGivenNoPI , numWordsInNoPI= WordGivenNoPI(tempNegDocVector) \n",
    "    return (wordGivenPI,df_wordGivenNoPI,Prob_PI,Prob_NoPI,numWordsInPI,numWordsInNoPI)\n",
    "   \n",
    "\n",
    "df_WordGivenPI,df_WordGivenNoPi,Prob_PI,Prob_NoPI,numWordsInPI,numWordsInNoPI = TrainModel(docVector)\n",
    "print(\"prob pos \",Prob_PI)\n",
    "print(\"prob_neg \",Prob_NoPI)"
   ]
  },
  {
   "cell_type": "code",
   "execution_count": 11,
   "metadata": {
    "collapsed": true
   },
   "outputs": [],
   "source": [
    "def Predict():\n",
    "    test_path=\"E:/DATA/Sem8/fyp/test data/Testing.csv\"\n",
    "    test_data,test_df=Extract(test_path)\n",
    "    # test_data = test_data.assign(PredictedClass= list(test_data['text']))\n",
    "    # test_data = test_data[['class', 'PredictedClass', 'text']]\n",
    "    # print(test_data[\"text\"].count())\n",
    "    predict_df=pd.DataFrame()\n",
    "    weighPI=Prob_PI\n",
    "    weighNoPI=Prob_NoPI\n",
    "    count_test=0\n",
    "    for sentence in test_data['text']:\n",
    "        # print(count_test)\n",
    "        for word in sentence.lower().split():\n",
    "            if word in uniqueWords:\n",
    "                weighPI = weighPI * df_WordGivenPI.at[0,word]\n",
    "                weighNoPI = weighNoPI * df_WordGivenNoPi.at[0,word]\n",
    "            else:\n",
    "                 weighPI = weighPI * (1/(numWordsInPI+len(uniqueWords)))\n",
    "                 weighNoPI = weighNoPI * (1/(numWordsInNoPI+len(uniqueWords)))\n",
    "        predict_df.at[count_test,'WeightPI'] = weighPI    \n",
    "        if weighPI > weighNoPI:\n",
    "            predict_df.at[count_test,'PredictedClass'] = 'yes'\n",
    "            # print(test_data.at[count_test,'text'],test_data.at[count_test,'PredictedClass'])\n",
    "        else:\n",
    "           predict_df.at[count_test,'PredictedClass'] = 'no'\n",
    "           # print(test_data.at[count_test,'text'],test_data.at[count_test,'PredictedClass'])\n",
    "            \n",
    "        count_test += 1\n",
    "        weighPI = Prob_PI\n",
    "        weighNoPI = Prob_NoPI     \n",
    "    return predict_df, test_data  \n",
    "    \n",
    "    \n",
    "    # print(\"PI weight {0} No PI weight{1}\".format(weighPI,weighNoPI))        \n",
    "\n",
    "\n",
    "predict_df, test_data = Predict()        \n",
    "\n"
   ]
  },
  {
   "cell_type": "code",
   "execution_count": 12,
   "metadata": {
    "collapsed": true
   },
   "outputs": [
    {
     "name": "stdout",
     "output_type": "stream",
     "text": [
      "TP 176 , FN 27, TN 23, FP 27\n"
     ]
    }
   ],
   "source": [
    "def ConfusionMatrix():\n",
    "    TP=0\n",
    "    TN=0\n",
    "    FP=0\n",
    "    FN=0\n",
    "    for i in range(test_data['class'].count()):\n",
    "        # print(test_data.iloc[i]['class'],\" \",predict_df.iloc[i]['PredictedClass'] )\n",
    "        if test_data.iloc[i]['class'] == \"yes\" and predict_df.iloc[i]['PredictedClass'] == \"yes\":\n",
    "            TP += 1\n",
    "        elif test_data.iloc[i]['class'] == \"yes\" and predict_df.iloc[i]['PredictedClass']==\"no\":\n",
    "            FN += 1\n",
    "        elif test_data.iloc[i]['class'] == \"no\" and predict_df.iloc[i]['PredictedClass']==\"no\":\n",
    "            TN += 1\n",
    "        elif test_data.iloc[i]['class'] == \"no\" and predict_df.iloc[i]['PredictedClass'] == \"yes\":\n",
    "            FP += 1    \n",
    "    return (TP,FN,TN,FP) \n",
    " \n",
    " \n",
    "TP,FN,TN,FP = ConfusionMatrix()\n",
    "print(\"TP {0} , FN {1}, TN {2}, FP {3}\".format(TP,FN,TN,FP))        "
   ]
  },
  {
   "cell_type": "code",
   "execution_count": 13,
   "metadata": {},
   "outputs": [
    {
     "name": "stdout",
     "output_type": "stream",
     "text": [
      "Accuracy =  0.7865612648221344\nPrecision =  0.8669950738916257\nRecall =  0.8669950738916257\nfScore =  0.8669950738916257\n"
     ]
    }
   ],
   "source": [
    "def Accuracy():\n",
    "    accuracy=(TP+TN)/(TP+FP+FN+TN)\n",
    "    # print(\"Accuracy =\",accuracy)\n",
    "    return accuracy\n",
    "   \n",
    "def Precision():\n",
    "    precision =  TP/(TP+FP)\n",
    "    # print(\"Precision = \",precision)\n",
    "    return precision\n",
    "\n",
    "def Recall():\n",
    "    recall = TP/(TP+FN)\n",
    "    # print(\"Recall = \",recall)\n",
    "    return recall\n",
    "    \n",
    "def fScore():\n",
    "    F1 = 2*(Recall() * Precision()) / (Recall() + Precision())\n",
    "    # print(\"f measure\",F1)\n",
    "    return F1\n",
    "\n",
    "\n",
    "print(\"Accuracy = \",Accuracy())\n",
    "print(\"Precision = \",Precision())\n",
    "print(\"Recall = \",Recall())\n",
    "print(\"fScore = \",fScore())"
   ]
  },
  {
   "cell_type": "code",
   "execution_count": null,
   "metadata": {},
   "outputs": [
    {
     "data": {
      "text/plain": [
       "<Figure size 640x480 with 1 Axes>"
      ]
     },
     "execution_count": 0,
     "metadata": {},
     "output_type": "execute_result"
    }
   ],
   "source": [
    "# # import numpy as np\n",
    "# from sklearn.metrics import roc_curve\n",
    "# import matplotlib.pyplot as plt\n",
    "# import matplotlib.pyplot as plt\n",
    "# y = test_data['class']\n",
    "# scores = predict_df['WeightPI']\n",
    "# fpr, tpr, thresholds = roc_curve(y, scores, pos_label=\"yes\")\n",
    "# \n",
    "# # print(thresholds)\n",
    "# plt.plot(fpr, tpr)\n",
    "# \n",
    "# plt.show()\n"
   ]
  }
 ],
 "metadata": {
  "kernelspec": {
   "display_name": "Python 3",
   "language": "python",
   "name": "python3"
  },
  "language_info": {
   "codemirror_mode": {
    "name": "ipython",
    "version": 3
   },
   "file_extension": ".py",
   "mimetype": "text/x-python",
   "name": "python",
   "nbconvert_exporter": "python",
   "pygments_lexer": "ipython3",
   "version": "3.7.0"
  }
 },
 "nbformat": 4,
 "nbformat_minor": 1
}
