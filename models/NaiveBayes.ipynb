{
 "cells": [
  {
   "cell_type": "code",
   "execution_count": 1,
   "metadata": {},
   "outputs": [],
   "source": [
    "import pandas as pd\n",
    "import numpy as np\n",
    "import nltk\n",
    "\n",
    "\n"
   ]
  },
  {
   "cell_type": "code",
   "execution_count": 2,
   "metadata": {},
   "outputs": [
    {
     "name": "stdout",
     "output_type": "stream",
     "text": [
      "     class                                               text\n0       no  i'll  buy  the  iphone   x  if it can  get  ac...\n1       no  Some dude in FB selling the  iPhone   X  64 gb...\n2      yes  Home dab emote man today and I  get  hopped on...\n3      yes                               Buy  an  iPhone   X \n4       no  I hate iOS 11. My  iPhone  6+ works 10X slower...\n7       no  Bo-go sale tomorrow at T-Mobile  buy  one  get...\n8      yes  I can  get  the  iPhone   X  here.... If I'm w...\n9      yes  When you  buy  an  Iphone   X  with Unlimited ...\n10     yes  @ Mrwhosetheboss  i really  wish  i  get  to m...\n11      no  @ sprint  @sprintcare  if I switch to @TMobile...\n12      no  Oneplus 5t has faster face recognition than  i...\n13      no  Don't  buy  an  iPhone   X  if you're ugly. I ...\n14      no  Could  buy  2x 5T with the price I paid for th...\n15     yes  My friend shopping:  iPhone   X  is not that e...\n16     yes  What if there was upgrade to an  iPhone  8 or ...\n19      no  I don't  get  it is it basically impossible to...\n20     yes  The  iPhone   X  is a pleasure to use. Far mor...\n22      no  I wanted the  IPhone   X  but now that most pl...\n23     yes  I  love  these holiday gift guides that assume...\n24     yes  VIP  NEED   BUY  AN  IPHONE   X   https:// twi...\n27      no  Anyone else experiencing an  iPhone  glitch wh...\n29     yes  Need  to just  buy  that  iPhone   X  so I can...\n30     yes  Apple just send me an email with Christmas gif...\n32     yes                               Buy  an  iPhone   X \n33     yes                              Love  the Design.... \n34      no  u can  buy  yourself an  iPhone   X  but can n...\n35     yes  I  love  my Note 8 its been an  awesome  phone...\n36      no                             Not this what i want  \n37      no  In crazy  love  with this video!!! Don't  Buy ...\n39     yes                 So in  love   w  the  iPhone   x .\n...    ...                                                ...\n1296    no  Im an Apple fanboy and I never thought I would...\n1297    no  So the  iPhone   X  is not  like  the letter i...\n1299   yes                  I'm gonna  buy  the  iPhone   X .\n1300   yes                     iPhone   X  brightness is good\n1303   yes  Got notified this morning my card was charged ...\n1306   yes  Had some hands-on time with a friend’s  iPhone...\n1307   yes                 i  need  my  iphone   x  to ship !\n1309    no  fucked up by messing with the  iphone   x  at ...\n1310   yes  The executive summary of this  iPhone   X  Dia...\n1311   yes                          I  need  that  iPhone   X\n1314   yes  Trying to  get  use to my  iPhone   X .  Wish ...\n1316   yes  Went to  get  the  iPhone   X  today but after...\n1317   yes  I just justified the  purchase  of this  iPhon...\n1318    no   I’m not upgrading to shit but that  iPhone   X .\n1319   yes  some kid walked into class with an  iPhone   X...\n1322    no                   I did not  want  an  iPhone   X \n1323   yes           Buy   iphone   x  for me from abroad... \n1328   yes                     Need  the  iPhone   X  asap...\n1331   yes      I  need  the  iPhone   X  just for the camera\n1332    no  So disappointed with my  iPhone   X  it didn’t...\n1334    no  iPhone   X  is such a  bad  investment so  exp...\n1335   yes  My brother can go and  get  him a whole  IPhon...\n1336   yes                       iPhone   X  is sooooo pretty\n1338   yes  Y’all  need  to just go ahead and  get  this  ...\n1342    no  I wanted to say I’m more in  love  with my  iP...\n1344   yes  All I  want  for Christmas Deb Ziegler Benton ...\n1346    no  I don’t  want  the  iPhone   X  until there’s ...\n1348   yes  need  a  iphone   x  so i can take a pic for m...\n1349   yes  I’m still getting used to the  iPhone   X  lay...\n1352   yes  love  this thread but i  need  my  iphone   X ...\n\n[755 rows x 2 columns]\n"
     ]
    }
   ],
   "source": [
    "\n",
    "# create series of true and false. True is assigned for yes/no. False for undefine\n",
    "def Extract (path):\n",
    "    fd= open(path,encoding=\"utf-8\", errors='replace')\n",
    "    df = pd.read_csv(fd)   \n",
    "    defined=df['class'] != (\"undefined\")\n",
    "    # #output dataframe without undeined\n",
    "    df2=df[defined]\n",
    "    defined1=df2['class'] !=\"Undefined\"\n",
    "    df4=df2[defined1]\n",
    "    #replace no PI with no\n",
    "    df3=df4.replace(\"No PI\",\"no\")\n",
    "    #replace PI with yes\n",
    "    final=df3.replace(\"PI\",\"yes\")\n",
    "    \n",
    "    replace_yes=final.replace(\"Yes\",\"yes\")\n",
    "    final_df= replace_yes.replace(\"No\",\"no\")\n",
    "    return final_df, df\n",
    "\n",
    "\n",
    "path='E:/DATA/Sem8/fyp/Training.csv'\n",
    "final_df,df=Extract(path)\n",
    "# print(df['class'].value_counts())\n",
    "print(final_df)"
   ]
  },
  {
   "cell_type": "code",
   "execution_count": 3,
   "metadata": {},
   "outputs": [
    {
     "name": "stdout",
     "output_type": "stream",
     "text": [
      "          class                                               text\n5     undefined  Brilliant @johnlewisretail - added  iPhone   X...\n6     undefined  They doing that on purpose cause mine is to. T...\n17    undefined                                So if I  buy  a  X \n18    undefined  Buy   iPhone   X  and  get  in the same and yo...\n21    undefined  If @Spacekatgal  didn't  get  an  iPhone   X  yet\n25    undefined  I ordered my pixel 2 on Tuesday from Google & ...\n26    undefined  Would it be the same if I  buy  an  iPhone   X...\n28    undefined  I wanna  buy  my mom a new  iPhone  so bad. I ...\n31    undefined  @ AppleSupport   I have received the  iphone  ...\n38    undefined  I  wish  I had a girl that rode for me  like  ...\n41    undefined  You look  like  you stalk the uptown event the...\n42    undefined  What you got  like  4  IPhone   X 's  buy  me ...\n46    undefined  Who  need   iphone   x  I got the direct plug ...\n51    undefined  Pre-registered customers at T World who will  ...\n54    undefined  How the hell to  get  my sugar daddy to  buy  ...\n56    undefined  If you are deciding to  buy  Apple Care + for ...\n59    undefined  I have noticed that when a new  iPhone  comes ...\n60    undefined  UPS is the WORST.  iPhone   X  is taking the P...\n61    undefined  Should I  buy   iPhone  8 Plus or wait a lil b...\n64    undefined  Apple's Animoji might not  need  the  iPhone  ...\n70    undefined  I was getting ready to  buy  the  iPhone   X  ...\n71    undefined       Day 1  w /  iPhone   X  - first impressions:\n73    undefined  God keeps sending me signs to  buy  the  iPhon...\n74    undefined  I added a video to a @YouTube  playlist  http:...\n75    undefined  Whatsup  w  all the question emojis  like  we ...\n76    undefined  Get  your santa  wish  list ready  iphone   x ...\n77    undefined  # WednesdayWisdom  YOU  NEED  TO SEE TGIS VIDE...\n78    undefined  I feel  like  this happens every time a new  i...\n81    undefined  I hate  http:// to.read    negativity towards ...\n85    undefined  If I  get  a buck for every typo I make in a t...\n...         ...                                                ...\n1286  undefined  I  wish  I knew someone who had an  iPhone   X...\n1287  undefined             Maybe  iPhone   X  is  like  a Pokémon\n1295  undefined  I don't regret it at all. Just  wish  I had wa...\n1298  undefined  ROTFLMAO! RT @selfcritics : People : why did y...\n1301  undefined  Dear @ChipotleTweets . Your new app requires m...\n1302  undefined                         you won’t give me your dog\n1304  undefined                How yall  like  yall  iphone   x ??\n1305  undefined                   When you  get  the  iPhone   X ?\n1308  undefined                 See now I'm sitting here  like .. \n1312  undefined  We  want  some stacks  like  this one for  iPh...\n1313  undefined                                  Y’all at @Apple  \n1315  undefined                   Should i  get  the  iphone   x  \n1320  undefined                                               Damn\n1321  undefined  Every time I  get  a new  iPhone  I'm always e...\n1324  undefined  But how does the home indicator work? For  iPh...\n1325  undefined  @ applesupport  my  iPhone   X  was lost by UP...\n1326  undefined            Why  iPhone   X  will  get  MR at WWDC:\n1327  undefined  So my friend has the  iPhone   X  right and i ...\n1329  undefined  tried to go  get  the  iphone   x . apparently...\n1330  undefined  Who told my mom to  get  this  iPhone   X .......\n1333  undefined  Want  a cool wallpaper for your  iPhone   X ? ...\n1337  undefined  Goodbye Verizon and your  expensive  ass payme...\n1339  undefined  So you ( like  most of us) have opted to take ...\n1340  undefined  @ andywaysworld ’s  iPhone   X  makes my 7 Plu...\n1341  undefined  The first  iPhone  came out 10 years ago. 10 y...\n1343  undefined  5 Tips to Help You  Get  the Most Out of Apple...\n1345  undefined                     iPhone   X  Diary: One week in\n1347  undefined  I have to ship my old #iPhone  back since I bo...\n1350  undefined                              If You Have A Brother\n1351  undefined  Because many things on  iPhone   X  depends on...\n\n[441 rows x 2 columns]\n"
     ]
    }
   ],
   "source": [
    "# create series of true and false. False is assigned for yes/no. True is for undefined\n",
    "undefined=df['class'] == \"undefined\" \n",
    "#output dataframe without undeined\n",
    "df_undefine=df[undefined]\n",
    "print(df_undefine)\n",
    "\n"
   ]
  },
  {
   "cell_type": "code",
   "execution_count": 4,
   "metadata": {},
   "outputs": [],
   "source": [
    "def text_concat():\n",
    "    text=\"\"\n",
    "    for x in final_df[\"text\"]:\n",
    "        text=text +str(x)\n",
    "    return text\n",
    "corpus=text_concat()"
   ]
  },
  {
   "cell_type": "code",
   "execution_count": 5,
   "metadata": {},
   "outputs": [],
   "source": [
    "import re\n",
    "from nltk.corpus import stopwords \n",
    "from nltk.tokenize import word_tokenize \n",
    "\n",
    "def read_stopwords(path):\n",
    "    file1 = open(path,\"r\") \n",
    "    stopword = file1.readlines() \n",
    "    file1.close() \n",
    "    li_stopwords = stopword[0].split()\n",
    "    return li_stopwords\n",
    "\n",
    "def removeStopWords(text):\n",
    "    # stop_words = set(stopwords.words('english')) \n",
    "    stop_words = read_stopwords(\"E:/DATA/Sem8/fyp/stopwords.txt\")\n",
    "    word_tokens = word_tokenize(text) \n",
    "    filtered_sentence = [] \n",
    "    for w in word_tokens: \n",
    "        if w not in stop_words: \n",
    "            filtered_sentence.append(w.lower()) \n",
    "    #return list of corpus without stop words in a list.        \n",
    "    return filtered_sentence  \n",
    "\n",
    "def removePunc(eachText):\n",
    "    remove_punc = re.sub(r'[^\\w\\s]','',eachText)\n",
    "    #return corpus with out punctuation.\n",
    "    return remove_punc\n",
    "\n",
    "\n",
    "\n",
    "def clean_data(corpus):\n",
    "    remove_punc=removePunc(corpus)\n",
    "    li_remove_stopWords= removeStopWords(remove_punc)\n",
    "    return li_remove_stopWords\n",
    "\n",
    "li_cleaned_text = clean_data(corpus)\n",
    "# bprint(li_cleaned_text)"
   ]
  },
  {
   "cell_type": "code",
   "execution_count": 6,
   "metadata": {},
   "outputs": [
    {
     "name": "stdout",
     "output_type": "stream",
     "text": [
      "['weeki', 'decided', 'dont', 'cultcast', 'dies', 'word', 'basically', 'pictwittercom3ech4wkrjcomg', 'everyone', 'alreadywhen', 'owe', 'pictwittercomkueayojwmnim', 'stuff', 'content', 'cheap', 'https', 'found', 'just', 'barely', 'consideration', 'grounded', 'choose', 'prof', 'mashable', 'xnah', 'late', 'comes', 'dm', 'saved', 'experienced', 'wig', 'card', 'efkj8m0aemiim4jh0x3cgyiq3d3dutm_sourcecompetitionutm_mediumreferralutm_campaigncompetition20sharing', 'morning', 'stressed', 'xto', 'meant', 'patient', 'hopefully', '256', 'sooo', 'ios11', 'firstdo', 'knew', 'vouchercloudcomdid1988896r', 'technology', 'wouldve', 'little', 'hahahait', 'cuz', 'joy', 'gained', 'local', 'springs', 'did', 'mkbhd', 'thought', 'add', '6t', 'glitch', 'phonearenacomnewshereish', 'as', 'kids', 'phones', 'idiot', 'thatalso', 'beat', 'iphoneo', 'activate', 'though', '49', 'convinced', 'cast', 'spoofing', 'missed', 'unresponsive', 'eh', 'turned', 'fools', 'representative', '12', 'dat', 'length', 'his', 'bet', 'heap', 'knowget', 'listened', 'buttons', 'drunk', 'copy', 'wonbuy', 'compliments', 'note8', 'wtf', '5k', 'he', 'terms', 'swear', 'ididnt', 'lose', 'xtrying', 'sophia', 'competitors', 'bug', 'thoughif', 'wont', 'bei', 'student', 'canceled', 'however', 'isnt', 'xlove', 'fest', '099', 'return', 'steep', 'girls', 'en', '0macappsapplesclips20putsyouinthemillenniumfalconoramegadestroyerhtml', 'preferred', 'reduce', 'firstmrwhosetheboss', 'ios1111', 'passwordif', 'purchase', 'premium', 'alsoi', 'buddy', 'commercials', 'reviewspathetic', 'thousand', 'ulta', 'compelling', 'brings', 'help', '060i', 'xbox', 'travel', 'could', 'type', 'fancy', 'noticeablely', 'sure', 'ittim', 'technologymy', 'starting', 'room', 'zoellas', '400', 'site', 'anybody', 'kingseun3', 'x', 'trust', '17', 'gb', 'trade', 'okay', 'daughters', 'tbhi', 'hed', 'vs', 'onlyme', 'nothingpraying', 'http', 'uk', 'bf', 'pictwittercomiayz2yxnzaim', '7plus', 'sucks', 'ever', 'whateva', 'feature', 'mean', 'jumbling', 'applepay', 'later', 'spider', '152', 'maxhello', 'monday', 'im', 'models', 'unlock', '6sand', 'newest', 'havini', 'presents', 'ohyoure', 'interestedi', 'sad', 'leavinglike', 'pictwittercomgw5lvdvsdcso', 'poop', 'attention', 'display', 'no1', 'nerdwomanisme', 'spoil', 'batches', 'overpriced', 'twittercomyongiemystics', 'pictwittercom3ech4wkrjcneed', 'upgrading', 'less', 'prettyyall', 'begged', 'busting', 'sister', 'smaller', 'golden', 'friday', 'white', 'causing', 'devicetrying', 'apps', 'snapchat', 'ferrari', 'trap', 'loans', 'walked', 'theyd', 'anything', 'exception', 'expected', 'unless', 'lcd', 'verizon', 'spend', 'recognizing', 'itwhen', 'oled', 'extremely', 'xd', 'pictwittercomz5kosv72yemy', '15', 'tesco', 'always', 'andddddd', 'anaseini', 'today', 'complain', 'attcaresonly', 'iphones', 'making', 'somehow', 'backgrounds', 'muchkinda', '23', 'retort', 'rest', 'onlyinafrica', 'recover', 'pictwittercom9maes4iod2i', '5t', 'invoke', 'freewould', 'pic', 'kidney', 'information', 'tmobile', 'shipping', 'helps', 'sexy', 'gave', 'blue', 'ratu', 'hiring', 'hardest', '10x', 'outside', 'glad', 'foreverrrrrr', 'johnlegerei', 'bell', 'hmm', 'wait', 'us', 'save', 'trynna', '245', 'izen', 'accident', 'third', 'times', 'absolutely', 'la', 'utterly', 'happy', 'tmobiles', 'technologies', 'received', 'backwhy', 'spending', 'don', 'nor', 'charger', 'shitgotta', 'pulling', 'hshshsh', 'de', 'tutorials', 'graysondolan', 'screenyall', 'youtube', 'isumm', '256prolly', 'purpose', 'bcs', '3d', 'giving', 'tiffany', 'orderhow', 'customer', 'iphone8', 'th', '72', 'oooo', 'emoji', 'storesi', 'plzthe', 'patronize', '769', 'thrown', 'infront', 'level', 'ux', 'arrive', 'se', 'ipad', 'example', 'owyoucangetafreeiphone864gbwhenyoubuyaniphonexatatt_id99708', 'phoneim', 'tire', 'flame', 'ass', 'xiphone', 'bought', '30mbit', 'face', 'expensivewhy', '150', 'crap', 'alreadywtf', 'been', 'ads', 'bestfirst', 'pleasewish', 'art', 'lucky', 'lord', 'iphanboys', 'wif', 'guilty', 'no', 'congrats', 'cost', 'shambig', 'december', 'broken', 'usually', 'zoella', 'handing', 'say', 'prolly', 'iphonexrapple', 'tall', 'every', 'pro', 'emojis', 'true', 'instai', 'pressing', 'twittercomtia_ewingstat', 'mommy', 'ruins', 'loyal', 'someones', 'dumpty', 'lmaoo', 'wasso', 'landscape', 'dollarsbutttt', 'payments', 'ex', 'xnice', 'pros', 'twittercommanxomemiasta', 'roadto500k', 'college', 'alright', 'costs', 's9', 'along', 'bc', 'only', 'amazing', 'contract', 'overall', '240', 'skincare', 'velocity', 'right', 'hypercritical', '5th', 'reportssome', 'nervous', 'take', 'fail', 'sound', 'drives', 'freezes', 'gold', 'buttonmy', 'gaming', 'heat', '30th', 'second', 'backimma', 'polished', 'kdbut', 'garyvee', 'fooling', 'calendar', 'waiting', 'world', 'awesome', 'xi', 'htc', 'ya', '4', 'shiti', 'glitching', 'hello', 'prepared', 'that', 'actuallybuy', 'innovation', 'or', 'daymaybe', 'dive', 'sasautoscomlink43316119', 'recommended', 'slower', 'students', 'impulse', 'horrendous', 'ima', 'lot', '12th', 'wired', 'pictwittercome7nqh9sdq2can', '10', 'played', 'video', 'via', 'moneythis', 'stop', 'san', 'bigbrother', 'baddo', '6s', 'contact', 'elements', '4gb', 'course', 'speed', 'themiphone', 'living', 'realized', 'waste', '9934000507', 'grandma', 'consistently', 'letter', 'camerahow', 'single', 'ok', 'plan', 's1068249266026614784', 'lulu', 'school', 'thoughiphone', 'oneawesome', 'target', 'enough', 'seems', 'device', 'needs', 'airpods', 'sit', 'apple', 'ifttt2m9qbda', 'hearing', 'have', 'people', 'account', 'fixed', '10im', 'atus928766636563185664', 'sony', 'spoiled', 'biggeri', 'galaxy', 'xpraying', 'their', 'howto', 'jack', 'thathad', 'outtta', 'tm', 'guessing', 'desperately', 'bootleg', 'waterproofapples', 'post', 'deserve', 'freezing', 'markdohner', 'kid', 'youtubedrveunle5noa', 'expensiveiphone', 'tiny', 'pictwittercomx1bnvnseqzso', 'installed', 'buy', 'wanti', '1st', 'wouldnt', 'davidinglestvsaw', 'laptopyou', 'size', 'written', 'opinion', 'girl', 'ago', 'bruv', 'guy', 'lolmy', '246', 'about', 'longer', 'house', 'lolwhat', 'everybody', 'inuse', '28771583723823104', 'delivery', 'groceriesthe', 'itiphone', 'xscrew', 'phoneits', 'hahaha', 'preorder', 'freelove', 'recognize', 'struggle', 'tends', 'telling', 'urgent', 'christmasi', 'vid', 'suggested', 'playing', 'holla', 'badthe', 'dufresh4', 'africaidk', 'like', 'considering', 'input', 'rich', '910', 'trick', 'ridiculously', 'chat', 'main', 'scratch', 'idthinkin', 'mates', 'unresponsiveso', 'prob', 'legit', 'johnlegere', 'kill', 'buying', '7layerskinzcom', 'star', 'plzi', 'pictwittercom8odmkuxsrkto', 'pick', 'lol', 'xstand', 'airtel', 'check', 'onei', 'protect', 'youtubeit', 'lost', 'jokes', '1500when', 'wayvery', 'reason', 'ti', 'vertical', 'gvwyioemu3ld0', 'chez', 'photographers', 'think', 'with', 'wanted', 'improving', 'option', 'israel', 'hardly', 'when', 'us816613182479466496', '7', 'tapi', 'snaps', 'reviewshow', 'bestyup', 'wallpaper', 'not', 'dadused', 'tired', 'accurate', 'itmy', 'tonight', 'of', 'somethingall', 'hopped', 'class', 'talk', 'hadi', 'applestore', 'future', 'feel', 'uses', 'sale', 'announcement', 'pleasure', 'creating', 'simply', 'story', 'zstatus928770595763957760', 'cooper', 'ps', 'animojilife', '2000', 'canada', 'parody', 'meet', 'vouchercloud', 'screens', 'xshould', 'choice', 'ridiculous', 'audio', 'excuse', 'singularity', 'cursewhen', 'davidinglestviphone', 'o2', 'uc', 'twittercomnadeshotstatu', 'literally', 'wish', 'srorythe', 'birthday', 'included', 'buyi', 'tbhwe', 'flagshipsbullshit', 'adulting', 'choiceiphone', 'copies', 'sick', 'yeri', '4th', 'itnow', 'htlyjzup50fbcgr', 'was', 'breaking', 'limit', 'dealers', 'bonkers', 'least', 'trouble', 'xmakes', 'going', 'public', 'months', '128gb', 'tho', 'awesomeme', '1200', 'hansoni', 'europeapple', 'boring', 'go', 'taking', 'read', 'wide', 'morganfor', 'professor', 'well', 'mess', 'saliva', 'high', 'physically', 'runs', 'homeless', 'expensivei', 'narrower', 'deliver', 'lady', 'forcing', 'followers', 'alsougghhh', 'b', 'stack', 'madeim', 'liked', 'older', 'paye', 'owner', 'urge', 'cases', 'work', 'biased', 'this', 'probably', 'llama', 'speaker', 'outits', 'week', 'bulgaria', 'oldest', 'themkindly', 'austinmann', 'smh', 'compete', 'massively', 'pictwittercomckyos4jwuti', 'reader', 'og', 'pix', 'send', 'r', 'country', 'sprintcare', 'tree', 'went', 'lovely', 'humpty', 'durability', 'pictwittercomgu7wn22niai', 'hahaneed', 'criminal', 'eitherios', 'twittercomiwebstatus9', 'pointthank', 'xits', 'ahead', 'till', 'combining', 'ft', 'relationship', 'youtube9ca8zwjolfq', 'from', 'three', 'glitches', 'pici', 'downgrade', 'pictwittercomrefhi3gc8vthey', '10gb', 'around', 'rejoin', 'bit', 'twittercomafuaasamstatu', 'year', 'enjoy', 'reareal_t3vin11', 'service', 'next', 'generation', 'iosblack', 'loliphone', 'maroc_telecom', 'mom', 'higher', 'logan', 'noticed', 'knowi', 'shall', 'follower', 'gamblewish', 'primary', 'pradesh', 'ny', 'erfon', 'friend', 'join', 'biggest', 'telli', 'luck', 'offer', 'things', 'instagramcompbbxanptje3i', 'headquarters', '540', 'fucking', 'thati', 'picture', 'curryspcworld', 'bday', 'ive', 'repeatedly', '133x', 'honestly', 'ethandolan', 'mall', 'gear', 'iphonexmy', 'felt', 'proi', 'fbme1jd4s5mfc', 'xthats', 'email', 'inexpensive', 'lightingi', 'early', '2nd', 'tooth', '9yo', 'since', 'serious', 'data', 'hellllla', 'love', 'job', '950', '1i', 'experiencei', 'back', 'llamaid', 'hotel', 'skegness', 'shotoniphone', 'episode', 'bro', 'jasonnash', 'everyday', 'ones', 'moron', '2so', 'use', 'ecosystem', 'badwhy', 'cnetco2ds00h2', 'manage', 'indiawas', 'decide', 'apparently', 'twittercomtyonna_mossst', 'p', 'saydo', 'fire', 'meonly', 'twittercomtmobilestatus', 'horrificim', 'fansite', 'cracked', 'acting', 'lags', 'customers', '4what', 'iam_erica', 'pubg', 'refuse', 'ugly', 'e8n96wyoq', 'devicei', 'thanks', 'buyer', 'depth', 'hella', 'monopoly', 'thats', 'daybreakasia', 'code', 'iphonesngl', '3t5g9ysc1sc1l1ppy4291063', 'a', 'roundmy', 's8', 'instead', 'super', 'anyone', 'doctor', 'planthe', 'nose', 'game', 'still', 'ordering', 'mother', 'newer', 'complaint', 'envirofone', 'talking', 'strongly', 'whereismyhomebutton', 'nothingwant', 'businessbest', 'xpensive', 'started', 'silly', 'pics', 'break', 'days', 'lmaoim', 'mixed', 'oversaturated', 'yea', 'wasnt', 'thisthat_tha3rd', 'hecho', 'lolso', 'tim_cook', 'paychecks', 'nowthat', 'needed', 'ends', 'otterbox', 'euro', 'churros', 'believe', 'wan', 'strong', 'solid', 'pictwittercomzhgomp7sr3iphone', 'brightness', 'pm', 'thatyour', 'mindset', 'uki', 'language', 'feign', 'can', 'fanboy', 'become', 'methanks', 'web', 'black', 'wallet', 'gadget', 'offangle', 'turn', 'colour', 'sort', 'hands', 'million', 'issue', 'a130pm', 'fullestiphone', 'upgrade', 'odd', 'sir', 'real', 's3', 'holiday', 'ending', 'whatever', 'radial', 'ghosting', 'told', 'giveaway', 'nicei', 'stuck', 'convincing', 'comparison', 'bitchthe', 'guessthis', 'its', 'ihnatko', 'tatus930831560189898754', 'resist', 'nowi', 'nonissue', 'applenewsa5quuwcqrbun9', '1000', 'spensive', 'iti', 'ciaravinoecon', 'cold', 'itcouldnt', 'mask', 'drop', 'original', 'color', 'uncarrier', 'cameraso', 'sprint', 'max', 'makeup', 'faceid', 'pictures', 'we', 'planning', 'colombia', 'clothes', 'thankshad', 'officialimicca', 'reality', 'suggestions', 'per', 'pictwittercomama02k5njci', 'applesupport', 'failgot', 'headphone', 'tradein', 'signed', '276', 'killing', 'handsso', 'deals', 'enabler', 'twelve', 'gifts', 'interested', 'throws', 'won', 'sooooooo', 'adapteri', 'alreadyyyyyyyyyyyyy', 'randomly', 'notified', 'programme', 'pleasei', '100', 'thisif', 'login', 'unlimited', 'actually', 'minutes', 'wack', 'ta', 'sitting', 'accuracy', 'ah', 'arent', 'xr', 'nowhen', 'glasses', '45', '545', 'years', 'whats', 'bank', 'devices', 'means', 'carriers', 'shitif', '256gbsince', 'u', 'fun', 'blocked', 'differentneed', 'screen', 'c4etechtamil', '26', 'who', 'control', 'designed', 'kinda', 'samsungmobile', 'edge', 'mistake', 'camera', 'helptested', '1724', 'gestures', 'sleeker', 'ityall', 'genius', 'absolute', 'extra', '4kgot', '4k', 'release', 'hadnt', 'brotheri', 'clearly', 'til', 'takes', 'justice', 'temptation', 'appreciate', 'bitly2i79hpw', 'ask', 'havent', 'cs', 'fecesi', 'reali', 'made', 'useseriously', 'nice', '4mbit', 'stay', 'contractlike', 'lock', 'rotates', 'month', 'isthe', 'better', 'plusevery', 'a37with', 'freethe', 'dilemma', 'cited', 'ngl', 'exist', '13', 'warranty', 'seeing', 'shopping', 'uttar', 'include', 'soo', 'insteadwish', 'how', 'released', 'scheme', 'free', 'enrollee', 'quicker', 'perfect', 'favourite', 'didnt', 'pictwittercomrueekshlb6lol', '256gbiphone', 'conversation', 'feels', 'yesterday', 'apartment', 'throw', 'feelyeah', 'wash', 'attempt', 'soooo', 'dimensions', 'imma', 'videos', 'nowsomething', 'rlly', 'rid', 'festive', 'confident', 'tap', 'seem', 'sides', 'any', 'old', 'text', 'remember', 'places', 'cut', 'clips', 'version', 'steve', 'please', 'outso', 'baseveryone', 'cancel', 'boy', 'play', 'dey', 'model', 'pake', 'piasa', 'look', 'sounds', 'contractoneplus', 'impatienti', 'lucknow', 'paintings', 'switch', 'googlfbfu76pf', 'yr', 'thinks', 'forward', 'roast', 'range', 'ticket', 'screwed', 'qz', '1when', 'sorry', 'percentage', 'thanksi', 'worth', 'everythingget', 'fml', '1password', 'rotate', 'nothing', 'products', 'ucnews_india', 'design', 'button', 'shitty', 'yeah', 'releasealhamdulillah', '64', 'definitely', 'rstatus930155971191681026', '2018it', 'advisee', 'excited', 'dumbass', 'jealous', 'burnin', 'nigga', 'line', 'hey', 'nothin', 'ituprgrading', 'oh', 'loss', 'prepped', 'ohh', 'scammed', 'freeze', 'waitfew', 'taken', 'max4200', 'existedmy', 'forget', 'macbook', 'bens', 'pls', 'total', 'support', 'clappedlooks', 'tf', 'stoopid', 'trying', 'youtubeed3r9bzzlge', 'faster', 'forfinally', 'rt', 'lovers', 'is', 'pretty', 'bitch', 'so', 'nicely', 'radios', 'everythingmultiple', '193', 'bud', 'monthas', 'highly', 'gone', '1', 'either', 'starbucks', 'asking', 'netflix', 'dayi', 'plusi', 'rock', 'scare', 'proper', 'photos', 'highest', 'seei', 'loli', 'eyes', 'fan', 'mf', 'depressed', 'grand', 'wake', 'picking', 'quit', 'struggling', 'insane', 'xsomeone', 'allwayshey', 'missing', 'dinosaur', 'price', '64gbawesome', 'fckn', 'forgotten', 'will', 'live', '247', 'oneplus', 'dickhead', 'what', '1sad', 'qualityspeaker', 'nigeriathe', 'realize', 'switching', 'blew', 'millions', 'xs', 'new', 'apart', 'xim', 'soon', '3rd', 'perfectly', 'looked', 'skip', '129', 'productsletterthanks', 'buzzing', 'atus928349765582118912', 'pricetag', '1300', 'dudeupdate', 'finding', 'siracusa', 'pays', 'tus926660732162154496', 'sux', 'luckman', 'find', 'buttt', 'whatsapp', 'hmmmmjust', 'succes', 'thotoday', 'reject', 'thingbuy', 'zone', 'iphonex', 'youtubesqldxppmsea', 'chargetecno', 'suffered', 'flawless', 'table', 'thoughlove', 'status930437339305971712', 'seun', 'reopenyo', 'mine', 'bedroom', 'rajivmakhni', 'beautiful', 'pvp', 'verizons', 'bitly2z2qjv5', 'smooth', 'jesus', 'regardless', 'to', 'open', 'collectors', 'texts', 'much', 'uglyretard', 'alreadyi', 'articles', 'watchwhy', 'verdict', 'i', 'promises', 'winner', 'breadyeah', 'already', 'recognition', 'subtle', 'person', 'maxes', 'aint', 'experience', 'rn', 'att', 'low', 'cheapest', 'indonesia', 'freezewe', 'batch', 'square', 'huge', 'screeni', 'comfort', 'digits', 'idk', 'following', 'strange', 'start', 'oneyou', 'good', 'overlooked', 'motivation', 'summary', 'david', 'inch', 'using', '1000000', 'bigger', 'guys', '3', 'googlb3xnbe', 'item', 'update', 'fantastic', 'mothers', '280cdont', 'piezoelectric', 'talli', '11', 'paid', 'reservations', 'box', 'tempting', 'battery', 'smashed', 'multiple', 'diamonds', 'fall', 'came', 'saadilamdin', 'club', 'fantasy', 'cave', '1100', 'supreme', 'versionpoor', 'android', 'couple', 'selfiescould', 'onecan', 'getting', 'dying', 'screenshotted', 'temporarily', 'wonder', 'pixel', 'knocki', 'wtfi', 'guess', 'youtube0vzgklj9mpqa', 'seriously', 'aus', 'looks', 'weather', 'cameras', 'switchingiphone', 'independent', 'handson', 'keep', 'ee', 'decade', 'iphoneunboxing', 'youtubegy2t9uwuhmwa', 'nathantriska', 'forever', 'fingerprint', 'somebody', 'expensive', 'weeks', 'bad', 'flagship', 'program', 'pictwittercom7tzbh5hnj4i', 'wakakakakasince', 'fine', 'flop', 'touch', 'badpengen', 'note', 'eurotrip', 'yet', 'expensivegoing', 'funny', 'suck', 'false', 'gon', 'amp', 'adapting', 'shop', 'steven', 'tuesdayso', 'issues', 'unlocks', '7its', '10yearolds', 'hit', 'gift', 'screenif', 'cause', 'explanation', 'access', 'done', '8s', 'someone', 'airplane', 'twittercomdsharp_runsst', 'estimated', 'grown', 'shirti', '13333', 'upset', 'best', 'give', '24', 'print', 'chance', 'link', 'belom', 'end', 'cinematic', 'thank', 'faulty', 'pay', 'au', 'activated', 'brother', 'aapl', 'damn', 'added', 'crazy', 'sells', 'xhave', 'lte', 'some', 'totally', 'hi', 'here', 'tv', 'favor', 'flagships', 'tried', 'horizontal', 'holding', 'mrwhosetheboss', 'method', 'youtubenpt5tsd0bbi', 'assistance', 'storewish', 'planet', 'tipsi', 'radio', 'owners', 'updated', 'harps', 'goddd', '256gb', 'hear', 'loren', 'experiences', 'ssame', 'pernah', 'reselling', 'refund', 'itshit', 'bravo', 'adult', 'friends', '2018', 'willing', 'off', 'dollar', 'brag', 'sell', 'terrible', 'customerafrican', 'difference', 'meal', 'bucks', 'samsung', 'casa', '109', '250', 'deciding', 'brokehsbc', 'promised', 'base', 'marketing', 'pluswhen', 'ground', 'last', 'possibly', 'november', '64gb', 'jolove', 'agree', 'google', 'tough', 'returned', 'fund', 'grow', 'authorised', 'reviewi', 'spinning', 'pictwittercom0w6rdfvpfmstupidity', 'due', 'cute', 'slove', 'onto', 'top', '105', 'easier', 'america', 'were', 'youtube7ogyolyko6aa', '333', 'learning', 'youtubeqknddc_ervy', 'httpswww', 'lilyhands', '8', 'try', 'discount', 'lollol', '99cents', 'meiphone', 'pictwittercombbvbifoe8s', 'floor', 'goodness', 'op', 'firstif', 'pictwittercomvupeg5nezxam', 'list', 'side', '3t', 'seconds', '38000', 'number', 'prepaid', 'pushed', 'exited', 'pictwittercom71pjcufytyi', 'igpus', 'current', 'breaks', 'exploit', 'auntvip', 'time', 'thenyou', 'screw', 'quality', 'goes', 'upshelp', 'complaining', 'snap', 'plus', 'colors', 'onboard', 'toronto', 'iphonexso', 'selling', 'resolution', 'once', 'modeli', 'pictwittercomvx6c3h7xdh', 'but', 'repair', 'youtubeou89o_ppubya', 'jumia', 'funi', 'movie', 'nhs', 'youboss', 'phoneiphone', 'large', 'adjust', 'doi', 'tech', 'money', 'put', '25', 'sending', 'personally', 'wrong', 'oc', 'wordi', 'hypnotized', 'notice', 'sheep', 'ups', 'eiiapplesupport', 'surfaces', 'appledo', 'slow', 'camerai', 'feelslooks', 'employer', 'alreadylooks', 'now', 'debating', 'enjoying', 'shouldnt', 'guides', 'improvementscrazy', 'introduce', 'annoy', 'backnot', 'brazil', 'naira', 'sams', 'games', '2150', 'v', 'macworldcomarticle323667', 'saw', 'slash', 'reallyi', 'currently', 'booked', 'delivered', 'dab', 'gripe', 'india', 'past', 'swore', 'really', 'volume', '4omg', 'if', 'too', 'mbad', 'advent', 'disappointed', 'first', 'flip', 'instagram', 'dinner', 'enjoyable', '6yall', 'order', 'pictwittercome68xxa0qay', 'youtubecmiz1lcq5fka', 'phonehate', 'opportunity', 'able', 'dropped', 'doesnt', 'port', 'important', 'staff', 'blazing', 'review', 'stock', 'dis', 'mute', 'itid', 'lexysavvides', 'loginedge', '5', 'slightly', 'closed', 'pricing', 'impossible', 'coming', 'xmasi', 'lmao', 'groceries', 'hate', 'said', 'daddy', 'ready', 'supposed', 'shoved', 'gun', 'losers', 'significant', 'remove', 'na', 'bullshittin', 'encourage', 'googlyafuzy', 'transit', 'youtubee6rmnflofe8a', 'doubts', 'major', 'wow', 'lure', 'different', '14', 'why', 'most', 'cheaper', 'economical', 'instagramcompbbsvyonfboy', 'francisco', 'facialrecognition', 'laugh', 'ziegler', 'thisat', 'moment', 'satisfaction', 'ordered', 'itmight', 'hard', 'working', 'layout', 'available', 'ibooks', 'annoyed', 'paper', 'tell', 'sugar', 'blurred', 'enchantments', '34', 'diary', 'accessible', 'outi', 'recevoir', 'flipitgwznhh', 'planned', '82', 'controversial', 'such', 'raised', 'moms', 'greatkid', 'know', 'online', 'heart', '200', 'shipment', 'feeling', 'rating', 'whoever', 'die', 'pictwittercom4lipdpjbufthe', 'ride', 'funds', 'are', 'foodforthoughtneed', 'funding', 'tax', 'music', 'brothers', 'theres', 'difficdoes', 'mad', 'tim', 'gadgets', 'realise', 'irritating', 'tablets', 'iphonei', 'creeping', 'entire', 'usesnope', 'oldim', 'experiencing', 'theyre', 'wowmy', 'whenever', 'boringembracing', 'flight', 'realisticallythe', 'else', 'cook', '79', 'xgrayson', 'takut', 'tempted', 'trolls', 'conspiracy', 'pricesactually', 'useless', 'consumerist', 'care', 'whole', 'dlvritqsrghp', 'finally', 'prayersof', 'center', 'tweaking', 'saying', 'had', 'bugged', 'brokeok', 'watching', 'reviews', 'fb', '8before', 's928670046565515264', 'asap', 'banksy', 'itwas', 'linkedinim', 'ashleybeauty43', 'small', 'eitherwent', 'deck', '1000my', 'tbh', 'xit', 'pelayo', 'carry', 'shrek', 'pixel3', 'finish', 'everything', 'mts', 'users', 'bnow', 'youll', 'smallcant', 'w', 'matter', 'specs', '10the', 'allowed', '8talking', 'materialmy', 'patiently', '2x', 'storeim', 'ad', 'change', 'my', 'prices', 'seen', 'car', 'musically', 'would', '10yearold', 'benton', 'seriouslydebt', 'pc', 'sorryhate', 'icon', 'rubber', '400k', 'at', 'intial', 'pray', 'big', 'ughhhgonna', 'worst', 'rowi', 'panchkula', 'calls', 'cousin', 'commuter', 'toldme', 'season', 'ownsamsunggalaxy', 'ditching', 'filters', 'advicing', '75', 'get', 'iftttea8v8j', 'memories', 'presenting', 'finna', 'also', 'recommend', 'away', 'watch', 'carmy', 'evr', 'understand', 'you', 'towow', 'knowing', 'homescreen', 'pissed', 'may', 'fix', 'sampe', 'ought', 'sold', 'pto', 'space', 'popular', 'it', 'worked', 'mfs', 'key', 'except', 'youyes', 'websiteiphone', 'cracklingsound', 'pocket', 'asked', 'otps', 'mobile', 'tfi', 'pulled', 'xwhy', 'ab', 'commercial', 'wednesdaythoughts', 'launch', 'servicebeen', 'mei', 'newscan', '350', 'dinrcgot', 'goodgot', 'itwish', 'brand', 'iphonexlololol', 'entered', 'another', '3we', 'tracking', 'executive', 'prank', 'aed', 'assume', 'availability', 'mum', 'took', 'unhappy', 'riverdalei', 'omo', '179', 'sim', 'itim', 'mon', 'friendsjust', 'stunning', 'used', '1500', 'alreadywhys', 'upfront', 'dad', 'upsomeone', 'vulnerable', 'decent', 'displays', 'plustbh', 'purchased', 'headphones', 'peoples', 'nofilter', 'darkwatch', 'dualipajust', 'notch', '6', 'something', 'untill', 'asapi', 'see', 'august', 'wellthe', 'nyc', 'especially', 'behind', 'stupid', 'sexiest', 'owned', 'zar', '50', 'knows', 'including', 'youtube0ercfyjqhn0a', 'poor', 'it100', 'thankswhen', 'bottom', 'regular', '78', 'paying', 'xthose', 'mate', 'xokay', 'show', 'earlier', 'ui', 'rather', 'where', 'reserve', 'has', 'freehold', 'cabinet', 'investment', 'may3', 'henrywood2142', 'payment', 'way', 'harder', 'advantage', 'nokia', 'come', 'counterpartsi', 'twittercomgodsperfection', 'bout', 'never', 'prontomore', 'promotion', 'loved', 'psychopath', 'match', 'concerns', 'lots', 'mac', 'custom', 'screenlooking', 'dick', 'wonderful', 'unlockedtryna', 'refine', 'lens', 'animojis', 'latest', 'folk', '16', 'futurei', 'call', 'akhirnya', 'priced', 'swhen', 'hours', 'thugnology', 'nominate', 'ear', 'emote', 'plusim', '2', 'bugs', 'tht', 'fell', 'the', 'full', 'pictwittercomh6anld8kpy', 'pictwittercomuhpefph8yni', 'thing', 'todaybest', 'replying', 'goodthat', 'reviewsso', 'maybe', 'without', 'lmk', 'putting', 'hai', 'tweakin', 'win', 'co', 'ios', 'works', 'benefiti', 'estimates', 'decision', 'constantlydaily', 'tculpan', 'store', 'salesomeone', 'n', 'originally', 'developers', 'youtubeso', 'screenshots', 'father', '90k', 'test', 'blow', 'minute', 'afford', 'ifttt2ynoaib', '926235033358155777', 'problem', 'thread', 'orders', 'upsetting', 'resort', 'incredible', 'gunna', 'fresh', 'methis', 'wedding', 'couldnt', 'honest', 'concludes', 'shared', 'firstworldproblemshate', 'hype', 'let', 'generally', 'calling', 'beechloren02', 'thingi', 'rts', 'vem', 'augmented', 'lolrt', '1063', 'cognitivedissonancereturning', 'georgia', 'gets', 'whos', 'great', 'retweet', 'thinking', 'day', 'freak', 'explains', 'weekend', 'news', 'success', 'britney', 'man', '256g', 'severity', 'id', 'prove', 'thoughcant', 'seemed', 'kind', 'taxation', 'parent', 'xwait', 'sooooo', 'thr', 'superior', 'shouldbuy', 'ship', 'product', 'reasonable', '1010', 'networks', 'one', 'cyber', '8need', 'starsi', 'displayor', 'visit', 'all', 'europe', 'specifically', 'shows', 'twittercommaroc_telecom', 'whether', 'ppl', 'badthat', '24k', 'green', 'buggati', 'sundar', 'bullshit', 'fuck', 'redesign', 'gotten', 'your', 'should', 'hoping', 'shifting', 'grandpa', 'personal', 'click', 'everythingdamn', 'coldmy', 'got', 'pictwittercomj5zkczudnilmao', 'reallyyyyy', 'vagaries', 'thxyeah', 'half', '8plus', 'even', 'system', 'more', 'son', 'others', 'cards', 'whilst', 'justified', 'heard', 'fourth', 'itapple', 'degrees', 'rack', '100200', 'keyboard', '1after', 'cali', 'background', 'easy', 'appreciated', 'ifttt2hnqh9i', 'label', 'ministers', 'unlocked', 'ownershipits', 'af', 'drawls', 'xthe', 'animoji', 'ill', '300', 'deal', 'leastthats', 'controlbesides', 'purposely', 'piece', 'avatars', 'searcher', 'insurance', 'someday', 'many', 'fucked', 'horrible', 'dumb', 'cop', 'stories', 'lame', '999', 'talked', 'desired', 'everythinghey', 'amount', 'gigabit', 'abroad', 'twittercombusinessinside', 'camp', 'anddddd', 'might', 'capability', 'outright', 'dislike', 'haha', 'woman', 'nov', 'smashing', 'for', 'infoi', 'lightning', 'long', 'omg', 'sync', 'aldi', 'gesture', 'january', 'thankssee', 'pushing', 'broke', 'ughhhits', 'screenshot', 'questionable', 'screaming', 'slowing', 'y3', 'outyesterday', 'bring', 'needless', 'trees', 'produce', 'sales', 'dude', 'niis', 'moneyi', 'themi', 'make', 'set', 'in', 'playlist', 'official', 'pictwittercomjixvit1k0swhy', 'charged', 'spendbeen', 'although', '1k', 'badwe', 'adopted', '395', 'obviously', 'trading', 'portrait', 'messing', 'features', 'fasthey', 'dream', 'requires', 'machinery', 'deb', 'phone', 'ucstarfest', 'app', 'an', 'smarter', 'mins', 'lowkey', 'morons', 'anymore', 'scituate', 'twittercomolajvdestatus', 'confused', 'sidesliterally', 'sadly', 'laterif', 'photo', 'uglier', 'wants', 'normal', 'motherfuckers', 'twitter', 'life', 'rep', 'sena', 'front', 'problems', 'elsewhere', 'sample', 'cant', 'temps', 'need', 'joeygraceffa', 'replacement', 'werent', 'polaroidyour', 'rolling', 'almost', 'notchbad', 'hon', '20', 'tabs', 'shoes', 'far', 'justify', 'phonei', 'collapse', 'computer', 'wendy', 'olds', 'shit', 'apples', 'wtfreally', 'wi', 'casey', 'replacinglove', 'prereleasethe', 'mps', '1rst', 'prize', 'isgod', 'copied', 'stores', 'youre', 'deadass', 'australiareturned', 'held', 'changing', 'february', 'xyou', 'manager', 'kidneyno', '1068026546504548352', 'enter', 'unclaimed', 'xapple', 'hell', 'placed', 'rated', 'danggg', 'buyingi', 'makes', 'bogo', 'checked', 'chose', 'and', 'mehn', 'treesi', 'insanely', 'applehow', 'home', 'two', 'tomorrow', 'prefer', 'edition', 'knowwww', 'night', 'badoh', 'spent', 'dec', 'usual', 'swapped', 'casinothe', 'reach', 'thoughtoday', 'christmas', 'owni', 'fast', 'samsungs', 'sign', 'says', 'thingim', 'iphone7', 'likely', 'sugardaddy', 'misses', 'they', 'haptics', 'build', 'looking', 'reported', 'want', 'spoken', 'itll', 'smthnnice', 'smhi', 'spare', 'yall', 'scroll', 'hope', 'beli', 'charging', '370', 'jailbreak', 'noticeable', '2017', 'iphone', 'sizehow', '4sapple', 'receive', 'idea', 'offered', 'annoying']\n"
     ]
    }
   ],
   "source": [
    "def make_unique_li(li_cleanText):\n",
    "    unique_words_set= set(li_cleanText)\n",
    "    unique_word_li = list(unique_words_set)\n",
    "    return unique_word_li\n",
    "\n",
    "\n",
    "def stemmed(li_cleanText):\n",
    "    count_stemed=0\n",
    "    for word in li_cleanText:\n",
    "        if word[-1]==\"s\":\n",
    "            li_cleanText[count_stemed]=word[:-1]\n",
    "        elif word[-2:]==\"ed\":\n",
    "            li_cleanText[count_stemed]=word[:-2]\n",
    "        elif word[-3:]==\"ing\":\n",
    "            li_cleanText[count_stemed]=word[:-3]\n",
    "        count_stemed+=1  \n",
    "    return li_cleanText   \n",
    "# li_stemmed = stemmed(li_cleaned_text)\n",
    "uniqueWords = make_unique_li(li_cleaned_text)\n",
    "print(uniqueWords)"
   ]
  },
  {
   "cell_type": "code",
   "execution_count": 7,
   "metadata": {},
   "outputs": [],
   "source": [
    "def DocVector():\n",
    "    data=np.zeros([final_df['class'].count(), len(uniqueWords)])\n",
    "    docVector1=pd.DataFrame(data,columns=uniqueWords)\n",
    "    docVector=docVector1.assign(PurchaseIntention = list(final_df['class']))\n",
    "    # docVector['Purchase Intention'] = final_df['class']\n",
    "    # print(docVector['PurchaseIntention'])\n",
    "    doc_count = 0\n",
    "    for doc in final_df['text']:\n",
    "        words = doc.split()\n",
    "        for word in words:\n",
    "            temp=word.lower()\n",
    "            if temp in docVector.columns:\n",
    "                docVector.at[doc_count, temp] += 1\n",
    "        doc_count += 1\n",
    "        \n",
    "    return docVector\n",
    "\n",
    "\n",
    "docVector = DocVector()  "
   ]
  },
  {
   "cell_type": "code",
   "execution_count": 8,
   "metadata": {},
   "outputs": [
    {
     "name": "stdout",
     "output_type": "stream",
     "text": [
      "total PI  481\ntotal non PI  274\n"
     ]
    },
    {
     "name": "stdout",
     "output_type": "stream",
     "text": [
      "prob pos  0.6370860927152318\nprob_neg  0.3629139072847682\n"
     ]
    }
   ],
   "source": [
    "def WordGivenNoPI(tempNegDocVector):\n",
    "    data=np.zeros([1,len(uniqueWords)])\n",
    "    wordGivenNoPI=pd.DataFrame(data,columns=uniqueWords)\n",
    "    columnSum = tempNegDocVector.sum(axis = 1, skipna = True)\n",
    "    numWordsInNoPI = columnSum.sum()\n",
    "    \n",
    "    for word in uniqueWords:\n",
    "        nk_wordinNoPI = tempNegDocVector[word].sum()\n",
    "        wordGivenNoPI.at[0,word] = (nk_wordinNoPI+1) / (numWordsInNoPI+len(uniqueWords))\n",
    "    return  (wordGivenNoPI , numWordsInNoPI)\n",
    "    \n",
    "    \n",
    "def TrainModel():\n",
    "    yesCount=docVector[\"PurchaseIntention\"]==\"yes\"\n",
    "    tempPosDocVector = docVector[yesCount]\n",
    "    totalPI = tempPosDocVector[\"PurchaseIntention\"].count()\n",
    "    print(\"total PI \",totalPI)\n",
    "    \n",
    "    noCount=docVector[\"PurchaseIntention\"]==\"no\"\n",
    "    tempNegDocVector = docVector[noCount]\n",
    "    # print(tempNegDocVector[\"PurchaseIntention\"])\n",
    "    totalNonPI = tempNegDocVector[\"PurchaseIntention\"].count()\n",
    "    print(\"total non PI \",totalNonPI)\n",
    "    # print(totalPI+totalNonPI)\n",
    "    # totalNonPI = docVector[\"PurchaseIntention\"].count() - totalPI\n",
    "    total = totalPI+totalNonPI\n",
    "    Prob_PI = totalPI/total\n",
    "    Prob_NoPI = totalNonPI/total\n",
    "    \n",
    "    data=np.zeros([1,len(uniqueWords)])\n",
    "    wordGivenPI=pd.DataFrame(data,columns=uniqueWords)\n",
    "    columnSum = tempPosDocVector.sum(axis = 1, skipna = True)\n",
    "    numWordsInPI = columnSum.sum()\n",
    "    \n",
    "    for word in uniqueWords:\n",
    "        nk_wordinPI = tempPosDocVector[word].sum()\n",
    "        wordGivenPI.at[0,word] = (nk_wordinPI+1) / (numWordsInPI+len(uniqueWords))\n",
    "        \n",
    "    df_wordGivenNoPI , numWordsInNoPI= WordGivenNoPI(tempNegDocVector) \n",
    "    return (wordGivenPI,df_wordGivenNoPI,Prob_PI,Prob_NoPI,numWordsInPI,numWordsInNoPI)\n",
    "   \n",
    "\n",
    "df_WordGivenPI,df_WordGivenNoPi,Prob_PI,Prob_NoPI,numWordsInPI,numWordsInNoPI = TrainModel()\n",
    "print(\"prob pos \",Prob_PI)\n",
    "print(\"prob_neg \",Prob_NoPI)"
   ]
  },
  {
   "cell_type": "code",
   "execution_count": 9,
   "metadata": {
    "collapsed": true
   },
   "outputs": [],
   "source": [
    "def Predict():\n",
    "    test_path=\"E:/DATA/Sem8/fyp/test data/Testing.csv\"\n",
    "    test_data,test_df=Extract(test_path)\n",
    "    # test_data = test_data.assign(PredictedClass= list(test_data['text']))\n",
    "    # test_data = test_data[['class', 'PredictedClass', 'text']]\n",
    "    # print(test_data[\"text\"].count())\n",
    "    predict_df=pd.DataFrame()\n",
    "    weighPI=Prob_PI\n",
    "    weighNoPI=Prob_NoPI\n",
    "    count_test=0\n",
    "    for sentence in test_data['text']:\n",
    "        # print(count_test)\n",
    "        for word in sentence.lower().split():\n",
    "            if word in uniqueWords:\n",
    "                weighPI = weighPI * df_WordGivenPI.at[0,word]\n",
    "                weighNoPI = weighNoPI * df_WordGivenNoPi.at[0,word]\n",
    "            else:\n",
    "                 weighPI = weighPI * (1/(numWordsInPI+len(uniqueWords)))\n",
    "                 weighNoPI = weighNoPI * (1/(numWordsInNoPI+len(uniqueWords)))\n",
    "        predict_df.at[count_test,'WeightPI'] = weighPI    \n",
    "        if weighPI > weighNoPI:\n",
    "            predict_df.at[count_test,'PredictedClass'] = 'yes'\n",
    "            # print(test_data.at[count_test,'text'],test_data.at[count_test,'PredictedClass'])\n",
    "        else:\n",
    "           predict_df.at[count_test,'PredictedClass'] = 'no'\n",
    "           # print(test_data.at[count_test,'text'],test_data.at[count_test,'PredictedClass'])\n",
    "            \n",
    "        count_test += 1\n",
    "        weighPI = Prob_PI\n",
    "        weighNoPI = Prob_NoPI     \n",
    "    return predict_df, test_data  \n",
    "    \n",
    "    \n",
    "    # print(\"PI weight {0} No PI weight{1}\".format(weighPI,weighNoPI))        \n",
    "\n",
    "\n",
    "predict_df, test_data = Predict()        \n",
    "\n"
   ]
  },
  {
   "cell_type": "code",
   "execution_count": 10,
   "metadata": {
    "collapsed": true
   },
   "outputs": [
    {
     "name": "stdout",
     "output_type": "stream",
     "text": [
      "TP 176 , FN 27, TN 23, FP 27\n"
     ]
    }
   ],
   "source": [
    "def ConfusionMatrix():\n",
    "    TP=0\n",
    "    TN=0\n",
    "    FP=0\n",
    "    FN=0\n",
    "    for i in range(test_data['class'].count()):\n",
    "        # print(test_data.iloc[i]['class'],\" \",predict_df.iloc[i]['PredictedClass'] )\n",
    "        if test_data.iloc[i]['class'] == \"yes\" and predict_df.iloc[i]['PredictedClass'] == \"yes\":\n",
    "            TP += 1\n",
    "        elif test_data.iloc[i]['class'] == \"yes\" and predict_df.iloc[i]['PredictedClass']==\"no\":\n",
    "            FN += 1\n",
    "        elif test_data.iloc[i]['class'] == \"no\" and predict_df.iloc[i]['PredictedClass']==\"no\":\n",
    "            TN += 1\n",
    "        elif test_data.iloc[i]['class'] == \"no\" and predict_df.iloc[i]['PredictedClass'] == \"yes\":\n",
    "            FP += 1    \n",
    "    return (TP,FN,TN,FP) \n",
    " \n",
    " \n",
    "TP,FN,TN,FP = ConfusionMatrix()\n",
    "print(\"TP {0} , FN {1}, TN {2}, FP {3}\".format(TP,FN,TN,FP))        "
   ]
  },
  {
   "cell_type": "code",
   "execution_count": 12,
   "metadata": {},
   "outputs": [
    {
     "name": "stdout",
     "output_type": "stream",
     "text": [
      "Accuracy =  0.7865612648221344\nPrecision =  0.8669950738916257\nRecall =  0.8669950738916257\nfScore =  0.8669950738916257\n"
     ]
    }
   ],
   "source": [
    "def Accuracy():\n",
    "    accuracy=(TP+TN)/(TP+FP+FN+TN)\n",
    "    # print(\"Accuracy =\",accuracy)\n",
    "    return accuracy\n",
    "   \n",
    "def Precision():\n",
    "    precision =  TP/(TP+FP)\n",
    "    # print(\"Precision = \",precision)\n",
    "    return precision\n",
    "\n",
    "def Recall():\n",
    "    recall = TP/(TP+FN)\n",
    "    # print(\"Recall = \",recall)\n",
    "    return recall\n",
    "    \n",
    "def fScore():\n",
    "    F1 = 2*(Recall() * Precision()) / (Recall() + Precision())\n",
    "    # print(\"f measure\",F1)\n",
    "    return F1\n",
    "\n",
    "\n",
    "print(\"Accuracy = \",Accuracy())\n",
    "print(\"Precision = \",Precision())\n",
    "print(\"Recall = \",Recall())\n",
    "print(\"fScore = \",fScore())"
   ]
  },
  {
   "cell_type": "code",
   "execution_count": null,
   "metadata": {},
   "outputs": [
    {
     "data": {
      "text/plain": [
       "<Figure size 640x480 with 1 Axes>"
      ]
     },
     "execution_count": 0,
     "metadata": {},
     "output_type": "execute_result"
    }
   ],
   "source": [
    "# # import numpy as np\n",
    "# from sklearn.metrics import roc_curve\n",
    "# import matplotlib.pyplot as plt\n",
    "# import matplotlib.pyplot as plt\n",
    "# y = test_data['class']\n",
    "# scores = predict_df['WeightPI']\n",
    "# fpr, tpr, thresholds = roc_curve(y, scores, pos_label=\"yes\")\n",
    "# \n",
    "# # print(thresholds)\n",
    "# plt.plot(fpr, tpr)\n",
    "# \n",
    "# plt.show()\n"
   ]
  }
 ],
 "metadata": {
  "kernelspec": {
   "display_name": "Python 3",
   "language": "python",
   "name": "python3"
  },
  "language_info": {
   "codemirror_mode": {
    "name": "ipython",
    "version": 3
   },
   "file_extension": ".py",
   "mimetype": "text/x-python",
   "name": "python",
   "nbconvert_exporter": "python",
   "pygments_lexer": "ipython3",
   "version": "3.7.0"
  }
 },
 "nbformat": 4,
 "nbformat_minor": 1
}
